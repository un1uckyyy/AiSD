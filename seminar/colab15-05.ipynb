{
 "cells": [
  {
   "cell_type": "markdown",
   "id": "ab2dc9a1ff863c4",
   "metadata": {
    "collapsed": false
   },
   "source": [
    "#35.8 Создайте двусвязный список для хранения информации о задачах в проекте по разработке программного обеспечения. Каждый элемент списка должен содержать название задачи, описание, дату начала и дату окончания, а также информацию о том, какие разработчики работают над этой задачей."
   ]
  },
  {
   "cell_type": "code",
   "execution_count": 30,
   "id": "82645a27b08c2bee",
   "metadata": {
    "ExecuteTime": {
     "end_time": "2024-05-15T09:04:08.913296400Z",
     "start_time": "2024-05-15T09:04:08.886509700Z"
    },
    "collapsed": false
   },
   "outputs": [],
   "source": [
    "# <-> Linked list\n",
    "\n",
    "class Node2:\n",
    "    def __init__(self, info={}):\n",
    "        self.info = info\n",
    "        self.next = None\n",
    "        self.previous = None\n",
    "\n",
    "    def __str__(self):\n",
    "        return f'Node2({self.info['task']})'\n",
    "\n",
    "\n",
    "class LinkedList2:\n",
    "    def __init__(self):\n",
    "        self.head = None\n",
    "        self.tail = None\n",
    "\n",
    "    def __iter__(self):\n",
    "        node = self.head\n",
    "        while node.next is not None:\n",
    "            yield node\n",
    "            node = node.next\n",
    "        yield node\n",
    "\n",
    "    def __len__(self):\n",
    "        ans = 0\n",
    "        for _ in self:\n",
    "            ans += 1\n",
    "        return ans\n",
    "\n",
    "    def append(self, value):\n",
    "        node = Node2(value)\n",
    "        if self.tail is None:\n",
    "            self.tail = node\n",
    "            self.head = node\n",
    "        else:\n",
    "            self.tail.next = node\n",
    "            node.previous = self.tail\n",
    "            self.tail = node\n",
    "\n",
    "    def insert(self, value):\n",
    "        node = Node2(value)\n",
    "        if self.head is None:\n",
    "            self.head = node\n",
    "            self.tail = node\n",
    "        else:\n",
    "            self.head.previous = node\n",
    "            node.next = self.head\n",
    "            self.head = node\n",
    "\n",
    "    def __str__(self):\n",
    "        return ' <-> '.join(list(str(el) for el in self))\n"
   ]
  },
  {
   "cell_type": "code",
   "execution_count": 31,
   "id": "d8ad1a5368e4d41b",
   "metadata": {
    "collapsed": false
   },
   "outputs": [
    {
     "name": "stdout",
     "output_type": "stream",
     "text": [
      "head: Node2(Frontend task) tail: Node2(deployment)\n",
      "\n",
      "Node2(Frontend task) <-> Node2(Backend task) <-> Node2(deployment)\n",
      "len 3\n"
     ]
    }
   ],
   "source": [
    "s1 = {\n",
    "    \"task\": \"Backend task\",\n",
    "    \"description\": \"Python django project\",\n",
    "    \"start\": \"1 January\",\n",
    "    \"end\": \"1 June\",\n",
    "    \"developers\": [\"developer1\", \"developer2\"]\n",
    "}\n",
    "s2 = {\n",
    "    \"task\": \"Frontend task\",\n",
    "    \"description\": \"JS React project\",\n",
    "    \"start\": \"1 January\",\n",
    "    \"end\": \"1 June\",\n",
    "    \"developers\": [\"front1\", \"front2\"]    \n",
    "}\n",
    "s3 = {\n",
    "    \"task\": \"deployment\",\n",
    "    \"description\": \"deploy of django + react\",\n",
    "    \"start\": \"1 June\",\n",
    "    \"end\": \"1 July\",\n",
    "    \"developers\": [\"devops1\", \"team lead\"]    \n",
    "}\n",
    "\n",
    "ll2 = LinkedList2()\n",
    "\n",
    "ll2.append(s1)\n",
    "ll2.insert(s2)\n",
    "ll2.append(s3)\n",
    "\n",
    "print(\"head:\", ll2.head, \"tail:\", ll2.tail)\n",
    "print()\n",
    "print(ll2)\n",
    "print('len', len(ll2))"
   ]
  },
  {
   "cell_type": "markdown",
   "id": "5b63166c59d3bcdb",
   "metadata": {
    "collapsed": false
   },
   "source": [
    "Реализовать функцию, которая находит пересечение двух двусвязных списков."
   ]
  },
  {
   "cell_type": "code",
   "execution_count": 32,
   "id": "68ba4fb8-f0c2-4526-96dd-9b33df09baf7",
   "metadata": {},
   "outputs": [],
   "source": [
    "def intersection(head1, head2):\n",
    "    ptr1 = head1\n",
    "    ptr2 = head2\n",
    "\n",
    "    while ptr1 and ptr2:\n",
    "        if ptr1.val == ptr2.val:\n",
    "            return ptr1.val\n",
    "\n",
    "        elif ptr1.val < ptr2.val:\n",
    "            ptr1 = ptr1.next\n",
    "        else:\n",
    "            ptr2 = ptr2.next\n",
    "    return None\n"
   ]
  }
 ],
 "metadata": {
  "kernelspec": {
   "display_name": "Python 3 (ipykernel)",
   "language": "python",
   "name": "python3"
  },
  "language_info": {
   "codemirror_mode": {
    "name": "ipython",
    "version": 3
   },
   "file_extension": ".py",
   "mimetype": "text/x-python",
   "name": "python",
   "nbconvert_exporter": "python",
   "pygments_lexer": "ipython3",
   "version": "3.12.1"
  }
 },
 "nbformat": 4,
 "nbformat_minor": 5
}
