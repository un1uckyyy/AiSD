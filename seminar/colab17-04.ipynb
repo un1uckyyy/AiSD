{
 "cells": [
  {
   "cell_type": "markdown",
   "source": [
    "а) Используя лямбда-функцию, из текущего времени извлеките год, месяц, дату и время.\n",
    "б) Вычислите сумму положительных и отрицательных чисел заданного списка чисел, используя лямбда-функцию.\n",
    "в) Для подсчёта вхождений элементов в заданный список используйте лямбда-функцию. Пример: [3, 4, 5, 8, 0, 3, 8, 5, 0, 3, 1, 5, 2, 3, 4, 2] → {3: 4, 4: 2, 5: 3, 8: 2, 0: 2, 1: 1, 2: 2}."
   ],
   "metadata": {
    "collapsed": false
   },
   "id": "3d51bdd4aaceafaf"
  },
  {
   "cell_type": "code",
   "outputs": [
    {
     "name": "stdout",
     "output_type": "stream",
     "text": [
      "2024-04-15 23:07:43\n"
     ]
    }
   ],
   "source": [
    "# 28 a)\n",
    "import time\n",
    "\n",
    "\n",
    "f = lambda t: time.strftime(\"%Y-%m-%d %H:%M:%S\", time.localtime(t))\n",
    "current_time = time.time()\n",
    "print(f(current_time))"
   ],
   "metadata": {
    "collapsed": false,
    "ExecuteTime": {
     "end_time": "2024-04-15T20:07:43.679832700Z",
     "start_time": "2024-04-15T20:07:43.661820800Z"
    }
   },
   "id": "a431fc5ec8236998",
   "execution_count": 23
  },
  {
   "cell_type": "code",
   "outputs": [
    {
     "name": "stdout",
     "output_type": "stream",
     "text": [
      "сумма положительных: 31\n",
      "сумма отрицательных: -3\n"
     ]
    }
   ],
   "source": [
    "# 28 b)\n",
    "\n",
    "arr = [1, 2, -1, -2, 5, 6, 7, 10]\n",
    "print('сумма положительных:', sum(filter(lambda x: x > 0, arr)))\n",
    "print('сумма отрицательных:', sum(filter(lambda x: x < 0, arr)))\n"
   ],
   "metadata": {
    "collapsed": false,
    "ExecuteTime": {
     "end_time": "2024-04-15T20:07:45.024421100Z",
     "start_time": "2024-04-15T20:07:45.019400700Z"
    }
   },
   "id": "1d0760d3ef6ac915",
   "execution_count": 24
  },
  {
   "cell_type": "code",
   "outputs": [
    {
     "name": "stdout",
     "output_type": "stream",
     "text": [
      "{0: 2, 1: 1, 2: 2, 3: 4, 4: 2, 5: 3, 8: 2}\n",
      "True\n"
     ]
    }
   ],
   "source": [
    "# 28 в)\n",
    "\n",
    "arr0 = [3, 4, 5, 8, 0, 3, 8, 5, 0, 3, 1, 5, 2, 3, 4, 2]\n",
    "d = dict(map(lambda x: (x, arr0.count(x)), set(arr0)))\n",
    "print(d)\n",
    "print(d == {3: 4, 4: 2, 5: 3, 8: 2, 0: 2, 1: 1, 2: 2})\n"
   ],
   "metadata": {
    "collapsed": false,
    "ExecuteTime": {
     "end_time": "2024-04-15T20:13:35.553889100Z",
     "start_time": "2024-04-15T20:13:35.490821600Z"
    }
   },
   "id": "ea720067e37d731",
   "execution_count": 26
  },
  {
   "cell_type": "markdown",
   "source": [
    "а) Преобразуйте заданный список целых чисел и кортеж целых чисел в список строк. Пример: [1, 2, 3, 4], (0, 1, 2, 3) → ['1', '2', '3', '4'], ('0', '1', '2', '3').\n",
    "б) Сгенерировать список целых чисел. С помощью функции filter() выбрать из списка все числа меньше заданного числа и упорядочить их по возрастанию. Используя функцию reduce(), найти их произведение."
   ],
   "metadata": {
    "collapsed": false
   },
   "id": "ecf8788f7360cafa"
  },
  {
   "cell_type": "code",
   "outputs": [
    {
     "name": "stdout",
     "output_type": "stream",
     "text": [
      "['1', '2', '3', '4']\n",
      "('0', '1', '2', '3')\n"
     ]
    }
   ],
   "source": [
    "# 29 a)\n",
    "list1 = [1, 2, 3, 4]\n",
    "tuple1 = (0, 1, 2, 3)\n",
    "print(list(map(lambda x: str(x), list1)))\n",
    "print(tuple(map(lambda x: str(x), tuple1)))"
   ],
   "metadata": {
    "collapsed": false,
    "ExecuteTime": {
     "end_time": "2024-04-15T20:16:21.764232200Z",
     "start_time": "2024-04-15T20:16:21.747091300Z"
    }
   },
   "id": "a86ed7dcdd9d04eb",
   "execution_count": 28
  },
  {
   "cell_type": "code",
   "outputs": [
    {
     "name": "stdout",
     "output_type": "stream",
     "text": [
      "-9, -6, -5, -2, -1\n",
      "-540\n"
     ]
    }
   ],
   "source": [
    "# 29 b)\n",
    "import random\n",
    "from functools import reduce\n",
    "\n",
    "\n",
    "list2 = [random.randint(-10, 10) for _ in range(10)]\n",
    "value = int(input())\n",
    "filtered = sorted(filter(lambda x: x < value, list2))\n",
    "print(*filtered, sep=', ')\n",
    "print(reduce(lambda x, y: x * y, filtered))"
   ],
   "metadata": {
    "collapsed": false,
    "ExecuteTime": {
     "end_time": "2024-04-15T20:25:38.151644100Z",
     "start_time": "2024-04-15T20:25:37.000524900Z"
    }
   },
   "id": "a6052c0f2d02933f",
   "execution_count": 34
  },
  {
   "cell_type": "markdown",
   "source": [
    "а) Создайте декоратор, который будет логировать ошибки, возникающие при выполнении функции, и отправлять уведомления об этих ошибках.\n",
    "б) Создайте декоратор, который будет принимать словарь аргументов и передавать его в функцию с заданными значениями по умолчанию."
   ],
   "metadata": {
    "collapsed": false
   },
   "id": "46eadd5ab048dbcc"
  },
  {
   "cell_type": "code",
   "outputs": [
    {
     "name": "stdout",
     "output_type": "stream",
     "text": [
      "error!!! division by zero\n",
      "None\n"
     ]
    }
   ],
   "source": [
    "# 30 a)\n",
    "def logging_errors_decorator(func):\n",
    "    \n",
    "    def wrapper(*args, **kwargs):\n",
    "        try:\n",
    "            return func(*args, **kwargs)\n",
    "        except Exception as e:\n",
    "            print(\"error!!!\", e)\n",
    "            return \n",
    "    return wrapper\n",
    "\n",
    "\n",
    "@logging_errors_decorator\n",
    "def example_func(x, y):\n",
    "    return x / y\n",
    "\n",
    "res = example_func(10, 0)\n",
    "print(res)\n"
   ],
   "metadata": {
    "collapsed": false,
    "ExecuteTime": {
     "end_time": "2024-04-15T20:37:21.036018100Z",
     "start_time": "2024-04-15T20:37:21.032019600Z"
    }
   },
   "id": "2d816835fe0838fa",
   "execution_count": 38
  },
  {
   "cell_type": "code",
   "outputs": [
    {
     "name": "stdout",
     "output_type": "stream",
     "text": [
      "6\n"
     ]
    }
   ],
   "source": [
    "# 30 b)\n",
    "\n",
    "def with_default_args(default_args):\n",
    "    def decorator(func):\n",
    "        def wrapper(*args, **kwargs):\n",
    "            merged_args = default_args.copy()\n",
    "            merged_args.update(kwargs)\n",
    "            return func(*args, **merged_args)\n",
    "        return wrapper\n",
    "    return decorator\n",
    "\n",
    "\n",
    "@with_default_args({\"x\": 1, \"y\": 2})\n",
    "def example_function_with_defaults(x, y, z=0):\n",
    "    return x + y + z\n",
    "\n",
    "result = example_function_with_defaults(z=3)\n",
    "print(result)\n"
   ],
   "metadata": {
    "collapsed": false,
    "ExecuteTime": {
     "end_time": "2024-04-15T20:41:15.007686700Z",
     "start_time": "2024-04-15T20:41:14.986795600Z"
    }
   },
   "id": "8e32a21f40d39cd1",
   "execution_count": 40
  }
 ],
 "metadata": {
  "kernelspec": {
   "display_name": "Python 3",
   "language": "python",
   "name": "python3"
  },
  "language_info": {
   "codemirror_mode": {
    "name": "ipython",
    "version": 2
   },
   "file_extension": ".py",
   "mimetype": "text/x-python",
   "name": "python",
   "nbconvert_exporter": "python",
   "pygments_lexer": "ipython2",
   "version": "2.7.6"
  }
 },
 "nbformat": 4,
 "nbformat_minor": 5
}
