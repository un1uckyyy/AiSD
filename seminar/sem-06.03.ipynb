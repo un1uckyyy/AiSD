{
 "cells": [
  {
   "cell_type": "code",
   "execution_count": 28,
   "metadata": {
    "collapsed": true,
    "ExecuteTime": {
     "end_time": "2024-03-06T09:43:19.729047200Z",
     "start_time": "2024-03-06T09:43:19.708578400Z"
    }
   },
   "outputs": [
    {
     "name": "stdout",
     "output_type": "stream",
     "text": [
      "Student('ANNA')\n",
      "True\n"
     ]
    }
   ],
   "source": [
    "# 1\n",
    "class Student:\n",
    "    def __init__(self, name=None):\n",
    "        self.name = name\n",
    "\n",
    "    def set_name(self, name):\n",
    "        self.name = name\n",
    "\n",
    "    def get_name(self):\n",
    "        return self.name\n",
    "\n",
    "    def __str__(self):\n",
    "        return f\"Student('{self.name}')\"\n",
    "\n",
    "\n",
    "s = Student()\n",
    "s.set_name(\"ANNA\")\n",
    "print(s)\n",
    "s1 = eval(s.__str__())\n",
    "print(isinstance(s1, Student))\n"
   ]
  },
  {
   "cell_type": "code",
   "execution_count": 29,
   "outputs": [
    {
     "name": "stdout",
     "output_type": "stream",
     "text": [
      "Product('500')\n",
      "500\n"
     ]
    }
   ],
   "source": [
    "# 2\n",
    "class Product:\n",
    "    def __init__(self, price=None):\n",
    "        self.price = price\n",
    "\n",
    "    def set_price(self, price):\n",
    "        self.price = price\n",
    "\n",
    "    def get_price(self):\n",
    "        return self.price\n",
    "\n",
    "    def __str__(self):\n",
    "        return f\"Product('{self.price}')\"\n",
    "\n",
    "\n",
    "p = Product()\n",
    "p.set_price(500)\n",
    "print(p)\n",
    "print(p.get_price())"
   ],
   "metadata": {
    "collapsed": false,
    "ExecuteTime": {
     "end_time": "2024-03-06T09:47:03.048131800Z",
     "start_time": "2024-03-06T09:47:03.038157500Z"
    }
   }
  },
  {
   "cell_type": "code",
   "execution_count": null,
   "outputs": [],
   "source": [
    "# 4\n",
    "class Soda:\n",
    "    def __init__(self, taste=None):\n",
    "        self.taste = taste\n",
    "\n",
    "    def show_my_drink(self):\n",
    "        if self.taste is None:\n",
    "            print(\"Обычная газировка\")\n",
    "            return\n",
    "        else:\n",
    "            print(f\"Газировка и {self.taste}\")\n",
    "            return\n"
   ],
   "metadata": {
    "collapsed": false
   }
  },
  {
   "cell_type": "code",
   "execution_count": 30,
   "outputs": [
    {
     "name": "stdout",
     "output_type": "stream",
     "text": [
      "500\n"
     ]
    }
   ],
   "source": [
    "# 6\n",
    "class KgToPounds:\n",
    "    def __init__(self, kg=None):\n",
    "        self.__kg = kg\n",
    "\n",
    "    def to_pounds(self):\n",
    "        return self.__kg * 2.205\n",
    "\n",
    "    def set_kg(self, new_kg):\n",
    "        if isinstance(new_kg, (int, float)):\n",
    "            self.__kg = new_kg\n",
    "        else:\n",
    "            raise ValueError('Килограммы задаются только числами')\n",
    "\n",
    "    @property\n",
    "    def kg(self):\n",
    "        return self.__kg\n",
    "\n",
    "    def get_kg(self):\n",
    "        return self.__kg\n",
    "\n",
    "\n",
    "k = KgToPounds(500)\n",
    "print(k.kg)"
   ],
   "metadata": {
    "collapsed": false,
    "ExecuteTime": {
     "end_time": "2024-03-06T09:52:48.418533500Z",
     "start_time": "2024-03-06T09:52:48.404573800Z"
    }
   }
  },
  {
   "cell_type": "code",
   "execution_count": 49,
   "outputs": [
    {
     "name": "stdout",
     "output_type": "stream",
     "text": [
      "Я не Макс, а Николай\n"
     ]
    }
   ],
   "source": [
    "# 7\n",
    "class Nikola:\n",
    "    def __init__(self, name, age):\n",
    "        self.age = age\n",
    "        self.name = name if name == \"Николай\" else f\"Я не {name}, а Николай\"\n",
    "\n",
    "\n",
    "n = Nikola(\"Макс\", 15)\n",
    "print(n.name)"
   ],
   "metadata": {
    "collapsed": false,
    "ExecuteTime": {
     "end_time": "2024-03-06T10:37:13.755706800Z",
     "start_time": "2024-03-06T10:37:13.734521200Z"
    }
   }
  },
  {
   "cell_type": "code",
   "execution_count": 48,
   "outputs": [
    {
     "name": "stdout",
     "output_type": "stream",
     "text": [
      "True\n",
      "True\n",
      "<function _ge_from_gt at 0x0000024F11078EE0>\n",
      "<slot wrapper '__ne__' of 'object' objects>\n"
     ]
    }
   ],
   "source": [
    "# 8\n",
    "from functools import total_ordering\n",
    "\n",
    "@total_ordering\n",
    "class RealString:\n",
    "    def __init__(self, value):\n",
    "        self.value = value\n",
    "\n",
    "    def __eq__(self, other):\n",
    "        if isinstance(other, str):\n",
    "            other = RealString(other)\n",
    "        return len(self.value) == len(other.value)\n",
    "\n",
    "    def __gt__(self, other):\n",
    "        if isinstance(other, str):\n",
    "            other = RealString(other)\n",
    "        return len(self.value) > len(other.value)\n",
    "\n",
    "\n",
    "s1 = RealString(\"asadsfsdf\")\n",
    "s2 = RealString(\"1234\")\n",
    "print(s1 > s2)\n",
    "print(\"12\" < s1)\n",
    "print(RealString.__ge__)\n",
    "print(RealString.__ne__)"
   ],
   "metadata": {
    "collapsed": false,
    "ExecuteTime": {
     "end_time": "2024-03-06T10:20:51.315393100Z",
     "start_time": "2024-03-06T10:20:51.307412800Z"
    }
   }
  }
 ],
 "metadata": {
  "kernelspec": {
   "display_name": "Python 3",
   "language": "python",
   "name": "python3"
  },
  "language_info": {
   "codemirror_mode": {
    "name": "ipython",
    "version": 2
   },
   "file_extension": ".py",
   "mimetype": "text/x-python",
   "name": "python",
   "nbconvert_exporter": "python",
   "pygments_lexer": "ipython2",
   "version": "2.7.6"
  }
 },
 "nbformat": 4,
 "nbformat_minor": 0
}
