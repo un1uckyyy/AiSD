{
 "cells": [
  {
   "cell_type": "code",
   "execution_count": 1,
   "id": "initial_id",
   "metadata": {
    "collapsed": true,
    "ExecuteTime": {
     "end_time": "2024-01-16T16:19:12.700663929Z",
     "start_time": "2024-01-16T16:19:12.699571825Z"
    }
   },
   "outputs": [
    {
     "name": "stdout",
     "output_type": "stream",
     "text": [
      "первый список:[31, 24, 17]\n",
      "второй список: [31, 24, 17]\n",
      "первый + второй список: [31, 24, 17, 31, 24, 17]\n"
     ]
    }
   ],
   "source": [
    "#1\n",
    "main = [31, 24, 17]\n",
    "\n",
    "first = main.copy()\n",
    "print(f'первый список:{main}')\n",
    "\n",
    "second = [i for i in main]\n",
    "print(f'второй список: {second}')\n",
    "\n",
    "third = first + second\n",
    "print(f'первый + второй список: {third}')"
   ]
  },
  {
   "cell_type": "code",
   "execution_count": null,
   "outputs": [],
   "source": [
    "#2.1/2.2/2.3\n",
    "\n",
    "a = input()\n",
    "\n",
    "print(list(a))\n",
    "\n",
    "print(a.split())\n",
    "\n",
    "print([i for i in a if i.isdigit()])\n"
   ],
   "metadata": {
    "collapsed": false
   },
   "id": "6b35a89751315c8"
  },
  {
   "cell_type": "code",
   "execution_count": null,
   "outputs": [],
   "source": [
    "#3\n",
    "a = input().split()\n",
    "if a[-1].isdigit(): a[-1] = int(a[-1])\n",
    "\n",
    "b = []\n",
    "\n",
    "if a[-2] == 'repeat' and str(a[-1]).isdigit():\n",
    "    for _ in range(a[-1]):\n",
    "        b.extend(a[:-2])\n",
    "\n",
    "    b.append(a[-2]); b.append(a[-1])\n",
    "    print(b)"
   ],
   "metadata": {
    "collapsed": false
   },
   "id": "16d82b0ad41c8a90"
  },
  {
   "cell_type": "code",
   "execution_count": null,
   "outputs": [],
   "source": [
    "#5.1/5.2\n",
    "print('Enter two integers')\n",
    "\n",
    "max_val = int(input())\n",
    "repeat = int(input())\n",
    "a, b, c = [], [], []\n",
    "\n",
    "for i in range(repeat):\n",
    "    for j in range(1, max_val + 1):\n",
    "        a.append(j)\n",
    "print(f'5.1 solve: {a}')\n",
    "\n",
    "if max_val == 10:\n",
    "    print()\n",
    "    left = repeat\n",
    "    right = - repeat\n",
    "    b.extend(a[:left]); b.extend(a[right:])\n",
    "    c.extend(a[left:right])\n",
    "    print(f'5.2 solve:\\nbegin and end of list: {b}\\nmiddle of list: {[i * 10 for i in c]}')\n"
   ],
   "metadata": {
    "collapsed": false
   },
   "id": "29389dc4bd2a3038"
  },
  {
   "cell_type": "code",
   "execution_count": null,
   "outputs": [],
   "source": [
    "#8\n",
    "\n",
    "a = input().split()\n",
    "b = input().split()\n",
    "c = []\n",
    "\n",
    "for i in range(len(a)):\n",
    "    c.append(a[i])\n",
    "    c.append(b[i])\n",
    "print(c)"
   ],
   "metadata": {
    "collapsed": false
   },
   "id": "c7f459fdf88da4fa"
  },
  {
   "cell_type": "code",
   "execution_count": null,
   "outputs": [],
   "source": [
    "#9\n",
    "a = input().split()\n",
    "b = input().split()\n",
    "c = list(zip(a, b))\n",
    "\n",
    "for i in range(len(c)):\n",
    "    print(*c[i], end = ' ')\n"
   ],
   "metadata": {
    "collapsed": false
   },
   "id": "113a4340e5f2b902"
  },
  {
   "cell_type": "code",
   "execution_count": null,
   "outputs": [],
   "source": [
    "#10\n",
    "\n",
    "a = input().split()\n",
    "\n",
    "n = int(input())\n",
    "\n",
    "b = a[: n]\n",
    "\n",
    "a = a[n:]; a.extend(b)\n",
    "print(*a)\n"
   ],
   "metadata": {
    "collapsed": false
   },
   "id": "c9e46ba178ae7d7b"
  },
  {
   "cell_type": "code",
   "execution_count": null,
   "outputs": [],
   "source": [
    "#17\n",
    "print(sorted(input().split()))\n"
   ],
   "metadata": {
    "collapsed": false
   },
   "id": "b02bd401a4189396"
  }
 ],
 "metadata": {
  "kernelspec": {
   "display_name": "Python 3",
   "language": "python",
   "name": "python3"
  },
  "language_info": {
   "codemirror_mode": {
    "name": "ipython",
    "version": 2
   },
   "file_extension": ".py",
   "mimetype": "text/x-python",
   "name": "python",
   "nbconvert_exporter": "python",
   "pygments_lexer": "ipython2",
   "version": "2.7.6"
  }
 },
 "nbformat": 4,
 "nbformat_minor": 5
}
