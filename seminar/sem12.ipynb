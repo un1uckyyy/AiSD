{
 "cells": [
  {
   "cell_type": "code",
   "execution_count": 104,
   "id": "initial_id",
   "metadata": {
    "collapsed": true,
    "ExecuteTime": {
     "end_time": "2024-02-07T09:54:41.993952618Z",
     "start_time": "2024-02-07T09:54:41.991824284Z"
    }
   },
   "outputs": [],
   "source": [
    "#2 Stack LIFO | стопка тарелок\n",
    "class Stack:\n",
    "    def __init__(self, max_len):\n",
    "        self.max_len = max_len\n",
    "        self.stack = []\n",
    "\n",
    "    def __len__(self):\n",
    "        return len(self.stack)\n",
    "\n",
    "    def push(self, el):\n",
    "        print(len(self))\n",
    "        assert len(self) < self.max_len, 'Stack is full'\n",
    "        self.stack.append(el)\n",
    "\n",
    "    def pop(self):\n",
    "        assert len(self) > 0, 'Stack is empty'\n",
    "        return self.stack.pop(-1)\n",
    "\n",
    "    def top(self):\n",
    "        assert len(self) > 0, 'Stack is empty'\n",
    "        return self.stack[-1]\n",
    "\n",
    "    def is_empty(self):\n",
    "        return len(self) == 0\n",
    "\n",
    "    def __str__(self):\n",
    "        return f'Stack({self.stack})'\n"
   ]
  },
  {
   "cell_type": "code",
   "execution_count": 105,
   "outputs": [
    {
     "name": "stdout",
     "output_type": "stream",
     "text": [
      "0\n",
      "1\n",
      "Stack([1, 2])\n"
     ]
    },
    {
     "ename": "AssertionError",
     "evalue": "Stack is empty",
     "output_type": "error",
     "traceback": [
      "\u001B[0;31m---------------------------------------------------------------------------\u001B[0m",
      "\u001B[0;31mAssertionError\u001B[0m                            Traceback (most recent call last)",
      "Cell \u001B[0;32mIn[105], line 11\u001B[0m\n\u001B[1;32m      7\u001B[0m \u001B[38;5;66;03m# s.push(3)\u001B[39;00m\n\u001B[1;32m      8\u001B[0m \u001B[38;5;66;03m# print(s)\u001B[39;00m\n\u001B[1;32m     10\u001B[0m s1 \u001B[38;5;241m=\u001B[39m Stack(\u001B[38;5;241m5\u001B[39m)\n\u001B[0;32m---> 11\u001B[0m \u001B[43ms1\u001B[49m\u001B[38;5;241;43m.\u001B[39;49m\u001B[43mpop\u001B[49m\u001B[43m(\u001B[49m\u001B[43m)\u001B[49m\n",
      "Cell \u001B[0;32mIn[104], line 16\u001B[0m, in \u001B[0;36mStack.pop\u001B[0;34m(self)\u001B[0m\n\u001B[1;32m     15\u001B[0m \u001B[38;5;28;01mdef\u001B[39;00m \u001B[38;5;21mpop\u001B[39m(\u001B[38;5;28mself\u001B[39m):\n\u001B[0;32m---> 16\u001B[0m     \u001B[38;5;28;01massert\u001B[39;00m \u001B[38;5;28mlen\u001B[39m(\u001B[38;5;28mself\u001B[39m) \u001B[38;5;241m>\u001B[39m \u001B[38;5;241m0\u001B[39m, \u001B[38;5;124m'\u001B[39m\u001B[38;5;124mStack is empty\u001B[39m\u001B[38;5;124m'\u001B[39m\n\u001B[1;32m     17\u001B[0m     \u001B[38;5;28;01mreturn\u001B[39;00m \u001B[38;5;28mself\u001B[39m\u001B[38;5;241m.\u001B[39mstack\u001B[38;5;241m.\u001B[39mpop(\u001B[38;5;241m-\u001B[39m\u001B[38;5;241m1\u001B[39m)\n",
      "\u001B[0;31mAssertionError\u001B[0m: Stack is empty"
     ]
    }
   ],
   "source": [
    "s = Stack(2)\n",
    "\n",
    "s.push(1)\n",
    "s.push(2)\n",
    "print(s)\n",
    "\n",
    "# s.push(3)\n",
    "# print(s)\n",
    "\n",
    "s1 = Stack(5)\n",
    "s1.pop()"
   ],
   "metadata": {
    "collapsed": false,
    "ExecuteTime": {
     "end_time": "2024-02-07T09:54:45.255160570Z",
     "start_time": "2024-02-07T09:54:45.234469307Z"
    }
   },
   "id": "3b9b9838189a51d0"
  },
  {
   "cell_type": "code",
   "execution_count": 106,
   "outputs": [],
   "source": [
    "#3, 3.1 -> Linked list\n",
    "\n",
    "class Node:\n",
    "    def __init__(self, value):\n",
    "        self.value = value\n",
    "        self.next = None\n",
    "\n",
    "    def __str__(self):\n",
    "        return f'Node({self.value})'\n",
    "\n",
    "\n",
    "class LinkedList:\n",
    "    def __init__(self):\n",
    "        self.head = None\n",
    "\n",
    "    def append(self, value):\n",
    "        node = Node(value)\n",
    "        if self.head is None:\n",
    "            self.head = node\n",
    "        else:\n",
    "            current = self.head\n",
    "            while current.next is not None:\n",
    "                current = current.next\n",
    "            current.next = node\n",
    "\n",
    "    def __iter__(self):\n",
    "        node = self.head\n",
    "        while node.next is not None:\n",
    "            yield node.value\n",
    "            node = node.next\n",
    "        yield node.value\n",
    "\n",
    "    def __len__(self):\n",
    "        ans = 0\n",
    "        for _ in self:\n",
    "            ans += 1\n",
    "        return ans\n",
    "\n",
    "    def __str__(self):\n",
    "        return ' -> '.join(list(str(el) for el in self))\n",
    "\n",
    "    def insert(self, value):\n",
    "        node = Node(value)\n",
    "        node.next = self.head\n",
    "        self.head = node\n",
    "\n"
   ],
   "metadata": {
    "collapsed": false,
    "ExecuteTime": {
     "end_time": "2024-02-07T09:54:47.469674563Z",
     "start_time": "2024-02-07T09:54:47.462384496Z"
    }
   },
   "id": "ef402e0403884d7e"
  },
  {
   "cell_type": "code",
   "execution_count": 107,
   "outputs": [
    {
     "name": "stdout",
     "output_type": "stream",
     "text": [
      "5\n",
      "6\n",
      "7\n",
      "len 3\n",
      "5 -> 6 -> 7\n",
      "4 -> 5 -> 6 -> 7\n"
     ]
    }
   ],
   "source": [
    "ll = LinkedList()\n",
    "ll.append(5)\n",
    "ll.append(6)\n",
    "ll.append(7)\n",
    "for i in ll:\n",
    "    print(i)\n",
    "\n",
    "print('len', len(ll))\n",
    "print(ll)\n",
    "ll.insert(4)\n",
    "print(ll)"
   ],
   "metadata": {
    "collapsed": false,
    "ExecuteTime": {
     "end_time": "2024-02-07T09:54:52.661401655Z",
     "start_time": "2024-02-07T09:54:52.617031054Z"
    }
   },
   "id": "2597f55256017d09"
  },
  {
   "cell_type": "code",
   "execution_count": 108,
   "outputs": [],
   "source": [
    "#4, 4.1 <-> Linked list\n",
    "\n",
    "class Node2:\n",
    "    def __init__(self, value):\n",
    "        self.value = value\n",
    "        self.next = None\n",
    "        self.previous = None\n",
    "\n",
    "    def __str__(self):\n",
    "        return f'Node2({self.value})'\n",
    "\n",
    "\n",
    "class LinkedList2:\n",
    "    def __init__(self):\n",
    "        self.head = None\n",
    "        self.tail = None\n",
    "\n",
    "    def __iter__(self):\n",
    "        node = self.head\n",
    "        while node.next is not None:\n",
    "            yield node.value\n",
    "            node = node.next\n",
    "        yield node.value\n",
    "\n",
    "    def __len__(self):\n",
    "        ans = 0\n",
    "        for _ in self:\n",
    "            ans += 1\n",
    "        return ans\n",
    "\n",
    "    def append(self, value):\n",
    "        node = Node2(value)\n",
    "        if self.tail is None:\n",
    "            self.tail = node\n",
    "            self.head = node\n",
    "        else:\n",
    "            self.tail.next = node\n",
    "            node.previous = self.tail\n",
    "            self.tail = node\n",
    "\n",
    "    def insert(self, value):\n",
    "        node = Node2(value)\n",
    "        if self.head is None:\n",
    "            self.head = node\n",
    "            self.tail = node\n",
    "        else:\n",
    "            self.head.previous = node\n",
    "            node.next = self.head\n",
    "            self.head = node\n",
    "\n",
    "    def __str__(self):\n",
    "        return ' <-> '.join(list(str(el) for el in self))\n",
    "\n",
    "\n"
   ],
   "metadata": {
    "collapsed": false,
    "ExecuteTime": {
     "end_time": "2024-02-07T09:54:54.782617396Z",
     "start_time": "2024-02-07T09:54:54.775650273Z"
    }
   },
   "id": "c7b1fb824a4a4ced"
  },
  {
   "cell_type": "code",
   "execution_count": 109,
   "outputs": [
    {
     "name": "stdout",
     "output_type": "stream",
     "text": [
      "head: Node2(4) tail: Node2(6)\n",
      "el 4\n",
      "el 5\n",
      "el 6\n",
      "4 <-> 5 <-> 6\n",
      "len 3\n"
     ]
    }
   ],
   "source": [
    "ll2 = LinkedList2()\n",
    "ll2.insert(4)\n",
    "ll2.append(5)\n",
    "# print(ll2.head, ll2.tail)\n",
    "ll2.append(6)\n",
    "print(\"head:\", ll2.head, \"tail:\", ll2.tail)\n",
    "for i in ll2:\n",
    "    print('el', i)\n",
    "print(ll2)\n",
    "print('len', len(ll2))\n"
   ],
   "metadata": {
    "collapsed": false,
    "ExecuteTime": {
     "end_time": "2024-02-07T09:54:58.477490398Z",
     "start_time": "2024-02-07T09:54:58.474506913Z"
    }
   },
   "id": "2a72d69b5a26781e"
  },
  {
   "cell_type": "code",
   "execution_count": 110,
   "outputs": [
    {
     "name": "stdout",
     "output_type": "stream",
     "text": [
      "0 <-> 1 <-> 2 <-> 3 <-> 4 <-> 5 <-> 6 <-> 7 <-> 8 <-> 9\n"
     ]
    }
   ],
   "source": [
    "ll2 = LinkedList2()\n",
    "for i in range(10):\n",
    "    ll2.append(i)\n",
    "\n",
    "print(ll2)"
   ],
   "metadata": {
    "collapsed": false,
    "ExecuteTime": {
     "end_time": "2024-02-07T09:55:01.285879744Z",
     "start_time": "2024-02-07T09:55:01.282600145Z"
    }
   },
   "id": "42f26d12ec235a10"
  },
  {
   "cell_type": "code",
   "execution_count": 121,
   "outputs": [],
   "source": [
    "# 5 Queue FIFO / LILO очередь\n",
    "class Queue(LinkedList):\n",
    "    def __init__(self):\n",
    "        super().__init__()\n",
    "    \n",
    "    def append(self, value):\n",
    "        super().append(value)\n",
    "    \n",
    "    def pop(self):\n",
    "        assert self.head is not None, 'Stack is empty'\n",
    "        ans = self.head\n",
    "        self.head = ans.next\n",
    "        return ans\n",
    "    \n",
    "    def __str__(self):\n",
    "        return ' <- '.join(list(str(el) for el in self))\n",
    "\n"
   ],
   "metadata": {
    "collapsed": false,
    "ExecuteTime": {
     "end_time": "2024-02-07T10:03:59.449303829Z",
     "start_time": "2024-02-07T10:03:59.402434320Z"
    }
   },
   "id": "a2a3b0eadd604ff5"
  },
  {
   "cell_type": "code",
   "execution_count": 125,
   "outputs": [
    {
     "name": "stdout",
     "output_type": "stream",
     "text": [
      "0 <- 1 <- 2 <- 3 <- 4 <- 5 <- 6 <- 7 <- 8 <- 9\n",
      "Node(0)\n",
      "1 <- 2 <- 3 <- 4 <- 5 <- 6 <- 7 <- 8 <- 9\n",
      "Node(1)\n",
      "2 <- 3 <- 4 <- 5 <- 6 <- 7 <- 8 <- 9\n",
      "Node(2)\n",
      "3 <- 4 <- 5 <- 6 <- 7 <- 8 <- 9\n",
      "Node(3)\n",
      "4 <- 5 <- 6 <- 7 <- 8 <- 9\n",
      "Node(4)\n",
      "5 <- 6 <- 7 <- 8 <- 9\n",
      "Node(5)\n",
      "6 <- 7 <- 8 <- 9\n",
      "Node(6)\n",
      "7 <- 8 <- 9\n",
      "Node(7)\n",
      "8 <- 9\n",
      "Node(8)\n",
      "9\n",
      "Node(9)\n"
     ]
    },
    {
     "ename": "AttributeError",
     "evalue": "'NoneType' object has no attribute 'next'",
     "output_type": "error",
     "traceback": [
      "\u001B[0;31m---------------------------------------------------------------------------\u001B[0m",
      "\u001B[0;31mAttributeError\u001B[0m                            Traceback (most recent call last)",
      "Cell \u001B[0;32mIn[125], line 12\u001B[0m\n\u001B[1;32m     10\u001B[0m \u001B[38;5;28;01mfor\u001B[39;00m i \u001B[38;5;129;01min\u001B[39;00m \u001B[38;5;28mrange\u001B[39m(\u001B[38;5;241m10\u001B[39m):\n\u001B[1;32m     11\u001B[0m     \u001B[38;5;28mprint\u001B[39m(q\u001B[38;5;241m.\u001B[39mpop())\n\u001B[0;32m---> 12\u001B[0m     \u001B[38;5;28mprint\u001B[39m(q)\n",
      "Cell \u001B[0;32mIn[121], line 16\u001B[0m, in \u001B[0;36mQueue.__str__\u001B[0;34m(self)\u001B[0m\n\u001B[1;32m     15\u001B[0m \u001B[38;5;28;01mdef\u001B[39;00m \u001B[38;5;21m__str__\u001B[39m(\u001B[38;5;28mself\u001B[39m):\n\u001B[0;32m---> 16\u001B[0m     \u001B[38;5;28;01mreturn\u001B[39;00m \u001B[38;5;124m'\u001B[39m\u001B[38;5;124m <- \u001B[39m\u001B[38;5;124m'\u001B[39m\u001B[38;5;241m.\u001B[39mjoin(\u001B[38;5;28mlist\u001B[39m(\u001B[38;5;28mstr\u001B[39m(el) \u001B[38;5;28;01mfor\u001B[39;00m el \u001B[38;5;129;01min\u001B[39;00m \u001B[38;5;28mself\u001B[39m))\n",
      "Cell \u001B[0;32mIn[121], line 16\u001B[0m, in \u001B[0;36m<genexpr>\u001B[0;34m(.0)\u001B[0m\n\u001B[1;32m     15\u001B[0m \u001B[38;5;28;01mdef\u001B[39;00m \u001B[38;5;21m__str__\u001B[39m(\u001B[38;5;28mself\u001B[39m):\n\u001B[0;32m---> 16\u001B[0m     \u001B[38;5;28;01mreturn\u001B[39;00m \u001B[38;5;124m'\u001B[39m\u001B[38;5;124m <- \u001B[39m\u001B[38;5;124m'\u001B[39m\u001B[38;5;241m.\u001B[39mjoin(\u001B[38;5;28mlist\u001B[39m\u001B[43m(\u001B[49m\u001B[38;5;28;43mstr\u001B[39;49m\u001B[43m(\u001B[49m\u001B[43mel\u001B[49m\u001B[43m)\u001B[49m\u001B[43m \u001B[49m\u001B[38;5;28;43;01mfor\u001B[39;49;00m\u001B[43m \u001B[49m\u001B[43mel\u001B[49m\u001B[43m \u001B[49m\u001B[38;5;129;43;01min\u001B[39;49;00m\u001B[43m \u001B[49m\u001B[38;5;28;43mself\u001B[39;49m\u001B[43m)\u001B[49m)\n",
      "Cell \u001B[0;32mIn[106], line 28\u001B[0m, in \u001B[0;36mLinkedList.__iter__\u001B[0;34m(self)\u001B[0m\n\u001B[1;32m     26\u001B[0m \u001B[38;5;28;01mdef\u001B[39;00m \u001B[38;5;21m__iter__\u001B[39m(\u001B[38;5;28mself\u001B[39m):\n\u001B[1;32m     27\u001B[0m     node \u001B[38;5;241m=\u001B[39m \u001B[38;5;28mself\u001B[39m\u001B[38;5;241m.\u001B[39mhead\n\u001B[0;32m---> 28\u001B[0m     \u001B[38;5;28;01mwhile\u001B[39;00m \u001B[43mnode\u001B[49m\u001B[38;5;241;43m.\u001B[39;49m\u001B[43mnext\u001B[49m \u001B[38;5;129;01mis\u001B[39;00m \u001B[38;5;129;01mnot\u001B[39;00m \u001B[38;5;28;01mNone\u001B[39;00m:\n\u001B[1;32m     29\u001B[0m         \u001B[38;5;28;01myield\u001B[39;00m node\u001B[38;5;241m.\u001B[39mvalue\n\u001B[1;32m     30\u001B[0m         node \u001B[38;5;241m=\u001B[39m node\u001B[38;5;241m.\u001B[39mnext\n",
      "\u001B[0;31mAttributeError\u001B[0m: 'NoneType' object has no attribute 'next'"
     ]
    }
   ],
   "source": [
    "q = Queue()\n",
    "for i in range(10):\n",
    "    q.append(i)\n",
    "\n",
    "print(q)\n",
    "el = q.pop()\n",
    "print(el)\n",
    "print(q)\n",
    "\n",
    "for i in range(10):\n",
    "    print(q.pop())\n",
    "    print(q)\n",
    "    "
   ],
   "metadata": {
    "collapsed": false,
    "ExecuteTime": {
     "end_time": "2024-02-07T10:08:14.098338831Z",
     "start_time": "2024-02-07T10:08:14.054570508Z"
    }
   },
   "id": "4f285395f568c6c"
  }
 ],
 "metadata": {
  "kernelspec": {
   "display_name": "Python 3",
   "language": "python",
   "name": "python3"
  },
  "language_info": {
   "codemirror_mode": {
    "name": "ipython",
    "version": 2
   },
   "file_extension": ".py",
   "mimetype": "text/x-python",
   "name": "python",
   "nbconvert_exporter": "python",
   "pygments_lexer": "ipython2",
   "version": "2.7.6"
  }
 },
 "nbformat": 4,
 "nbformat_minor": 5
}
