{
 "cells": [
  {
   "cell_type": "code",
   "execution_count": 6,
   "id": "506cc25f",
   "metadata": {},
   "outputs": [
    {
     "name": "stdout",
     "output_type": "stream",
     "text": [
      "Введите строку: abcdef\n"
     ]
    },
    {
     "data": {
      "text/plain": [
       "{'a': 1, 'b': 2, 'c': 3, 'd': 4, 'e': 5, 'f': 6}"
      ]
     },
     "execution_count": 6,
     "metadata": {},
     "output_type": "execute_result"
    }
   ],
   "source": [
    "# 1)\n",
    "\n",
    "s = input('Введите строку: ')\n",
    "dct1 = dict(zip(s, range(1,len(s)+1)))\n",
    "dct1"
   ]
  },
  {
   "cell_type": "code",
   "execution_count": 5,
   "id": "a92970ad",
   "metadata": {},
   "outputs": [
    {
     "name": "stdout",
     "output_type": "stream",
     "text": [
      "[1, 'a', True, False, 2, 'str']\n",
      "{'a': True, 'b': False, 'c': 'int', 'd': 'float', 'e': 3}\n",
      "3\n"
     ]
    }
   ],
   "source": [
    "# 2) \n",
    "\n",
    "lst2 = [1, 'a', True, False, 2, 'str']\n",
    "dct2 = dict(zip(['a','b','c','d','e','f'], [True, False, 'int', 'float', 3]))\n",
    "n = 0\n",
    "for i in range(len(lst2)):\n",
    "    for k in dct2:\n",
    "        if lst2[i] == dct2[k]:\n",
    "            n += 1\n",
    "print(lst2)\n",
    "print(dct2)\n",
    "print(n)"
   ]
  },
  {
   "cell_type": "code",
   "execution_count": 35,
   "id": "6346029e",
   "metadata": {},
   "outputs": [
    {
     "data": {
      "text/plain": [
       "{'m': 1, 'o': 3, 'l': 1, 'k': 1}"
      ]
     },
     "execution_count": 35,
     "metadata": {},
     "output_type": "execute_result"
    }
   ],
   "source": [
    "# 3)\n",
    "\n",
    "s = 'moloko'\n",
    "lst3 = []\n",
    "for i in range(len(s)):\n",
    "    lst3.append(s.count(s[i]))\n",
    "dct3 = dict(zip(s, lst3))\n",
    "dct3"
   ]
  },
  {
   "cell_type": "code",
   "execution_count": 36,
   "id": "f5da65e2",
   "metadata": {},
   "outputs": [],
   "source": [
    "# 4)\n",
    "\n"
   ]
  },
  {
   "cell_type": "code",
   "execution_count": 68,
   "id": "c6cc729c",
   "metadata": {},
   "outputs": [
    {
     "data": {
      "text/plain": [
       "{'a': 1, 'b': 2, 'c': 3, 'd': 4, 'e': 5, 'f': 6, 'g': 7}"
      ]
     },
     "execution_count": 68,
     "metadata": {},
     "output_type": "execute_result"
    }
   ],
   "source": [
    "# 5)\n",
    "\n",
    "d1 = dict(a=1, b=2)\n",
    "d2 = dict(c=3, d=4, e=5)\n",
    "d3 = dict(f=6, g=7)\n",
    "d4 = { **d1, **d2, **d3}   # d4.update(d1) ...\n",
    "d4"
   ]
  },
  {
   "cell_type": "code",
   "execution_count": 10,
   "id": "c05c7f88",
   "metadata": {},
   "outputs": [
    {
     "name": "stdout",
     "output_type": "stream",
     "text": [
      "28\n"
     ]
    }
   ],
   "source": [
    "# 6)\n",
    "\n",
    "d4 = {'a': 1, 'b': 2, 'c': 3, 'd': 4, 'e': 5, 'f': 6, 'g': 7}\n",
    "s1 = 0\n",
    "for k in d4:\n",
    "    s1 += d4[k]\n",
    "print(s1)"
   ]
  },
  {
   "cell_type": "code",
   "execution_count": 11,
   "id": "ed4c32fe",
   "metadata": {},
   "outputs": [
    {
     "data": {
      "text/plain": [
       "28"
      ]
     },
     "execution_count": 11,
     "metadata": {},
     "output_type": "execute_result"
    }
   ],
   "source": [
    "s2 = sum(d4.values())\n",
    "s2"
   ]
  },
  {
   "cell_type": "code",
   "execution_count": 46,
   "id": "bd8edcca",
   "metadata": {},
   "outputs": [
    {
     "data": {
      "text/plain": [
       "5040"
      ]
     },
     "execution_count": 46,
     "metadata": {},
     "output_type": "execute_result"
    }
   ],
   "source": [
    "# 7)\n",
    "\n",
    "p = 1\n",
    "for k in d4:\n",
    "    p *= d4[k]\n",
    "p"
   ]
  },
  {
   "cell_type": "code",
   "execution_count": 47,
   "id": "2f920db5",
   "metadata": {},
   "outputs": [
    {
     "data": {
      "text/plain": [
       "['a',\n",
       " 'b',\n",
       " 'b',\n",
       " 'c',\n",
       " 'c',\n",
       " 'c',\n",
       " 'd',\n",
       " 'd',\n",
       " 'd',\n",
       " 'd',\n",
       " 'e',\n",
       " 'e',\n",
       " 'e',\n",
       " 'e',\n",
       " 'e',\n",
       " 'f',\n",
       " 'f',\n",
       " 'f',\n",
       " 'f',\n",
       " 'f',\n",
       " 'f',\n",
       " 'g',\n",
       " 'g',\n",
       " 'g',\n",
       " 'g',\n",
       " 'g',\n",
       " 'g',\n",
       " 'g']"
      ]
     },
     "execution_count": 47,
     "metadata": {},
     "output_type": "execute_result"
    }
   ],
   "source": [
    "# 8)\n",
    "\n",
    "lst4 = []\n",
    "for k in d4:\n",
    "    lst4 += k * d4[k]\n",
    "lst4"
   ]
  },
  {
   "cell_type": "code",
   "execution_count": 12,
   "id": "78e2061c",
   "metadata": {},
   "outputs": [
    {
     "name": "stdout",
     "output_type": "stream",
     "text": [
      "{'a': 1, 'b': 2, 'c': 3}\n",
      "{'a': 1, 'b': 2, 'd': 3, 'e': 4}\n",
      "{'d': 3, 'e': 4}\n"
     ]
    }
   ],
   "source": [
    "# 9)\n",
    "\n",
    "dct5 = dict(zip('abc', [1,2,3]))\n",
    "dct6 = dict(zip('abde', [1,2,3,4]))\n",
    "print(dct5)\n",
    "print(dct6)\n",
    "dct7 = {}\n",
    "for k6 in dct6:\n",
    "    for k5 in dct5:\n",
    "        if dct5.get(k6) == None and dct6[k6] != dct5[k5]:\n",
    "            dct7[k6] = dct6[k6]\n",
    "print(dct7)"
   ]
  },
  {
   "cell_type": "code",
   "execution_count": 70,
   "id": "48577777",
   "metadata": {},
   "outputs": [
    {
     "name": "stdout",
     "output_type": "stream",
     "text": [
      "{'a': 1, 'b': 2, 'c': 3, 'd': 3, 'e': 4}\n"
     ]
    }
   ],
   "source": [
    "# 10)\n",
    "\n",
    "import copy\n",
    "dct5 = dict(zip('abc', [1,2,3]))\n",
    "dct6 = dict(zip('abde', [1,2,3,4]))\n",
    "dct8 = copy.deepcopy(dct5)\n",
    "for k6 in dct6:\n",
    "    for k5 in dct5:\n",
    "        if dct5.get(k6) == None and dct6[k6] != dct5[k5]:\n",
    "            dct8[k6] = dct6[k6]\n",
    "print(dct8)"
   ]
  },
  {
   "cell_type": "code",
   "execution_count": 73,
   "id": "595980af",
   "metadata": {},
   "outputs": [
    {
     "data": {
      "text/plain": [
       "[1, 2, 3, 4, 6, 9]"
      ]
     },
     "execution_count": 73,
     "metadata": {},
     "output_type": "execute_result"
    }
   ],
   "source": [
    "# 11)\n",
    "\n",
    "ri1 = [4,2,9,6,4,4,2,1,3,1]\n",
    "ri2 = sorted(list(set(ri1)))\n",
    "ri2"
   ]
  },
  {
   "cell_type": "code",
   "execution_count": 74,
   "id": "71f14f4f",
   "metadata": {},
   "outputs": [
    {
     "data": {
      "text/plain": [
       "[1, 3, 4, 7, 8, 9]"
      ]
     },
     "execution_count": 74,
     "metadata": {},
     "output_type": "execute_result"
    }
   ],
   "source": [
    "# 11.2)\n",
    "\n",
    "l1 = [[1,2,3],[4,5,6,7],[8,9]]\n",
    "l2 = []\n",
    "for i in range(len(l1)):\n",
    "    l2.append(l1[i][0])\n",
    "    l2.append(l1[i][-1])\n",
    "l2"
   ]
  },
  {
   "cell_type": "code",
   "execution_count": null,
   "id": "09f9c3fa",
   "metadata": {},
   "outputs": [],
   "source": [
    "# 11.3)\n",
    "\n"
   ]
  },
  {
   "cell_type": "code",
   "execution_count": 4,
   "id": "46cf427d",
   "metadata": {},
   "outputs": [
    {
     "name": "stdout",
     "output_type": "stream",
     "text": [
      "Введите значение: 1\n",
      "Введите значение: 2\n",
      "Введите значение: 3\n",
      "Введите значение: 3\n",
      "3 уже есть в мешке\n",
      "Введите значение: 4\n",
      "Введите значение: 5\n",
      "3\n",
      "Введите значение: 6\n",
      "5\n",
      "Введите значение: \n",
      "Содержимое мешка:  [1, 2, 3, 4, 6] "
     ]
    }
   ],
   "source": [
    "# 4.12)\n",
    "# Мешок\n",
    "\n",
    "import random\n",
    "m = []\n",
    "n = 0\n",
    "while True:\n",
    "    a = (input('Введите значение: '))\n",
    "    if a == '' and n != 0:\n",
    "        print('Содержимое мешка: ', m, end = ' ')\n",
    "        break\n",
    "    try:\n",
    "        b = int(a)\n",
    "        for i in range(len(m)):\n",
    "            if b == m[i]:\n",
    "                print(f'{b} уже есть в мешке')\n",
    "                continue\n",
    "        n += 1\n",
    "        if n > 5:\n",
    "            print(m.pop(random.randint(0,len(m)-1)))\n",
    "        m.append(b)\n",
    "        continue\n",
    "    except ValueError:\n",
    "        print('Вы ввели неверное значение')\n",
    "        continue"
   ]
  },
  {
   "cell_type": "code",
   "execution_count": 2,
   "id": "5444e63a",
   "metadata": {},
   "outputs": [
    {
     "name": "stdout",
     "output_type": "stream",
     "text": [
      "Введите значение или значения: 1\n",
      "Введите значение или значения: 2\n",
      "Введите значение или значения: 3\n",
      "Введите значение или значения: 2\n",
      "2 уже есть в мешке\n",
      "Введите значение или значения: 4,5,6\n",
      "5\n",
      "4\n",
      "Введите значение или значения: \n",
      "Содержимое мешка:  ['1', '2', '3', '2', '6'] "
     ]
    }
   ],
   "source": [
    "# *\n",
    "\n",
    "import random\n",
    "import re\n",
    "m = []\n",
    "n = 0\n",
    "while True:\n",
    "    a = (input('Введите значение или значения: '))\n",
    "    if a == '' and n != 0:\n",
    "        print('Содержимое мешка: ', m, end = ' ')\n",
    "        break\n",
    "    b = re.findall(r'\\d', a)\n",
    "    for i in range(len(m)):\n",
    "        for j in range(len(b)):\n",
    "            if b[j] == m[i]:\n",
    "                print(f'{b[j]} уже есть в мешке')\n",
    "                continue\n",
    "    n += len(b)\n",
    "    m.extend(b)\n",
    "    while len(m) > 5:\n",
    "        print(m.pop(random.randint(0,len(m)-1)))\n",
    "        continue\n",
    "    continue"
   ]
  },
  {
   "cell_type": "code",
   "execution_count": null,
   "id": "7aa52298",
   "metadata": {},
   "outputs": [],
   "source": []
  }
 ],
 "metadata": {
  "kernelspec": {
   "display_name": "Python 3 (ipykernel)",
   "language": "python",
   "name": "python3"
  },
  "language_info": {
   "codemirror_mode": {
    "name": "ipython",
    "version": 3
   },
   "file_extension": ".py",
   "mimetype": "text/x-python",
   "name": "python",
   "nbconvert_exporter": "python",
   "pygments_lexer": "ipython3",
   "version": "3.11.4"
  }
 },
 "nbformat": 4,
 "nbformat_minor": 5
}
