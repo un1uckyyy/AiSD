{
 "cells": [
  {
   "cell_type": "markdown",
   "metadata": {},
   "source": [
    "### Контрольная работа № 1.\n",
    "### Вариант 2.\n",
    "#### Студент Гетманов Сергей группа ИД23-2"
   ]
  },
  {
   "cell_type": "markdown",
   "metadata": {},
   "source": [
    "1. Напишите программу, которая выполняет добавление, удаление и вывод на экран элементов списка при помощи классов. \n",
    "\n",
    "Решение задачи\n",
    "\n",
    "1.\tСоздаем класс и с помощью конструктора инициализируем значения этого класса.\n",
    "2.\tСоздаем в данном классе методы для добавления, удаления и вывода на экран соответствующих значений.\n",
    "3.\tСоздаем объект данного класса.\n",
    "4.\tИспользуя созданный объект, вызываем соответствующий метод (в зависимости от выбора пользователя).\n",
    "5.\tВыводим результат на экран.\n",
    "6.\tКонец.\n",
    "\n",
    "В программе реализовать выбор с помощью меню:\n",
    "\n",
    "print(\"0. Выход\")\n",
    "\n",
    "print(\"1. Добавить\")\n",
    "\n",
    "print(\"2. Удалить\")\n",
    "\n",
    "print(\"3. Вывести на экран\")\n",
    "\n",
    "choice = int(input(\"Выберите одно из этих значений: \"))\n",
    "\n"
   ]
  },
  {
   "cell_type": "code",
   "execution_count": 8,
   "metadata": {
    "ExecuteTime": {
     "end_time": "2024-04-03T09:21:50.564073400Z",
     "start_time": "2024-04-03T09:21:31.540160700Z"
    }
   },
   "outputs": [
    {
     "name": "stdout",
     "output_type": "stream",
     "text": [
      "0. Выход\n",
      "1. Добавить\n",
      "2. Удалить\n",
      "3. Вывести на экран\n",
      "0. Выход\n",
      "1. Добавить\n",
      "2. Удалить\n",
      "3. Вывести на экран\n",
      "0. Выход\n",
      "1. Добавить\n",
      "2. Удалить\n",
      "3. Вывести на экран\n",
      "['3333', '2']\n",
      "0. Выход\n",
      "1. Добавить\n",
      "2. Удалить\n",
      "3. Вывести на экран\n"
     ]
    }
   ],
   "source": [
    "# Решение 1.\n",
    "class Array:\n",
    "    def __init__(self):\n",
    "        self.array = []\n",
    "\n",
    "    def add(self, el):\n",
    "        self.array.append(el)\n",
    "\n",
    "    def remove(self):\n",
    "        assert len(self.array) > 0, \"Список пуст!\"\n",
    "\n",
    "    def show(self):\n",
    "        print(self.array)\n",
    "\n",
    "\n",
    "a = Array()\n",
    "while True:\n",
    "    print(\"0. Выход\")\n",
    "    print(\"1. Добавить\")\n",
    "    print(\"2. Удалить\")\n",
    "    print(\"3. Вывести на экран\")\n",
    "    choice = int(input(\"Выберите одно из этих значений: \"))\n",
    "    print()\n",
    "    if choice not in (0, 1, 2, 3):\n",
    "        continue\n",
    "    if choice == 0:\n",
    "        break\n",
    "    elif choice == 1:\n",
    "        a.add(input())\n",
    "    elif choice == 2:\n",
    "        a.remove()\n",
    "    elif choice == 3:\n",
    "        a.show()\n"
   ]
  },
  {
   "cell_type": "markdown",
   "metadata": {},
   "source": [
    "2. Используя класс People в качестве базового, создайте класс Сотрудник (Worker), имеющий свойства:\n",
    "\n",
    "• должность (post)\n",
    "\n",
    "• зарплата (salary)\n",
    "\n",
    "методы:\n",
    "\n",
    "• __init__ – конструктор;\n",
    "\n",
    "• __str__ – аналогично методу класса Teacher из примера.\n",
    "\n",
    "Используя класс Сотрудник в качестве базового создайте класс Преподаватель (Teacher), имеющий:\n",
    "\n",
    "• закрытый атрибут дисциплины (disciplines), в котором хранятся названия дисциплин, которые ведет преподаватель;\n",
    "\n",
    "• методы __init__ и __str__;\n",
    "\n",
    "• методы добавить_дисциплину (add_dis) и удалить_дисциплину (delete_dis), которые позволяют изменять список дисциплин.\n",
    "\n",
    "Создайте список, содержащий по 2 объекта каждого класса (People, Worker, Teacher). Для этого списка:\n",
    "\n",
    "• выведите информацию о каждом человеке с помощью метода info;\n",
    "\n",
    "• выведите фамилии тех, кто моложе 30 лет;\n",
    "\n",
    "• продемонстрируйте работу со свойствами должность и зарплата и методами добавить_дисциплину и удалить_дисциплину.\n"
   ]
  },
  {
   "cell_type": "code",
   "execution_count": 15,
   "metadata": {
    "ExecuteTime": {
     "end_time": "2024-04-03T09:38:31.657876700Z",
     "start_time": "2024-04-03T09:38:31.633654200Z"
    }
   },
   "outputs": [
    {
     "name": "stdout",
     "output_type": "stream",
     "text": [
      "People(10, Ivanov) People(20, Kuznetsova) Worker(31, familiya) Worker(40, fam1) Teacher(50, Demidov) Teacher(45, Demidova)\n",
      "['math', 'physics']\n",
      "People(10, Ivanov)\n",
      "People(20, Kuznetsova)\n"
     ]
    }
   ],
   "source": [
    "# Решение 2.\n",
    "class People:\n",
    "    def __init__(self, age, surname):\n",
    "        self.age = int(age)\n",
    "        self.surname = surname\n",
    "\n",
    "    def __str__(self):\n",
    "        return f\"{self.__class__.__name__}({self.age}, {self.surname})\"\n",
    "\n",
    "    def info(self):\n",
    "        print(self)\n",
    "\n",
    "\n",
    "class Worker(People):\n",
    "    def __init__(self, age, surname, post, salary):\n",
    "        super().__init__(age, surname)\n",
    "        self.post = post\n",
    "        self.salary = salary\n",
    "\n",
    "\n",
    "class Teacher(Worker):\n",
    "    def __init__(self, age, surname, post, salary, disciplines):\n",
    "        super().__init__(age, surname, post, salary)\n",
    "        self.__disciplines = disciplines\n",
    "\n",
    "    def add_dis(self, dis):\n",
    "        self.__disciplines.append(dis)\n",
    "\n",
    "    def delete_dis(self, dis):\n",
    "        assert dis not in self.__disciplines, \"Эту дисциплину преподаватель не ведет!\"\n",
    "        del self.__disciplines[self.__disciplines.index(dis)]\n",
    "    \n",
    "    def show_dis(self):\n",
    "        print(self.__disciplines)\n",
    "\n",
    "\n",
    "andrew = People(10, \"Ivanov\")\n",
    "masha = People(20, \"Kuznetsova\")\n",
    "oleg = Worker(31, \"familiya\", \"rabotyaga\", 30000)\n",
    "ivan = Worker(40, \"fam1\", \"CEO\", 300000)\n",
    "teacher1 = Teacher(50, \"Demidov\", \"math teacher\", 100000, [\"math\"])\n",
    "teacher2 = Teacher(45, \"Demidova\", \"history teacher\", 90000, [\"history\"])\n",
    "\n",
    "print(andrew, masha, oleg, ivan, teacher1, teacher2)\n",
    "arr = [andrew, masha, oleg, ivan, teacher1, teacher2]\n",
    "\n",
    "teacher1.add_dis(\"physics\")\n",
    "teacher2.add_dis(\"ОБЖ\")\n",
    "\n",
    "teacher1.show_dis()\n",
    "\n",
    "for person in arr:\n",
    "    if person.age < 30:\n",
    "        person.info()"
   ]
  },
  {
   "cell_type": "markdown",
   "metadata": {},
   "source": [
    "3.Создайте класс Заказ(Order), у которого есть свойства кодтовара(code), цена(price), количество(count) и методы _init и str.\n",
    "\n",
    "Создайте 2 класса-потомка: Опт(Opt) и Розница(Retail). В этих классах создайте методы init, str.и сумма_заказа(summa), позволяющий узнать стоимость заказа. Для опта стоимость единицы товара составляет 95% от цены, а при покупке более 500 штук – 90% цены. В розницу стоимость единицы товара составляет 100% цены. Стоимость заказа равна произведению цены на количество.\n",
    "\n",
    "Продемонстрируйте работу с классами, создав необходимые объекты и обратившись к их свойствам и методам"
   ]
  },
  {
   "cell_type": "code",
   "execution_count": 6,
   "metadata": {
    "ExecuteTime": {
     "end_time": "2024-04-03T09:20:38.364019400Z",
     "start_time": "2024-04-03T09:20:38.312929500Z"
    }
   },
   "outputs": [
    {
     "name": "stdout",
     "output_type": "stream",
     "text": [
      "Opt(1, 1000, 1500) Retail(1, 1000, 1500)\n",
      "1350000.0 1500000\n",
      "1000 1000\n"
     ]
    }
   ],
   "source": [
    "# Решение 3.\n",
    "class Order:\n",
    "    def __init__(self, code, price, count):\n",
    "        self.code = code\n",
    "        self.price = price\n",
    "        self.count = count\n",
    "\n",
    "    def __str__(self):\n",
    "        return f\"{self.__class__.__name__}({self.code}, {self.price}, {self.count})\"\n",
    "\n",
    "\n",
    "class Opt(Order):\n",
    "    def __init__(self, code, price, count):\n",
    "        super().__init__(code, price, count)\n",
    "\n",
    "    def summa(self):\n",
    "        return self.price * self.count * 0.9 if self.count > 500 else self.price * self.count * 0.95\n",
    "\n",
    "\n",
    "class Retail(Order):\n",
    "    def __init__(self, code, price, count):\n",
    "        super().__init__(code, price, count)\n",
    "\n",
    "    def summa(self):\n",
    "        return self.price * self.count\n",
    "\n",
    "\n",
    "o = Opt(1, 1000, 1500)\n",
    "r = Retail(1, 1000, 1500)\n",
    "\n",
    "print(o, r)\n",
    "print(o.summa(), r.summa())\n",
    "print(o.price, r.price)"
   ]
  },
  {
   "cell_type": "markdown",
   "metadata": {},
   "source": [
    "4.Написать функцию-генератор my_func_2(lst), которая принимает объект, поддерживающий итерации с произвольным уровнем вложенности, и возвращает все элементы по одному."
   ]
  },
  {
   "cell_type": "code",
   "execution_count": 20,
   "metadata": {
    "ExecuteTime": {
     "end_time": "2024-04-03T09:48:40.338835200Z",
     "start_time": "2024-04-03T09:48:40.287070Z"
    }
   },
   "outputs": [
    {
     "name": "stdout",
     "output_type": "stream",
     "text": [
      "1\n",
      "2\n",
      "3\n",
      "4\n",
      "5\n",
      "6\n",
      "7\n",
      "8\n",
      "9\n",
      "10\n"
     ]
    }
   ],
   "source": [
    "# Решение 4.\n",
    "def my_func_2(lst):\n",
    "    if isinstance(lst, (list, tuple, set)):\n",
    "        for item in lst:\n",
    "            yield from my_func_2(item)\n",
    "    else:\n",
    "        yield lst\n",
    "\n",
    "lst = [1, [2, 3, 4, [5, 6]], [7, [8, 9]], 10]\n",
    "for element in my_func_2(lst):\n",
    "    print(element)"
   ]
  },
  {
   "cell_type": "markdown",
   "metadata": {},
   "source": [
    "5.С помощью механизма map/filter/reduce (хотя бы одна из этих функций должна быть использована в решении) посчитать в тексте количество слов, состоящих не менее, чем из 3-х букв. Слова в тексте разделены пробелами. Написать реализацию в одну строку. Оформить решение в виде функции my_func_3(text), т.е. шаблон таков:\n",
    "\n",
    "строка с import, если необходимо def my_func_3(text): return # однострочная реализация задания"
   ]
  },
  {
   "cell_type": "code",
   "execution_count": 19,
   "metadata": {
    "ExecuteTime": {
     "end_time": "2024-04-03T09:41:54.660249800Z",
     "start_time": "2024-04-03T09:41:54.629092600Z"
    }
   },
   "outputs": [
    {
     "name": "stdout",
     "output_type": "stream",
     "text": [
      "3\n",
      "0\n"
     ]
    }
   ],
   "source": [
    "# Решение 5.\n",
    "def my_func_3(text): return sum(map(lambda x: 1 if len(x) >= 3 else 0, text.split()))\n",
    "\n",
    "print(my_func_3(\"aaa aaaa f fffffff f\"))\n",
    "print(my_func_3(\"\"))"
   ]
  },
  {
   "cell_type": "markdown",
   "metadata": {},
   "source": [
    "6. Написать декоратор с параметром my_decorator(n). Декоратор превращает функцию, возвращающую поддерживающий итерации объект (далее \"последовательность\"), в функцию-генератор. Если декорируемая функция возвращает что-то другое, а не последовательность, то декоратор должен вернуть этот результат вызова функции без изменений.\n",
    "\n",
    "Проверку объекта можно организовать при помощи условия import collections if isinstance(item, collections.Iterable)\n",
    "\n",
    "Параметром декоратора может быть целое положительное число n, тогда получившаяся функция-декоратор должна генерировать по одному значению из последовательности, повторенной n раз. Также параметр может принимать строковое значение 'inf', тогда функция-декоратор генерирует по одному значению из последовательности, повторенной бесконечное число раз (зацикливает генерирование результата).\n",
    "\n",
    "Подсказка: сначала реализовать случай со значением аргумента 'inf', а затем модифицировать для целочисленного значения аргумента."
   ]
  },
  {
   "cell_type": "code",
   "execution_count": null,
   "metadata": {},
   "outputs": [],
   "source": [
    "# Решение 6."
   ]
  }
 ],
 "metadata": {
  "kernelspec": {
   "display_name": "Python 3",
   "language": "python",
   "name": "python3"
  },
  "language_info": {
   "codemirror_mode": {
    "name": "ipython",
    "version": 3
   },
   "file_extension": ".py",
   "mimetype": "text/x-python",
   "name": "python",
   "nbconvert_exporter": "python",
   "pygments_lexer": "ipython3",
   "version": "3.7.6"
  }
 },
 "nbformat": 4,
 "nbformat_minor": 4
}
