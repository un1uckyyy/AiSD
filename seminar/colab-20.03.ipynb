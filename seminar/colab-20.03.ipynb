{
 "cells": [
  {
   "cell_type": "code",
   "execution_count": 2,
   "id": "initial_id",
   "metadata": {
    "collapsed": true,
    "ExecuteTime": {
     "end_time": "2024-03-19T20:33:23.207492027Z",
     "start_time": "2024-03-19T20:33:23.159993733Z"
    }
   },
   "outputs": [
    {
     "data": {
      "text/plain": "1256.6370614359173"
     },
     "execution_count": 2,
     "metadata": {},
     "output_type": "execute_result"
    }
   ],
   "source": [
    "# 25.8\n",
    "from math import pi\n",
    "\n",
    "\n",
    "class Sphere:\n",
    "    def __init__(self, radius=1, x=0, y=0, z=0):\n",
    "        self.radius = radius\n",
    "        self.x = x\n",
    "        self.y = y\n",
    "        self.z = z\n",
    "\n",
    "    def area(self):\n",
    "        return 4 * pi * self.radius ** 2\n",
    "\n",
    "    def volume(self):\n",
    "        return 4 / 3 * pi * self.radius ** 3\n",
    "\n",
    "\n",
    "s = Sphere(10)\n",
    "s.area()"
   ]
  },
  {
   "cell_type": "code",
   "execution_count": 2,
   "outputs": [
    {
     "name": "stdout",
     "output_type": "stream",
     "text": [
      "y = 2x - 2\n",
      "y = 4x^2 + -8x + 4\n"
     ]
    }
   ],
   "source": [
    "# 26.8\n",
    "class SquareFunction:\n",
    "    def __init__(self, a, b, c):\n",
    "        self.a = a\n",
    "        self.b = b\n",
    "        self.c = c\n",
    "    \n",
    "    def __call__(self, x):\n",
    "        return self.a * x ** 2 + self.b * x + self.c\n",
    "    \n",
    "    def __str__(self):\n",
    "        return f\"y = {self.a}x^2 + {self.b}x + {self.c}\"\n",
    "\n",
    "\n",
    "class LinearFunction:\n",
    "    def __init__(self, a, b):\n",
    "        assert isinstance(a, (int, float)) and isinstance(b, (int, float)), \"a and b must be numbers!\"\n",
    "        self.a = a\n",
    "        self.b = b\n",
    "\n",
    "    def __call__(self, x):\n",
    "        return self.a * x + self.b\n",
    "    \n",
    "    def __str__(self):\n",
    "        if self.b == 0:\n",
    "            return f\"y = {self.a}x\"\n",
    "        else:\n",
    "            return f\"y = {self.a}x {'+' if self.b > 0 else '-'} {abs(self.b)}\"\n",
    "    \n",
    "    def calculate_root(self):\n",
    "        return -self.b / self.a\n",
    "\n",
    "    def to_square(self):\n",
    "        return SquareFunction(self.a ** 2, 2 * self.a * self.b, self.b ** 2)\n",
    "    \n",
    "    \n",
    "f = LinearFunction(2, -2)\n",
    "print(f)\n",
    "s = f.to_square()\n",
    "print(s)"
   ],
   "metadata": {
    "collapsed": false,
    "ExecuteTime": {
     "end_time": "2024-03-20T07:25:51.713811407Z",
     "start_time": "2024-03-20T07:25:51.685907301Z"
    }
   },
   "id": "b7ab22043c35aa33"
  },
  {
   "cell_type": "code",
   "execution_count": null,
   "outputs": [],
   "source": [
    "# 27.8\n",
    "import time\n",
    "\n",
    "\n",
    "class Software:\n",
    "    def __init__(self):\n",
    "        self.date = time.time()\n",
    "        self.periode = None\n",
    "\n",
    "    def __str__(self):\n",
    "        return self.__class__.__name__\n",
    "    \n",
    "    def can_use(self):\n",
    "        if \n",
    "\n",
    "class OpenSource(Software):\n",
    "    def __init__(self):\n",
    "        super().__init__()\n",
    "\n",
    "\n",
    "class Shareware(Software):\n",
    "    def __init__(self):\n",
    "        super().__init__()\n",
    "\n",
    "\n",
    "class Commercial(Software):\n",
    "    def __init__(self):\n",
    "        super().__init__()\n",
    "\n",
    "\n"
   ],
   "metadata": {
    "collapsed": false
   },
   "id": "8eb0941a298d14a2"
  }
 ],
 "metadata": {
  "kernelspec": {
   "display_name": "Python 3",
   "language": "python",
   "name": "python3"
  },
  "language_info": {
   "codemirror_mode": {
    "name": "ipython",
    "version": 2
   },
   "file_extension": ".py",
   "mimetype": "text/x-python",
   "name": "python",
   "nbconvert_exporter": "python",
   "pygments_lexer": "ipython2",
   "version": "2.7.6"
  }
 },
 "nbformat": 4,
 "nbformat_minor": 5
}
