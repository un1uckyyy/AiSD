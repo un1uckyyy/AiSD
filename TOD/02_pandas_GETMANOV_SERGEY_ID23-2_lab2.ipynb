{
 "cells": [
  {
   "cell_type": "markdown",
   "metadata": {},
   "source": [
    "# Pandas"
   ]
  },
  {
   "cell_type": "markdown",
   "metadata": {},
   "source": [
    "Материалы:\n",
    "* Макрушин С.В. \"Лекция 2: Библиотека Pandas\"\n",
    "* https://pandas.pydata.org/docs/user_guide/index.html#\n",
    "* https://pandas.pydata.org/docs/reference/index.html\n",
    "* Уэс Маккини. Python и анализ данных"
   ]
  },
  {
   "cell_type": "markdown",
   "metadata": {},
   "source": [
    "## Задачи для совместного разбора"
   ]
  },
  {
   "cell_type": "markdown",
   "metadata": {},
   "source": [
    "1. Загрузите данные из файла `sp500hst.txt` и обозначьте столбцы в соответствии с содержимым: `\"date\", \"ticker\", \"open\", \"high\", \"low\", \"close\", \"volume\"`."
   ]
  },
  {
   "cell_type": "markdown",
   "metadata": {},
   "source": [
    "2. Рассчитайте среднее значение показателей для каждого из столбцов c номерами 3-6."
   ]
  },
  {
   "cell_type": "markdown",
   "metadata": {},
   "source": [
    "3. Добавьте столбец, содержащий только число месяца, к которому относится дата."
   ]
  },
  {
   "cell_type": "markdown",
   "metadata": {},
   "source": [
    "4. Рассчитайте суммарный объем торгов для для одинаковых значений тикеров."
   ]
  },
  {
   "cell_type": "markdown",
   "metadata": {},
   "source": [
    "5. Загрузите данные из файла sp500hst.txt и обозначьте столбцы в соответствии с содержимым: \"date\", \"ticker\", \"open\", \"high\", \"low\", \"close\", \"volume\". Добавьте столбец с расшифровкой названия тикера, используя данные из файла `sp_data2.csv` . В случае нехватки данных об именах тикеров корректно обработать их."
   ]
  },
  {
   "cell_type": "markdown",
   "metadata": {},
   "source": [
    "## Лабораторная работа №2"
   ]
  },
  {
   "cell_type": "markdown",
   "metadata": {},
   "source": [
    "### Базовые операции с `DataFrame`"
   ]
  },
  {
   "cell_type": "markdown",
   "metadata": {},
   "source": [
    "1.1 В файлах `recipes_sample.csv` и `reviews_sample.csv` находится информация об рецептах блюд и отзывах на эти рецепты соответственно. Загрузите данные из файлов в виде `pd.DataFrame` с названиями `recipes` и `reviews`. Обратите внимание на корректное считывание столбца с индексами в таблице `reviews` (безымянный столбец)."
   ]
  },
  {
   "cell_type": "code",
   "execution_count": 2,
   "metadata": {
    "scrolled": true,
    "ExecuteTime": {
     "end_time": "2024-03-19T05:42:57.244985050Z",
     "start_time": "2024-03-19T05:42:56.271058556Z"
    }
   },
   "outputs": [],
   "source": [
    "import pandas as pd\n",
    "import numpy as np\n",
    "\n",
    "recipes = pd.read_csv('data/recipes_sample.csv')\n",
    "reviews = pd.read_csv('data/reviews_sample.csv')"
   ]
  },
  {
   "cell_type": "code",
   "execution_count": 3,
   "metadata": {
    "ExecuteTime": {
     "end_time": "2024-03-19T05:43:00.567661676Z",
     "start_time": "2024-03-19T05:43:00.534410977Z"
    }
   },
   "outputs": [
    {
     "data": {
      "text/plain": "                                               name      id  minutes  \\\n0             george s at the cove  black bean soup   44123       90   \n1                healthy for them  yogurt popsicles   67664       10   \n2                      i can t believe it s spinach   38798       30   \n3                              italian  gut busters   35173       45   \n4          love is in the air  beef fondue   sauces   84797       25   \n...                                             ...     ...      ...   \n29995  zurie s holey rustic olive and cheddar bread  267661       80   \n29996          zwetschgenkuchen  bavarian plum cake  386977      240   \n29997   zwiebelkuchen   southwest german onion cake  103312       75   \n29998                                   zydeco soup  486161       60   \n29999        cookies by design   cookies on a stick  298512       29   \n\n       contributor_id   submitted  n_steps  \\\n0               35193  2002-10-25      NaN   \n1               91970  2003-07-26      NaN   \n2                1533  2002-08-29      NaN   \n3               22724  2002-07-27      NaN   \n4                4470  2004-02-23      4.0   \n...               ...         ...      ...   \n29995          200862  2007-11-25     16.0   \n29996          177443  2009-08-24      NaN   \n29997          161745  2004-11-03      NaN   \n29998          227978  2012-08-29      NaN   \n29999          506822  2008-04-15      9.0   \n\n                                             description  n_ingredients  \n0      an original recipe created by chef scott meska...           18.0  \n1      my children and their friends ask for my homem...            NaN  \n2                these were so go, it surprised even me.            8.0  \n3      my sister-in-law made these for us at a family...            NaN  \n4      i think a fondue is a very romantic casual din...            NaN  \n...                                                  ...            ...  \n29995  this is based on a french recipe but i changed...           10.0  \n29996  this is a traditional fresh plum cake, thought...           11.0  \n29997  this is a traditional late summer early fall s...            NaN  \n29998  this is a delicious soup that i originally fou...            NaN  \n29999  i've heard of the 'cookies by design' company,...           10.0  \n\n[30000 rows x 8 columns]",
      "text/html": "<div>\n<style scoped>\n    .dataframe tbody tr th:only-of-type {\n        vertical-align: middle;\n    }\n\n    .dataframe tbody tr th {\n        vertical-align: top;\n    }\n\n    .dataframe thead th {\n        text-align: right;\n    }\n</style>\n<table border=\"1\" class=\"dataframe\">\n  <thead>\n    <tr style=\"text-align: right;\">\n      <th></th>\n      <th>name</th>\n      <th>id</th>\n      <th>minutes</th>\n      <th>contributor_id</th>\n      <th>submitted</th>\n      <th>n_steps</th>\n      <th>description</th>\n      <th>n_ingredients</th>\n    </tr>\n  </thead>\n  <tbody>\n    <tr>\n      <th>0</th>\n      <td>george s at the cove  black bean soup</td>\n      <td>44123</td>\n      <td>90</td>\n      <td>35193</td>\n      <td>2002-10-25</td>\n      <td>NaN</td>\n      <td>an original recipe created by chef scott meska...</td>\n      <td>18.0</td>\n    </tr>\n    <tr>\n      <th>1</th>\n      <td>healthy for them  yogurt popsicles</td>\n      <td>67664</td>\n      <td>10</td>\n      <td>91970</td>\n      <td>2003-07-26</td>\n      <td>NaN</td>\n      <td>my children and their friends ask for my homem...</td>\n      <td>NaN</td>\n    </tr>\n    <tr>\n      <th>2</th>\n      <td>i can t believe it s spinach</td>\n      <td>38798</td>\n      <td>30</td>\n      <td>1533</td>\n      <td>2002-08-29</td>\n      <td>NaN</td>\n      <td>these were so go, it surprised even me.</td>\n      <td>8.0</td>\n    </tr>\n    <tr>\n      <th>3</th>\n      <td>italian  gut busters</td>\n      <td>35173</td>\n      <td>45</td>\n      <td>22724</td>\n      <td>2002-07-27</td>\n      <td>NaN</td>\n      <td>my sister-in-law made these for us at a family...</td>\n      <td>NaN</td>\n    </tr>\n    <tr>\n      <th>4</th>\n      <td>love is in the air  beef fondue   sauces</td>\n      <td>84797</td>\n      <td>25</td>\n      <td>4470</td>\n      <td>2004-02-23</td>\n      <td>4.0</td>\n      <td>i think a fondue is a very romantic casual din...</td>\n      <td>NaN</td>\n    </tr>\n    <tr>\n      <th>...</th>\n      <td>...</td>\n      <td>...</td>\n      <td>...</td>\n      <td>...</td>\n      <td>...</td>\n      <td>...</td>\n      <td>...</td>\n      <td>...</td>\n    </tr>\n    <tr>\n      <th>29995</th>\n      <td>zurie s holey rustic olive and cheddar bread</td>\n      <td>267661</td>\n      <td>80</td>\n      <td>200862</td>\n      <td>2007-11-25</td>\n      <td>16.0</td>\n      <td>this is based on a french recipe but i changed...</td>\n      <td>10.0</td>\n    </tr>\n    <tr>\n      <th>29996</th>\n      <td>zwetschgenkuchen  bavarian plum cake</td>\n      <td>386977</td>\n      <td>240</td>\n      <td>177443</td>\n      <td>2009-08-24</td>\n      <td>NaN</td>\n      <td>this is a traditional fresh plum cake, thought...</td>\n      <td>11.0</td>\n    </tr>\n    <tr>\n      <th>29997</th>\n      <td>zwiebelkuchen   southwest german onion cake</td>\n      <td>103312</td>\n      <td>75</td>\n      <td>161745</td>\n      <td>2004-11-03</td>\n      <td>NaN</td>\n      <td>this is a traditional late summer early fall s...</td>\n      <td>NaN</td>\n    </tr>\n    <tr>\n      <th>29998</th>\n      <td>zydeco soup</td>\n      <td>486161</td>\n      <td>60</td>\n      <td>227978</td>\n      <td>2012-08-29</td>\n      <td>NaN</td>\n      <td>this is a delicious soup that i originally fou...</td>\n      <td>NaN</td>\n    </tr>\n    <tr>\n      <th>29999</th>\n      <td>cookies by design   cookies on a stick</td>\n      <td>298512</td>\n      <td>29</td>\n      <td>506822</td>\n      <td>2008-04-15</td>\n      <td>9.0</td>\n      <td>i've heard of the 'cookies by design' company,...</td>\n      <td>10.0</td>\n    </tr>\n  </tbody>\n</table>\n<p>30000 rows × 8 columns</p>\n</div>"
     },
     "execution_count": 3,
     "metadata": {},
     "output_type": "execute_result"
    }
   ],
   "source": [
    "recipes"
   ]
  },
  {
   "cell_type": "code",
   "execution_count": 4,
   "metadata": {
    "scrolled": true,
    "ExecuteTime": {
     "end_time": "2024-03-19T05:43:03.998518969Z",
     "start_time": "2024-03-19T05:43:03.980731088Z"
    }
   },
   "outputs": [
    {
     "data": {
      "text/plain": "        Unnamed: 0     user_id  recipe_id        date  rating  \\\n0           370476       21752      57993  2003-05-01       5   \n1           624300      431813     142201  2007-09-16       5   \n2           187037      400708     252013  2008-01-10       4   \n3           706134  2001852463     404716  2017-12-11       5   \n4           312179       95810     129396  2008-03-14       5   \n...            ...         ...        ...         ...     ...   \n126691     1013457     1270706     335534  2009-05-17       4   \n126692      158736     2282344       8701  2012-06-03       0   \n126693     1059834      689540     222001  2008-04-08       5   \n126694      453285  2000242659     354979  2015-06-02       5   \n126695      691207      463435     415599  2010-09-30       5   \n\n                                                   review  \n0       Last week whole sides of frozen salmon fillet ...  \n1       So simple and so tasty!  I used a yellow capsi...  \n2       Very nice breakfast HH, easy to make and yummy...  \n3       These are a favorite for the holidays and so e...  \n4       Excellent soup!  The tomato flavor is just gre...  \n...                                                   ...  \n126691  This recipe was great! I made it last night. I...  \n126692  This recipe is outstanding. I followed the rec...  \n126693  Well, we were not a crowd but it was a fabulou...  \n126694  I have been a steak eater and dedicated BBQ gr...  \n126695  Wonderful and simple to prepare seasoning blen...  \n\n[126696 rows x 6 columns]",
      "text/html": "<div>\n<style scoped>\n    .dataframe tbody tr th:only-of-type {\n        vertical-align: middle;\n    }\n\n    .dataframe tbody tr th {\n        vertical-align: top;\n    }\n\n    .dataframe thead th {\n        text-align: right;\n    }\n</style>\n<table border=\"1\" class=\"dataframe\">\n  <thead>\n    <tr style=\"text-align: right;\">\n      <th></th>\n      <th>Unnamed: 0</th>\n      <th>user_id</th>\n      <th>recipe_id</th>\n      <th>date</th>\n      <th>rating</th>\n      <th>review</th>\n    </tr>\n  </thead>\n  <tbody>\n    <tr>\n      <th>0</th>\n      <td>370476</td>\n      <td>21752</td>\n      <td>57993</td>\n      <td>2003-05-01</td>\n      <td>5</td>\n      <td>Last week whole sides of frozen salmon fillet ...</td>\n    </tr>\n    <tr>\n      <th>1</th>\n      <td>624300</td>\n      <td>431813</td>\n      <td>142201</td>\n      <td>2007-09-16</td>\n      <td>5</td>\n      <td>So simple and so tasty!  I used a yellow capsi...</td>\n    </tr>\n    <tr>\n      <th>2</th>\n      <td>187037</td>\n      <td>400708</td>\n      <td>252013</td>\n      <td>2008-01-10</td>\n      <td>4</td>\n      <td>Very nice breakfast HH, easy to make and yummy...</td>\n    </tr>\n    <tr>\n      <th>3</th>\n      <td>706134</td>\n      <td>2001852463</td>\n      <td>404716</td>\n      <td>2017-12-11</td>\n      <td>5</td>\n      <td>These are a favorite for the holidays and so e...</td>\n    </tr>\n    <tr>\n      <th>4</th>\n      <td>312179</td>\n      <td>95810</td>\n      <td>129396</td>\n      <td>2008-03-14</td>\n      <td>5</td>\n      <td>Excellent soup!  The tomato flavor is just gre...</td>\n    </tr>\n    <tr>\n      <th>...</th>\n      <td>...</td>\n      <td>...</td>\n      <td>...</td>\n      <td>...</td>\n      <td>...</td>\n      <td>...</td>\n    </tr>\n    <tr>\n      <th>126691</th>\n      <td>1013457</td>\n      <td>1270706</td>\n      <td>335534</td>\n      <td>2009-05-17</td>\n      <td>4</td>\n      <td>This recipe was great! I made it last night. I...</td>\n    </tr>\n    <tr>\n      <th>126692</th>\n      <td>158736</td>\n      <td>2282344</td>\n      <td>8701</td>\n      <td>2012-06-03</td>\n      <td>0</td>\n      <td>This recipe is outstanding. I followed the rec...</td>\n    </tr>\n    <tr>\n      <th>126693</th>\n      <td>1059834</td>\n      <td>689540</td>\n      <td>222001</td>\n      <td>2008-04-08</td>\n      <td>5</td>\n      <td>Well, we were not a crowd but it was a fabulou...</td>\n    </tr>\n    <tr>\n      <th>126694</th>\n      <td>453285</td>\n      <td>2000242659</td>\n      <td>354979</td>\n      <td>2015-06-02</td>\n      <td>5</td>\n      <td>I have been a steak eater and dedicated BBQ gr...</td>\n    </tr>\n    <tr>\n      <th>126695</th>\n      <td>691207</td>\n      <td>463435</td>\n      <td>415599</td>\n      <td>2010-09-30</td>\n      <td>5</td>\n      <td>Wonderful and simple to prepare seasoning blen...</td>\n    </tr>\n  </tbody>\n</table>\n<p>126696 rows × 6 columns</p>\n</div>"
     },
     "execution_count": 4,
     "metadata": {},
     "output_type": "execute_result"
    }
   ],
   "source": [
    "reviews"
   ]
  },
  {
   "cell_type": "markdown",
   "metadata": {},
   "source": [
    "1.2 Для каждой из таблиц выведите основные параметры:\n",
    "* количество точек данных (строк);\n",
    "* количество столбцов;\n",
    "* тип данных каждого столбца."
   ]
  },
  {
   "cell_type": "code",
   "execution_count": 5,
   "metadata": {
    "scrolled": true,
    "ExecuteTime": {
     "end_time": "2024-03-19T05:43:34.453729514Z",
     "start_time": "2024-03-19T05:43:34.405368037Z"
    }
   },
   "outputs": [
    {
     "name": "stdout",
     "output_type": "stream",
     "text": [
      "126696 30000\n"
     ]
    }
   ],
   "source": [
    "print(len(reviews), len(recipes))"
   ]
  },
  {
   "cell_type": "code",
   "execution_count": 6,
   "metadata": {
    "ExecuteTime": {
     "end_time": "2024-03-19T05:43:37.089323300Z",
     "start_time": "2024-03-19T05:43:37.063394869Z"
    }
   },
   "outputs": [
    {
     "name": "stdout",
     "output_type": "stream",
     "text": [
      "<class 'pandas.core.frame.DataFrame'>\n",
      "RangeIndex: 126696 entries, 0 to 126695\n",
      "Data columns (total 6 columns):\n",
      " #   Column      Non-Null Count   Dtype \n",
      "---  ------      --------------   ----- \n",
      " 0   Unnamed: 0  126696 non-null  int64 \n",
      " 1   user_id     126696 non-null  int64 \n",
      " 2   recipe_id   126696 non-null  int64 \n",
      " 3   date        126696 non-null  object\n",
      " 4   rating      126696 non-null  int64 \n",
      " 5   review      126679 non-null  object\n",
      "dtypes: int64(4), object(2)\n",
      "memory usage: 5.8+ MB\n"
     ]
    }
   ],
   "source": [
    "pd.DataFrame.info(reviews)"
   ]
  },
  {
   "cell_type": "markdown",
   "metadata": {},
   "source": [
    "1.3 Исследуйте, в каких столбцах таблиц содержатся пропуски. Посчитайте долю строк, содержащих пропуски, в отношении к общему количеству строк."
   ]
  },
  {
   "cell_type": "code",
   "execution_count": 7,
   "metadata": {
    "scrolled": true,
    "ExecuteTime": {
     "end_time": "2024-03-19T05:43:58.350720792Z",
     "start_time": "2024-03-19T05:43:58.296385155Z"
    }
   },
   "outputs": [
    {
     "name": "stdout",
     "output_type": "stream",
     "text": [
      "       A      B      C\n",
      "2   True   True   True\n",
      "3   True  False   True\n",
      "4   True   True  False\n",
      "5  False  False   True\n",
      "A   NaN\n",
      "B   NaN\n",
      "C   NaN\n",
      "Name: 2, dtype: float64\n"
     ]
    }
   ],
   "source": [
    "example = pd.DataFrame(np.random.randint(0, 10, (4, 3)), columns=['A', 'B', 'C'], index=[2, 3, 4, 5])\n",
    "\n",
    "example_ = example[example > 4]\n",
    "\n",
    "print(example_.isnull())\n",
    "\n",
    "print(example_.iloc[0])"
   ]
  },
  {
   "cell_type": "code",
   "execution_count": 8,
   "metadata": {
    "ExecuteTime": {
     "end_time": "2024-03-19T05:44:01.950838156Z",
     "start_time": "2024-03-19T05:44:01.930263943Z"
    }
   },
   "outputs": [
    {
     "name": "stdout",
     "output_type": "stream",
     "text": [
      "name                  0\n",
      "id                    0\n",
      "minutes               0\n",
      "contributor_id        0\n",
      "submitted             0\n",
      "n_steps           11190\n",
      "description         623\n",
      "n_ingredients      8880\n",
      "dtype: int64\n",
      "56.85\n"
     ]
    }
   ],
   "source": [
    "print(recipes.isnull().sum())\n",
    "nulls = recipes.isnull().sum(axis=1)\n",
    "len(nulls[nulls > 0])\n",
    "print(round(len(nulls[nulls > 0]) / len(recipes) * 100, 2))"
   ]
  },
  {
   "cell_type": "markdown",
   "metadata": {},
   "source": [
    "1.4 Рассчитайте среднее значение для каждого из числовых столбцов (где это имеет смысл)."
   ]
  },
  {
   "cell_type": "code",
   "execution_count": 9,
   "metadata": {
    "ExecuteTime": {
     "end_time": "2024-03-19T05:44:21.234309828Z",
     "start_time": "2024-03-19T05:44:21.189208398Z"
    }
   },
   "outputs": [
    {
     "name": "stdout",
     "output_type": "stream",
     "text": [
      "в столбце \"id\" среднее значение = 221879.29\n",
      "в столбце \"minutes\" среднее значение = 123.36\n",
      "в столбце \"contributor_id\" среднее значение = 5635900.57\n",
      "в столбце \"n_steps\" среднее значение = 6.52\n",
      "в столбце \"n_ingredients\" среднее значение = 6.64\n"
     ]
    }
   ],
   "source": [
    "columns = recipes.columns\n",
    "recipes_ = recipes.fillna(1)\n",
    "for column in columns:\n",
    "    if recipes_[column].dtype != 'object':\n",
    "        print(f'в столбце \"{column}\" среднее значение = {round(np.mean(recipes_[column]), 2)}')"
   ]
  },
  {
   "cell_type": "markdown",
   "metadata": {},
   "source": [
    "1.5 Создайте серию из 10 случайных названий рецептов."
   ]
  },
  {
   "cell_type": "code",
   "execution_count": 10,
   "metadata": {
    "ExecuteTime": {
     "end_time": "2024-03-19T05:44:23.836381850Z",
     "start_time": "2024-03-19T05:44:23.832543348Z"
    }
   },
   "outputs": [
    {
     "name": "stdout",
     "output_type": "stream",
     "text": [
      "20561               perfect pineapple pie\n",
      "23536    sauteed red cabbage with raisins\n",
      "21929                  quick domino slice\n",
      "14118              horseradish cheese dip\n",
      "18863                              nshima\n",
      "28490             valrhona chocolate cake\n",
      "11677       funfetti cookies from scratch\n",
      "11317                        french twist\n",
      "170          3 ingredient sausage squares\n",
      "21619           puerto rican chicken soup\n",
      "Name: name, dtype: object\n"
     ]
    }
   ],
   "source": [
    "random_rows = recipes['name'].sample(n=10)\n",
    "print(random_rows)"
   ]
  },
  {
   "cell_type": "markdown",
   "metadata": {},
   "source": [
    "1.6 Измените индекс в таблице `reviews`, пронумеровав строки, начиная с нуля."
   ]
  },
  {
   "cell_type": "code",
   "execution_count": 11,
   "metadata": {
    "ExecuteTime": {
     "end_time": "2024-03-19T05:44:29.205125532Z",
     "start_time": "2024-03-19T05:44:29.169567262Z"
    }
   },
   "outputs": [
    {
     "data": {
      "text/plain": "        Unnamed: 0     user_id  recipe_id        date  rating  \\\n126695      691207      463435     415599  2010-09-30       5   \n126694      453285  2000242659     354979  2015-06-02       5   \n126693     1059834      689540     222001  2008-04-08       5   \n126692      158736     2282344       8701  2012-06-03       0   \n126691     1013457     1270706     335534  2009-05-17       4   \n...            ...         ...        ...         ...     ...   \n4           312179       95810     129396  2008-03-14       5   \n3           706134  2001852463     404716  2017-12-11       5   \n2           187037      400708     252013  2008-01-10       4   \n1           624300      431813     142201  2007-09-16       5   \n0           370476       21752      57993  2003-05-01       5   \n\n                                                   review  \n126695  Wonderful and simple to prepare seasoning blen...  \n126694  I have been a steak eater and dedicated BBQ gr...  \n126693  Well, we were not a crowd but it was a fabulou...  \n126692  This recipe is outstanding. I followed the rec...  \n126691  This recipe was great! I made it last night. I...  \n...                                                   ...  \n4       Excellent soup!  The tomato flavor is just gre...  \n3       These are a favorite for the holidays and so e...  \n2       Very nice breakfast HH, easy to make and yummy...  \n1       So simple and so tasty!  I used a yellow capsi...  \n0       Last week whole sides of frozen salmon fillet ...  \n\n[126696 rows x 6 columns]",
      "text/html": "<div>\n<style scoped>\n    .dataframe tbody tr th:only-of-type {\n        vertical-align: middle;\n    }\n\n    .dataframe tbody tr th {\n        vertical-align: top;\n    }\n\n    .dataframe thead th {\n        text-align: right;\n    }\n</style>\n<table border=\"1\" class=\"dataframe\">\n  <thead>\n    <tr style=\"text-align: right;\">\n      <th></th>\n      <th>Unnamed: 0</th>\n      <th>user_id</th>\n      <th>recipe_id</th>\n      <th>date</th>\n      <th>rating</th>\n      <th>review</th>\n    </tr>\n  </thead>\n  <tbody>\n    <tr>\n      <th>126695</th>\n      <td>691207</td>\n      <td>463435</td>\n      <td>415599</td>\n      <td>2010-09-30</td>\n      <td>5</td>\n      <td>Wonderful and simple to prepare seasoning blen...</td>\n    </tr>\n    <tr>\n      <th>126694</th>\n      <td>453285</td>\n      <td>2000242659</td>\n      <td>354979</td>\n      <td>2015-06-02</td>\n      <td>5</td>\n      <td>I have been a steak eater and dedicated BBQ gr...</td>\n    </tr>\n    <tr>\n      <th>126693</th>\n      <td>1059834</td>\n      <td>689540</td>\n      <td>222001</td>\n      <td>2008-04-08</td>\n      <td>5</td>\n      <td>Well, we were not a crowd but it was a fabulou...</td>\n    </tr>\n    <tr>\n      <th>126692</th>\n      <td>158736</td>\n      <td>2282344</td>\n      <td>8701</td>\n      <td>2012-06-03</td>\n      <td>0</td>\n      <td>This recipe is outstanding. I followed the rec...</td>\n    </tr>\n    <tr>\n      <th>126691</th>\n      <td>1013457</td>\n      <td>1270706</td>\n      <td>335534</td>\n      <td>2009-05-17</td>\n      <td>4</td>\n      <td>This recipe was great! I made it last night. I...</td>\n    </tr>\n    <tr>\n      <th>...</th>\n      <td>...</td>\n      <td>...</td>\n      <td>...</td>\n      <td>...</td>\n      <td>...</td>\n      <td>...</td>\n    </tr>\n    <tr>\n      <th>4</th>\n      <td>312179</td>\n      <td>95810</td>\n      <td>129396</td>\n      <td>2008-03-14</td>\n      <td>5</td>\n      <td>Excellent soup!  The tomato flavor is just gre...</td>\n    </tr>\n    <tr>\n      <th>3</th>\n      <td>706134</td>\n      <td>2001852463</td>\n      <td>404716</td>\n      <td>2017-12-11</td>\n      <td>5</td>\n      <td>These are a favorite for the holidays and so e...</td>\n    </tr>\n    <tr>\n      <th>2</th>\n      <td>187037</td>\n      <td>400708</td>\n      <td>252013</td>\n      <td>2008-01-10</td>\n      <td>4</td>\n      <td>Very nice breakfast HH, easy to make and yummy...</td>\n    </tr>\n    <tr>\n      <th>1</th>\n      <td>624300</td>\n      <td>431813</td>\n      <td>142201</td>\n      <td>2007-09-16</td>\n      <td>5</td>\n      <td>So simple and so tasty!  I used a yellow capsi...</td>\n    </tr>\n    <tr>\n      <th>0</th>\n      <td>370476</td>\n      <td>21752</td>\n      <td>57993</td>\n      <td>2003-05-01</td>\n      <td>5</td>\n      <td>Last week whole sides of frozen salmon fillet ...</td>\n    </tr>\n  </tbody>\n</table>\n<p>126696 rows × 6 columns</p>\n</div>"
     },
     "execution_count": 11,
     "metadata": {},
     "output_type": "execute_result"
    }
   ],
   "source": [
    "new_reviews = pd.DataFrame(reviews, index=np.arange(len(reviews))[::-1])\n",
    "new_reviews"
   ]
  },
  {
   "cell_type": "markdown",
   "metadata": {},
   "source": [
    "1.7 Выведите информацию о рецептах, время выполнения которых не больше 20 минут и кол-во ингредиентов в которых не больше 5."
   ]
  },
  {
   "cell_type": "code",
   "execution_count": 12,
   "metadata": {
    "ExecuteTime": {
     "end_time": "2024-03-19T05:44:41.092981743Z",
     "start_time": "2024-03-19T05:44:41.059623905Z"
    }
   },
   "outputs": [
    {
     "data": {
      "text/plain": "                                                    name      id  minutes  \\\n28                                   quick biscuit bread  302399       20   \n60                         peas  fit for a king or queen  303944       20   \n90                     hawaiian sunrise           mimosa  100837        5   \n91            tasty dish s   banana pudding in 2 minutes  286484        2   \n94                                    1 minute meatballs   11361       13   \n...                                                  ...     ...      ...   \n29873  zip and steam red potatoes with butter and garlic  304922       13   \n29874                          ziplock vanilla ice cream   74250       10   \n29905                      zucchini and corn with cheese  256177       15   \n29980               zucchini with jalapeno monterey jack  320622       10   \n29983                          zucchini with serrano ham  162411       15   \n\n       contributor_id   submitted  n_steps  \\\n28             213909  2008-05-06     11.0   \n60             213909  2008-05-16      NaN   \n90              58104  2004-09-29      4.0   \n91              47892  2008-02-13      NaN   \n94               4470  2001-09-03      NaN   \n...               ...         ...      ...   \n29873          724218  2008-05-27      9.0   \n29874           24386  2003-10-29      8.0   \n29905          305531  2007-09-29      4.0   \n29980          305531  2008-08-20      3.0   \n29983          152500  2006-03-31      6.0   \n\n                                             description  n_ingredients  \n28     this is a wonderful quick bread to make as an ...            5.0  \n60     this recipe is so simple and the flavors are s...            5.0  \n90     pineapple mimosa was changed to hawaiian sunri...            3.0  \n91     \"mmmm, i love bananas!\" a --tasty dish-- origi...            4.0  \n94     this is a real short cut for cooks in a hurry....            2.0  \n...                                                  ...            ...  \n29873  i haven't tried this yet, but i am going to so...            5.0  \n29874  a fun thing for kids to do. may want to use mi...            3.0  \n29905  from betty crocker fresh spring recipes. i lik...            5.0  \n29980                                  simple and yummy!            3.0  \n29983  this dish is from tim malzer, a german chef wh...            5.0  \n\n[2019 rows x 8 columns]",
      "text/html": "<div>\n<style scoped>\n    .dataframe tbody tr th:only-of-type {\n        vertical-align: middle;\n    }\n\n    .dataframe tbody tr th {\n        vertical-align: top;\n    }\n\n    .dataframe thead th {\n        text-align: right;\n    }\n</style>\n<table border=\"1\" class=\"dataframe\">\n  <thead>\n    <tr style=\"text-align: right;\">\n      <th></th>\n      <th>name</th>\n      <th>id</th>\n      <th>minutes</th>\n      <th>contributor_id</th>\n      <th>submitted</th>\n      <th>n_steps</th>\n      <th>description</th>\n      <th>n_ingredients</th>\n    </tr>\n  </thead>\n  <tbody>\n    <tr>\n      <th>28</th>\n      <td>quick biscuit bread</td>\n      <td>302399</td>\n      <td>20</td>\n      <td>213909</td>\n      <td>2008-05-06</td>\n      <td>11.0</td>\n      <td>this is a wonderful quick bread to make as an ...</td>\n      <td>5.0</td>\n    </tr>\n    <tr>\n      <th>60</th>\n      <td>peas  fit for a king or queen</td>\n      <td>303944</td>\n      <td>20</td>\n      <td>213909</td>\n      <td>2008-05-16</td>\n      <td>NaN</td>\n      <td>this recipe is so simple and the flavors are s...</td>\n      <td>5.0</td>\n    </tr>\n    <tr>\n      <th>90</th>\n      <td>hawaiian sunrise           mimosa</td>\n      <td>100837</td>\n      <td>5</td>\n      <td>58104</td>\n      <td>2004-09-29</td>\n      <td>4.0</td>\n      <td>pineapple mimosa was changed to hawaiian sunri...</td>\n      <td>3.0</td>\n    </tr>\n    <tr>\n      <th>91</th>\n      <td>tasty dish s   banana pudding in 2 minutes</td>\n      <td>286484</td>\n      <td>2</td>\n      <td>47892</td>\n      <td>2008-02-13</td>\n      <td>NaN</td>\n      <td>\"mmmm, i love bananas!\" a --tasty dish-- origi...</td>\n      <td>4.0</td>\n    </tr>\n    <tr>\n      <th>94</th>\n      <td>1 minute meatballs</td>\n      <td>11361</td>\n      <td>13</td>\n      <td>4470</td>\n      <td>2001-09-03</td>\n      <td>NaN</td>\n      <td>this is a real short cut for cooks in a hurry....</td>\n      <td>2.0</td>\n    </tr>\n    <tr>\n      <th>...</th>\n      <td>...</td>\n      <td>...</td>\n      <td>...</td>\n      <td>...</td>\n      <td>...</td>\n      <td>...</td>\n      <td>...</td>\n      <td>...</td>\n    </tr>\n    <tr>\n      <th>29873</th>\n      <td>zip and steam red potatoes with butter and garlic</td>\n      <td>304922</td>\n      <td>13</td>\n      <td>724218</td>\n      <td>2008-05-27</td>\n      <td>9.0</td>\n      <td>i haven't tried this yet, but i am going to so...</td>\n      <td>5.0</td>\n    </tr>\n    <tr>\n      <th>29874</th>\n      <td>ziplock vanilla ice cream</td>\n      <td>74250</td>\n      <td>10</td>\n      <td>24386</td>\n      <td>2003-10-29</td>\n      <td>8.0</td>\n      <td>a fun thing for kids to do. may want to use mi...</td>\n      <td>3.0</td>\n    </tr>\n    <tr>\n      <th>29905</th>\n      <td>zucchini and corn with cheese</td>\n      <td>256177</td>\n      <td>15</td>\n      <td>305531</td>\n      <td>2007-09-29</td>\n      <td>4.0</td>\n      <td>from betty crocker fresh spring recipes. i lik...</td>\n      <td>5.0</td>\n    </tr>\n    <tr>\n      <th>29980</th>\n      <td>zucchini with jalapeno monterey jack</td>\n      <td>320622</td>\n      <td>10</td>\n      <td>305531</td>\n      <td>2008-08-20</td>\n      <td>3.0</td>\n      <td>simple and yummy!</td>\n      <td>3.0</td>\n    </tr>\n    <tr>\n      <th>29983</th>\n      <td>zucchini with serrano ham</td>\n      <td>162411</td>\n      <td>15</td>\n      <td>152500</td>\n      <td>2006-03-31</td>\n      <td>6.0</td>\n      <td>this dish is from tim malzer, a german chef wh...</td>\n      <td>5.0</td>\n    </tr>\n  </tbody>\n</table>\n<p>2019 rows × 8 columns</p>\n</div>"
     },
     "execution_count": 12,
     "metadata": {},
     "output_type": "execute_result"
    }
   ],
   "source": [
    "sorted_recipes = recipes[(recipes['minutes'] <= 20) & (recipes['n_ingredients'] <= 5)]\n",
    "sorted_recipes"
   ]
  },
  {
   "cell_type": "markdown",
   "metadata": {},
   "source": [
    "### Работа с датами в `pandas`"
   ]
  },
  {
   "cell_type": "markdown",
   "metadata": {},
   "source": [
    "2.1 Преобразуйте столбец `submitted` из таблицы `recipes` в формат времени. Модифицируйте решение задачи 1.1 так, чтобы считать столбец сразу в нужном формате."
   ]
  },
  {
   "cell_type": "code",
   "execution_count": 14,
   "metadata": {
    "ExecuteTime": {
     "end_time": "2024-03-19T05:45:00.942146467Z",
     "start_time": "2024-03-19T05:45:00.785076229Z"
    }
   },
   "outputs": [
    {
     "name": "stdout",
     "output_type": "stream",
     "text": [
      "datetime64[ns]\n"
     ]
    },
    {
     "data": {
      "text/plain": "dtype('<M8[ns]')"
     },
     "execution_count": 14,
     "metadata": {},
     "output_type": "execute_result"
    }
   ],
   "source": [
    "recipes['submitted'] = pd.to_datetime(recipes['submitted'])\n",
    "print(recipes['submitted'].dtype)\n",
    "\n",
    "corrected_recipes = pd.read_csv('data/recipes_sample.csv', parse_dates=['submitted'])\n",
    "corrected_recipes['submitted'].dtype\n"
   ]
  },
  {
   "cell_type": "markdown",
   "metadata": {},
   "source": [
    "2.2 Выведите информацию о рецептах, добавленных в датасет не позже 2010 года."
   ]
  },
  {
   "cell_type": "code",
   "execution_count": 15,
   "metadata": {
    "ExecuteTime": {
     "end_time": "2024-03-19T05:45:09.000491655Z",
     "start_time": "2024-03-19T05:45:08.968523404Z"
    }
   },
   "outputs": [
    {
     "data": {
      "text/plain": "                                                    name      id  minutes  \\\n12177  gluten free  yeast free sandwich and hamburger...  445211       30   \n13863            homemade ginger cardamom soda with lime  445235       10   \n6070                      chicken with haloumi and honey  445244       35   \n23548                   sauteed yam with ginger and lime  445255       50   \n7391                cold sesame noodles   tyler florence  445486       30   \n...                                                  ...     ...      ...   \n4932                                 cauliflower ceviche  536547       45   \n17803                      miracle home made puff pastry  536610       35   \n12124                              gluten free  vegemite  536728        2   \n8442                        creole watermelon feta salad  536729       10   \n15938                                 lemon pom pom cake  536747      210   \n\n       contributor_id  submitted  n_steps  \\\n12177           28177 2011-01-01     15.0   \n13863           37449 2011-01-01      NaN   \n6070           315565 2011-01-02      5.0   \n23548          542159 2011-01-02      8.0   \n7391           714468 2011-01-03     15.0   \n...               ...        ...      ...   \n4932       2002234079 2018-07-30     15.0   \n17803      2002234259 2018-07-31     17.0   \n12124         1052873 2018-08-11      NaN   \n8442          1052873 2018-08-11      4.0   \n15938      2002247884 2018-08-15     51.0   \n\n                                             description  n_ingredients  \n12177  note (10/24/15):  i do not recommend this reci...            5.0  \n13863  this is a good recipe, and can be changed up w...            NaN  \n6070   another ? donna hay recipe torn out of a magaz...            6.0  \n23548               these yams make a nice side to pork.            NaN  \n7391                                  from eat this book           16.0  \n...                                                  ...            ...  \n4932   a healthy ceviche - a perfect appetizer for pa...            8.0  \n17803  puff pastry that you can make in minutes? at h...            NaN  \n12124                   gluten free vegemite-like stuff.            3.0  \n8442   spicy watermelon salad. from tony chachere's s...            NaN  \n15938  by far one of my most joyous cake creations, t...           20.0  \n\n[2339 rows x 8 columns]",
      "text/html": "<div>\n<style scoped>\n    .dataframe tbody tr th:only-of-type {\n        vertical-align: middle;\n    }\n\n    .dataframe tbody tr th {\n        vertical-align: top;\n    }\n\n    .dataframe thead th {\n        text-align: right;\n    }\n</style>\n<table border=\"1\" class=\"dataframe\">\n  <thead>\n    <tr style=\"text-align: right;\">\n      <th></th>\n      <th>name</th>\n      <th>id</th>\n      <th>minutes</th>\n      <th>contributor_id</th>\n      <th>submitted</th>\n      <th>n_steps</th>\n      <th>description</th>\n      <th>n_ingredients</th>\n    </tr>\n  </thead>\n  <tbody>\n    <tr>\n      <th>12177</th>\n      <td>gluten free  yeast free sandwich and hamburger...</td>\n      <td>445211</td>\n      <td>30</td>\n      <td>28177</td>\n      <td>2011-01-01</td>\n      <td>15.0</td>\n      <td>note (10/24/15):  i do not recommend this reci...</td>\n      <td>5.0</td>\n    </tr>\n    <tr>\n      <th>13863</th>\n      <td>homemade ginger cardamom soda with lime</td>\n      <td>445235</td>\n      <td>10</td>\n      <td>37449</td>\n      <td>2011-01-01</td>\n      <td>NaN</td>\n      <td>this is a good recipe, and can be changed up w...</td>\n      <td>NaN</td>\n    </tr>\n    <tr>\n      <th>6070</th>\n      <td>chicken with haloumi and honey</td>\n      <td>445244</td>\n      <td>35</td>\n      <td>315565</td>\n      <td>2011-01-02</td>\n      <td>5.0</td>\n      <td>another ? donna hay recipe torn out of a magaz...</td>\n      <td>6.0</td>\n    </tr>\n    <tr>\n      <th>23548</th>\n      <td>sauteed yam with ginger and lime</td>\n      <td>445255</td>\n      <td>50</td>\n      <td>542159</td>\n      <td>2011-01-02</td>\n      <td>8.0</td>\n      <td>these yams make a nice side to pork.</td>\n      <td>NaN</td>\n    </tr>\n    <tr>\n      <th>7391</th>\n      <td>cold sesame noodles   tyler florence</td>\n      <td>445486</td>\n      <td>30</td>\n      <td>714468</td>\n      <td>2011-01-03</td>\n      <td>15.0</td>\n      <td>from eat this book</td>\n      <td>16.0</td>\n    </tr>\n    <tr>\n      <th>...</th>\n      <td>...</td>\n      <td>...</td>\n      <td>...</td>\n      <td>...</td>\n      <td>...</td>\n      <td>...</td>\n      <td>...</td>\n      <td>...</td>\n    </tr>\n    <tr>\n      <th>4932</th>\n      <td>cauliflower ceviche</td>\n      <td>536547</td>\n      <td>45</td>\n      <td>2002234079</td>\n      <td>2018-07-30</td>\n      <td>15.0</td>\n      <td>a healthy ceviche - a perfect appetizer for pa...</td>\n      <td>8.0</td>\n    </tr>\n    <tr>\n      <th>17803</th>\n      <td>miracle home made puff pastry</td>\n      <td>536610</td>\n      <td>35</td>\n      <td>2002234259</td>\n      <td>2018-07-31</td>\n      <td>17.0</td>\n      <td>puff pastry that you can make in minutes? at h...</td>\n      <td>NaN</td>\n    </tr>\n    <tr>\n      <th>12124</th>\n      <td>gluten free  vegemite</td>\n      <td>536728</td>\n      <td>2</td>\n      <td>1052873</td>\n      <td>2018-08-11</td>\n      <td>NaN</td>\n      <td>gluten free vegemite-like stuff.</td>\n      <td>3.0</td>\n    </tr>\n    <tr>\n      <th>8442</th>\n      <td>creole watermelon feta salad</td>\n      <td>536729</td>\n      <td>10</td>\n      <td>1052873</td>\n      <td>2018-08-11</td>\n      <td>4.0</td>\n      <td>spicy watermelon salad. from tony chachere's s...</td>\n      <td>NaN</td>\n    </tr>\n    <tr>\n      <th>15938</th>\n      <td>lemon pom pom cake</td>\n      <td>536747</td>\n      <td>210</td>\n      <td>2002247884</td>\n      <td>2018-08-15</td>\n      <td>51.0</td>\n      <td>by far one of my most joyous cake creations, t...</td>\n      <td>20.0</td>\n    </tr>\n  </tbody>\n</table>\n<p>2339 rows × 8 columns</p>\n</div>"
     },
     "execution_count": 15,
     "metadata": {},
     "output_type": "execute_result"
    }
   ],
   "source": [
    "recipes_sorted = recipes[recipes['submitted'].dt.year > 2010].sort_values('submitted')\n",
    "recipes_sorted"
   ]
  },
  {
   "cell_type": "markdown",
   "metadata": {},
   "source": [
    "### Работа со строковыми данными в `pandas`"
   ]
  },
  {
   "cell_type": "markdown",
   "metadata": {},
   "source": [
    "3.1  Добавьте в таблицу `recipes` столбец `description_length`, в котором хранится длина описания рецепта из столбца `description`."
   ]
  },
  {
   "cell_type": "code",
   "execution_count": 16,
   "metadata": {
    "ExecuteTime": {
     "end_time": "2024-03-19T05:45:15.160730804Z",
     "start_time": "2024-03-19T05:45:15.097476295Z"
    }
   },
   "outputs": [
    {
     "data": {
      "text/plain": "                                               name      id  minutes  \\\n0             george s at the cove  black bean soup   44123       90   \n1                healthy for them  yogurt popsicles   67664       10   \n2                      i can t believe it s spinach   38798       30   \n3                              italian  gut busters   35173       45   \n4          love is in the air  beef fondue   sauces   84797       25   \n...                                             ...     ...      ...   \n29995  zurie s holey rustic olive and cheddar bread  267661       80   \n29996          zwetschgenkuchen  bavarian plum cake  386977      240   \n29997   zwiebelkuchen   southwest german onion cake  103312       75   \n29998                                   zydeco soup  486161       60   \n29999        cookies by design   cookies on a stick  298512       29   \n\n       contributor_id  submitted  n_steps  \\\n0               35193 2002-10-25      NaN   \n1               91970 2003-07-26      NaN   \n2                1533 2002-08-29      NaN   \n3               22724 2002-07-27      NaN   \n4                4470 2004-02-23      4.0   \n...               ...        ...      ...   \n29995          200862 2007-11-25     16.0   \n29996          177443 2009-08-24      NaN   \n29997          161745 2004-11-03      NaN   \n29998          227978 2012-08-29      NaN   \n29999          506822 2008-04-15      9.0   \n\n                                             description  n_ingredients  \\\n0      an original recipe created by chef scott meska...           18.0   \n1      my children and their friends ask for my homem...            NaN   \n2                these were so go, it surprised even me.            8.0   \n3      my sister-in-law made these for us at a family...            NaN   \n4      i think a fondue is a very romantic casual din...            NaN   \n...                                                  ...            ...   \n29995  this is based on a french recipe but i changed...           10.0   \n29996  this is a traditional fresh plum cake, thought...           11.0   \n29997  this is a traditional late summer early fall s...            NaN   \n29998  this is a delicious soup that i originally fou...            NaN   \n29999  i've heard of the 'cookies by design' company,...           10.0   \n\n       description_lenght  \n0                   330.0  \n1                   255.0  \n2                    39.0  \n3                   154.0  \n4                   587.0  \n...                   ...  \n29995               484.0  \n29996               286.0  \n29997               311.0  \n29998               648.0  \n29999               125.0  \n\n[30000 rows x 9 columns]",
      "text/html": "<div>\n<style scoped>\n    .dataframe tbody tr th:only-of-type {\n        vertical-align: middle;\n    }\n\n    .dataframe tbody tr th {\n        vertical-align: top;\n    }\n\n    .dataframe thead th {\n        text-align: right;\n    }\n</style>\n<table border=\"1\" class=\"dataframe\">\n  <thead>\n    <tr style=\"text-align: right;\">\n      <th></th>\n      <th>name</th>\n      <th>id</th>\n      <th>minutes</th>\n      <th>contributor_id</th>\n      <th>submitted</th>\n      <th>n_steps</th>\n      <th>description</th>\n      <th>n_ingredients</th>\n      <th>description_lenght</th>\n    </tr>\n  </thead>\n  <tbody>\n    <tr>\n      <th>0</th>\n      <td>george s at the cove  black bean soup</td>\n      <td>44123</td>\n      <td>90</td>\n      <td>35193</td>\n      <td>2002-10-25</td>\n      <td>NaN</td>\n      <td>an original recipe created by chef scott meska...</td>\n      <td>18.0</td>\n      <td>330.0</td>\n    </tr>\n    <tr>\n      <th>1</th>\n      <td>healthy for them  yogurt popsicles</td>\n      <td>67664</td>\n      <td>10</td>\n      <td>91970</td>\n      <td>2003-07-26</td>\n      <td>NaN</td>\n      <td>my children and their friends ask for my homem...</td>\n      <td>NaN</td>\n      <td>255.0</td>\n    </tr>\n    <tr>\n      <th>2</th>\n      <td>i can t believe it s spinach</td>\n      <td>38798</td>\n      <td>30</td>\n      <td>1533</td>\n      <td>2002-08-29</td>\n      <td>NaN</td>\n      <td>these were so go, it surprised even me.</td>\n      <td>8.0</td>\n      <td>39.0</td>\n    </tr>\n    <tr>\n      <th>3</th>\n      <td>italian  gut busters</td>\n      <td>35173</td>\n      <td>45</td>\n      <td>22724</td>\n      <td>2002-07-27</td>\n      <td>NaN</td>\n      <td>my sister-in-law made these for us at a family...</td>\n      <td>NaN</td>\n      <td>154.0</td>\n    </tr>\n    <tr>\n      <th>4</th>\n      <td>love is in the air  beef fondue   sauces</td>\n      <td>84797</td>\n      <td>25</td>\n      <td>4470</td>\n      <td>2004-02-23</td>\n      <td>4.0</td>\n      <td>i think a fondue is a very romantic casual din...</td>\n      <td>NaN</td>\n      <td>587.0</td>\n    </tr>\n    <tr>\n      <th>...</th>\n      <td>...</td>\n      <td>...</td>\n      <td>...</td>\n      <td>...</td>\n      <td>...</td>\n      <td>...</td>\n      <td>...</td>\n      <td>...</td>\n      <td>...</td>\n    </tr>\n    <tr>\n      <th>29995</th>\n      <td>zurie s holey rustic olive and cheddar bread</td>\n      <td>267661</td>\n      <td>80</td>\n      <td>200862</td>\n      <td>2007-11-25</td>\n      <td>16.0</td>\n      <td>this is based on a french recipe but i changed...</td>\n      <td>10.0</td>\n      <td>484.0</td>\n    </tr>\n    <tr>\n      <th>29996</th>\n      <td>zwetschgenkuchen  bavarian plum cake</td>\n      <td>386977</td>\n      <td>240</td>\n      <td>177443</td>\n      <td>2009-08-24</td>\n      <td>NaN</td>\n      <td>this is a traditional fresh plum cake, thought...</td>\n      <td>11.0</td>\n      <td>286.0</td>\n    </tr>\n    <tr>\n      <th>29997</th>\n      <td>zwiebelkuchen   southwest german onion cake</td>\n      <td>103312</td>\n      <td>75</td>\n      <td>161745</td>\n      <td>2004-11-03</td>\n      <td>NaN</td>\n      <td>this is a traditional late summer early fall s...</td>\n      <td>NaN</td>\n      <td>311.0</td>\n    </tr>\n    <tr>\n      <th>29998</th>\n      <td>zydeco soup</td>\n      <td>486161</td>\n      <td>60</td>\n      <td>227978</td>\n      <td>2012-08-29</td>\n      <td>NaN</td>\n      <td>this is a delicious soup that i originally fou...</td>\n      <td>NaN</td>\n      <td>648.0</td>\n    </tr>\n    <tr>\n      <th>29999</th>\n      <td>cookies by design   cookies on a stick</td>\n      <td>298512</td>\n      <td>29</td>\n      <td>506822</td>\n      <td>2008-04-15</td>\n      <td>9.0</td>\n      <td>i've heard of the 'cookies by design' company,...</td>\n      <td>10.0</td>\n      <td>125.0</td>\n    </tr>\n  </tbody>\n</table>\n<p>30000 rows × 9 columns</p>\n</div>"
     },
     "execution_count": 16,
     "metadata": {},
     "output_type": "execute_result"
    }
   ],
   "source": [
    "recipes['description_lenght'] = recipes['description'].str.len()\n",
    "recipes"
   ]
  },
  {
   "cell_type": "markdown",
   "metadata": {},
   "source": [
    "3.2 Измените название каждого рецепта в таблице `recipes` таким образом, чтобы каждое слово в названии начиналось с прописной буквы."
   ]
  },
  {
   "cell_type": "code",
   "execution_count": 17,
   "metadata": {
    "ExecuteTime": {
     "end_time": "2024-03-19T05:45:22.084709962Z",
     "start_time": "2024-03-19T05:45:22.066177270Z"
    }
   },
   "outputs": [
    {
     "data": {
      "text/plain": "                                               name      id  minutes  \\\n0             George S At The Cove  Black Bean Soup   44123       90   \n1                Healthy For Them  Yogurt Popsicles   67664       10   \n2                      I Can T Believe It S Spinach   38798       30   \n3                              Italian  Gut Busters   35173       45   \n4          Love Is In The Air  Beef Fondue   Sauces   84797       25   \n...                                             ...     ...      ...   \n29995  Zurie S Holey Rustic Olive And Cheddar Bread  267661       80   \n29996          Zwetschgenkuchen  Bavarian Plum Cake  386977      240   \n29997   Zwiebelkuchen   Southwest German Onion Cake  103312       75   \n29998                                   Zydeco Soup  486161       60   \n29999        Cookies By Design   Cookies On A Stick  298512       29   \n\n       contributor_id  submitted  n_steps  \\\n0               35193 2002-10-25      NaN   \n1               91970 2003-07-26      NaN   \n2                1533 2002-08-29      NaN   \n3               22724 2002-07-27      NaN   \n4                4470 2004-02-23      4.0   \n...               ...        ...      ...   \n29995          200862 2007-11-25     16.0   \n29996          177443 2009-08-24      NaN   \n29997          161745 2004-11-03      NaN   \n29998          227978 2012-08-29      NaN   \n29999          506822 2008-04-15      9.0   \n\n                                             description  n_ingredients  \\\n0      an original recipe created by chef scott meska...           18.0   \n1      my children and their friends ask for my homem...            NaN   \n2                these were so go, it surprised even me.            8.0   \n3      my sister-in-law made these for us at a family...            NaN   \n4      i think a fondue is a very romantic casual din...            NaN   \n...                                                  ...            ...   \n29995  this is based on a french recipe but i changed...           10.0   \n29996  this is a traditional fresh plum cake, thought...           11.0   \n29997  this is a traditional late summer early fall s...            NaN   \n29998  this is a delicious soup that i originally fou...            NaN   \n29999  i've heard of the 'cookies by design' company,...           10.0   \n\n       description_lenght  \n0                   330.0  \n1                   255.0  \n2                    39.0  \n3                   154.0  \n4                   587.0  \n...                   ...  \n29995               484.0  \n29996               286.0  \n29997               311.0  \n29998               648.0  \n29999               125.0  \n\n[30000 rows x 9 columns]",
      "text/html": "<div>\n<style scoped>\n    .dataframe tbody tr th:only-of-type {\n        vertical-align: middle;\n    }\n\n    .dataframe tbody tr th {\n        vertical-align: top;\n    }\n\n    .dataframe thead th {\n        text-align: right;\n    }\n</style>\n<table border=\"1\" class=\"dataframe\">\n  <thead>\n    <tr style=\"text-align: right;\">\n      <th></th>\n      <th>name</th>\n      <th>id</th>\n      <th>minutes</th>\n      <th>contributor_id</th>\n      <th>submitted</th>\n      <th>n_steps</th>\n      <th>description</th>\n      <th>n_ingredients</th>\n      <th>description_lenght</th>\n    </tr>\n  </thead>\n  <tbody>\n    <tr>\n      <th>0</th>\n      <td>George S At The Cove  Black Bean Soup</td>\n      <td>44123</td>\n      <td>90</td>\n      <td>35193</td>\n      <td>2002-10-25</td>\n      <td>NaN</td>\n      <td>an original recipe created by chef scott meska...</td>\n      <td>18.0</td>\n      <td>330.0</td>\n    </tr>\n    <tr>\n      <th>1</th>\n      <td>Healthy For Them  Yogurt Popsicles</td>\n      <td>67664</td>\n      <td>10</td>\n      <td>91970</td>\n      <td>2003-07-26</td>\n      <td>NaN</td>\n      <td>my children and their friends ask for my homem...</td>\n      <td>NaN</td>\n      <td>255.0</td>\n    </tr>\n    <tr>\n      <th>2</th>\n      <td>I Can T Believe It S Spinach</td>\n      <td>38798</td>\n      <td>30</td>\n      <td>1533</td>\n      <td>2002-08-29</td>\n      <td>NaN</td>\n      <td>these were so go, it surprised even me.</td>\n      <td>8.0</td>\n      <td>39.0</td>\n    </tr>\n    <tr>\n      <th>3</th>\n      <td>Italian  Gut Busters</td>\n      <td>35173</td>\n      <td>45</td>\n      <td>22724</td>\n      <td>2002-07-27</td>\n      <td>NaN</td>\n      <td>my sister-in-law made these for us at a family...</td>\n      <td>NaN</td>\n      <td>154.0</td>\n    </tr>\n    <tr>\n      <th>4</th>\n      <td>Love Is In The Air  Beef Fondue   Sauces</td>\n      <td>84797</td>\n      <td>25</td>\n      <td>4470</td>\n      <td>2004-02-23</td>\n      <td>4.0</td>\n      <td>i think a fondue is a very romantic casual din...</td>\n      <td>NaN</td>\n      <td>587.0</td>\n    </tr>\n    <tr>\n      <th>...</th>\n      <td>...</td>\n      <td>...</td>\n      <td>...</td>\n      <td>...</td>\n      <td>...</td>\n      <td>...</td>\n      <td>...</td>\n      <td>...</td>\n      <td>...</td>\n    </tr>\n    <tr>\n      <th>29995</th>\n      <td>Zurie S Holey Rustic Olive And Cheddar Bread</td>\n      <td>267661</td>\n      <td>80</td>\n      <td>200862</td>\n      <td>2007-11-25</td>\n      <td>16.0</td>\n      <td>this is based on a french recipe but i changed...</td>\n      <td>10.0</td>\n      <td>484.0</td>\n    </tr>\n    <tr>\n      <th>29996</th>\n      <td>Zwetschgenkuchen  Bavarian Plum Cake</td>\n      <td>386977</td>\n      <td>240</td>\n      <td>177443</td>\n      <td>2009-08-24</td>\n      <td>NaN</td>\n      <td>this is a traditional fresh plum cake, thought...</td>\n      <td>11.0</td>\n      <td>286.0</td>\n    </tr>\n    <tr>\n      <th>29997</th>\n      <td>Zwiebelkuchen   Southwest German Onion Cake</td>\n      <td>103312</td>\n      <td>75</td>\n      <td>161745</td>\n      <td>2004-11-03</td>\n      <td>NaN</td>\n      <td>this is a traditional late summer early fall s...</td>\n      <td>NaN</td>\n      <td>311.0</td>\n    </tr>\n    <tr>\n      <th>29998</th>\n      <td>Zydeco Soup</td>\n      <td>486161</td>\n      <td>60</td>\n      <td>227978</td>\n      <td>2012-08-29</td>\n      <td>NaN</td>\n      <td>this is a delicious soup that i originally fou...</td>\n      <td>NaN</td>\n      <td>648.0</td>\n    </tr>\n    <tr>\n      <th>29999</th>\n      <td>Cookies By Design   Cookies On A Stick</td>\n      <td>298512</td>\n      <td>29</td>\n      <td>506822</td>\n      <td>2008-04-15</td>\n      <td>9.0</td>\n      <td>i've heard of the 'cookies by design' company,...</td>\n      <td>10.0</td>\n      <td>125.0</td>\n    </tr>\n  </tbody>\n</table>\n<p>30000 rows × 9 columns</p>\n</div>"
     },
     "execution_count": 17,
     "metadata": {},
     "output_type": "execute_result"
    }
   ],
   "source": [
    "recipes['name'] = recipes['name'].str.title()\n",
    "recipes"
   ]
  },
  {
   "cell_type": "markdown",
   "metadata": {},
   "source": [
    "3.3 Добавьте в таблицу `recipes` столбец `name_word_count`, в котором хранится количество слов из названии рецепта (считайте, что слова в названии разделяются только пробелами). Обратите внимание, что между словами может располагаться несколько пробелов подряд."
   ]
  },
  {
   "cell_type": "code",
   "execution_count": 18,
   "metadata": {
    "ExecuteTime": {
     "end_time": "2024-03-19T05:45:35.402506021Z",
     "start_time": "2024-03-19T05:45:35.367226722Z"
    }
   },
   "outputs": [
    {
     "data": {
      "text/plain": "                                               name  name_word_count      id  \\\n0             George S At The Cove  Black Bean Soup                8   44123   \n1                Healthy For Them  Yogurt Popsicles                5   67664   \n2                      I Can T Believe It S Spinach                7   38798   \n3                              Italian  Gut Busters                3   35173   \n4          Love Is In The Air  Beef Fondue   Sauces                8   84797   \n...                                             ...              ...     ...   \n29995  Zurie S Holey Rustic Olive And Cheddar Bread                8  267661   \n29996          Zwetschgenkuchen  Bavarian Plum Cake                4  386977   \n29997   Zwiebelkuchen   Southwest German Onion Cake                5  103312   \n29998                                   Zydeco Soup                2  486161   \n29999        Cookies By Design   Cookies On A Stick                7  298512   \n\n       minutes  contributor_id  submitted  n_steps  \\\n0           90           35193 2002-10-25      NaN   \n1           10           91970 2003-07-26      NaN   \n2           30            1533 2002-08-29      NaN   \n3           45           22724 2002-07-27      NaN   \n4           25            4470 2004-02-23      4.0   \n...        ...             ...        ...      ...   \n29995       80          200862 2007-11-25     16.0   \n29996      240          177443 2009-08-24      NaN   \n29997       75          161745 2004-11-03      NaN   \n29998       60          227978 2012-08-29      NaN   \n29999       29          506822 2008-04-15      9.0   \n\n                                             description  description_lenght  \\\n0      an original recipe created by chef scott meska...               330.0   \n1      my children and their friends ask for my homem...               255.0   \n2                these were so go, it surprised even me.                39.0   \n3      my sister-in-law made these for us at a family...               154.0   \n4      i think a fondue is a very romantic casual din...               587.0   \n...                                                  ...                 ...   \n29995  this is based on a french recipe but i changed...               484.0   \n29996  this is a traditional fresh plum cake, thought...               286.0   \n29997  this is a traditional late summer early fall s...               311.0   \n29998  this is a delicious soup that i originally fou...               648.0   \n29999  i've heard of the 'cookies by design' company,...               125.0   \n\n       n_ingredients  \n0               18.0  \n1                NaN  \n2                8.0  \n3                NaN  \n4                NaN  \n...              ...  \n29995           10.0  \n29996           11.0  \n29997            NaN  \n29998            NaN  \n29999           10.0  \n\n[30000 rows x 10 columns]",
      "text/html": "<div>\n<style scoped>\n    .dataframe tbody tr th:only-of-type {\n        vertical-align: middle;\n    }\n\n    .dataframe tbody tr th {\n        vertical-align: top;\n    }\n\n    .dataframe thead th {\n        text-align: right;\n    }\n</style>\n<table border=\"1\" class=\"dataframe\">\n  <thead>\n    <tr style=\"text-align: right;\">\n      <th></th>\n      <th>name</th>\n      <th>name_word_count</th>\n      <th>id</th>\n      <th>minutes</th>\n      <th>contributor_id</th>\n      <th>submitted</th>\n      <th>n_steps</th>\n      <th>description</th>\n      <th>description_lenght</th>\n      <th>n_ingredients</th>\n    </tr>\n  </thead>\n  <tbody>\n    <tr>\n      <th>0</th>\n      <td>George S At The Cove  Black Bean Soup</td>\n      <td>8</td>\n      <td>44123</td>\n      <td>90</td>\n      <td>35193</td>\n      <td>2002-10-25</td>\n      <td>NaN</td>\n      <td>an original recipe created by chef scott meska...</td>\n      <td>330.0</td>\n      <td>18.0</td>\n    </tr>\n    <tr>\n      <th>1</th>\n      <td>Healthy For Them  Yogurt Popsicles</td>\n      <td>5</td>\n      <td>67664</td>\n      <td>10</td>\n      <td>91970</td>\n      <td>2003-07-26</td>\n      <td>NaN</td>\n      <td>my children and their friends ask for my homem...</td>\n      <td>255.0</td>\n      <td>NaN</td>\n    </tr>\n    <tr>\n      <th>2</th>\n      <td>I Can T Believe It S Spinach</td>\n      <td>7</td>\n      <td>38798</td>\n      <td>30</td>\n      <td>1533</td>\n      <td>2002-08-29</td>\n      <td>NaN</td>\n      <td>these were so go, it surprised even me.</td>\n      <td>39.0</td>\n      <td>8.0</td>\n    </tr>\n    <tr>\n      <th>3</th>\n      <td>Italian  Gut Busters</td>\n      <td>3</td>\n      <td>35173</td>\n      <td>45</td>\n      <td>22724</td>\n      <td>2002-07-27</td>\n      <td>NaN</td>\n      <td>my sister-in-law made these for us at a family...</td>\n      <td>154.0</td>\n      <td>NaN</td>\n    </tr>\n    <tr>\n      <th>4</th>\n      <td>Love Is In The Air  Beef Fondue   Sauces</td>\n      <td>8</td>\n      <td>84797</td>\n      <td>25</td>\n      <td>4470</td>\n      <td>2004-02-23</td>\n      <td>4.0</td>\n      <td>i think a fondue is a very romantic casual din...</td>\n      <td>587.0</td>\n      <td>NaN</td>\n    </tr>\n    <tr>\n      <th>...</th>\n      <td>...</td>\n      <td>...</td>\n      <td>...</td>\n      <td>...</td>\n      <td>...</td>\n      <td>...</td>\n      <td>...</td>\n      <td>...</td>\n      <td>...</td>\n      <td>...</td>\n    </tr>\n    <tr>\n      <th>29995</th>\n      <td>Zurie S Holey Rustic Olive And Cheddar Bread</td>\n      <td>8</td>\n      <td>267661</td>\n      <td>80</td>\n      <td>200862</td>\n      <td>2007-11-25</td>\n      <td>16.0</td>\n      <td>this is based on a french recipe but i changed...</td>\n      <td>484.0</td>\n      <td>10.0</td>\n    </tr>\n    <tr>\n      <th>29996</th>\n      <td>Zwetschgenkuchen  Bavarian Plum Cake</td>\n      <td>4</td>\n      <td>386977</td>\n      <td>240</td>\n      <td>177443</td>\n      <td>2009-08-24</td>\n      <td>NaN</td>\n      <td>this is a traditional fresh plum cake, thought...</td>\n      <td>286.0</td>\n      <td>11.0</td>\n    </tr>\n    <tr>\n      <th>29997</th>\n      <td>Zwiebelkuchen   Southwest German Onion Cake</td>\n      <td>5</td>\n      <td>103312</td>\n      <td>75</td>\n      <td>161745</td>\n      <td>2004-11-03</td>\n      <td>NaN</td>\n      <td>this is a traditional late summer early fall s...</td>\n      <td>311.0</td>\n      <td>NaN</td>\n    </tr>\n    <tr>\n      <th>29998</th>\n      <td>Zydeco Soup</td>\n      <td>2</td>\n      <td>486161</td>\n      <td>60</td>\n      <td>227978</td>\n      <td>2012-08-29</td>\n      <td>NaN</td>\n      <td>this is a delicious soup that i originally fou...</td>\n      <td>648.0</td>\n      <td>NaN</td>\n    </tr>\n    <tr>\n      <th>29999</th>\n      <td>Cookies By Design   Cookies On A Stick</td>\n      <td>7</td>\n      <td>298512</td>\n      <td>29</td>\n      <td>506822</td>\n      <td>2008-04-15</td>\n      <td>9.0</td>\n      <td>i've heard of the 'cookies by design' company,...</td>\n      <td>125.0</td>\n      <td>10.0</td>\n    </tr>\n  </tbody>\n</table>\n<p>30000 rows × 10 columns</p>\n</div>"
     },
     "execution_count": 18,
     "metadata": {},
     "output_type": "execute_result"
    }
   ],
   "source": [
    "recipes['name_word_count'] = recipes['name'].apply(lambda x: len(x.split()))\n",
    "recipes = recipes[['name', 'name_word_count', 'id', 'minutes', 'contributor_id', 'submitted', 'n_steps', 'description',\n",
    "                   'description_lenght', 'n_ingredients']]\n",
    "recipes"
   ]
  },
  {
   "cell_type": "markdown",
   "metadata": {},
   "source": [
    "### Группировки таблиц `pd.DataFrame`"
   ]
  },
  {
   "cell_type": "markdown",
   "metadata": {},
   "source": [
    "4.1 Посчитайте количество рецептов, представленных каждым из участников (`contributor_id`). Какой участник добавил максимальное кол-во рецептов?"
   ]
  },
  {
   "cell_type": "code",
   "execution_count": 19,
   "metadata": {
    "ExecuteTime": {
     "end_time": "2024-03-19T05:45:40.767154876Z",
     "start_time": "2024-03-19T05:45:40.755517809Z"
    }
   },
   "outputs": [
    {
     "data": {
      "text/plain": "      contributor_id  num_recipes\n1768           89831          421\n767            37449          346\n781            37779          345\n1               1533          186\n2739          169430          183\n...              ...          ...\n5291          448748            1\n5292          449014            1\n5294          449229            1\n5295          449247            1\n4201          302190            1\n\n[8404 rows x 2 columns]",
      "text/html": "<div>\n<style scoped>\n    .dataframe tbody tr th:only-of-type {\n        vertical-align: middle;\n    }\n\n    .dataframe tbody tr th {\n        vertical-align: top;\n    }\n\n    .dataframe thead th {\n        text-align: right;\n    }\n</style>\n<table border=\"1\" class=\"dataframe\">\n  <thead>\n    <tr style=\"text-align: right;\">\n      <th></th>\n      <th>contributor_id</th>\n      <th>num_recipes</th>\n    </tr>\n  </thead>\n  <tbody>\n    <tr>\n      <th>1768</th>\n      <td>89831</td>\n      <td>421</td>\n    </tr>\n    <tr>\n      <th>767</th>\n      <td>37449</td>\n      <td>346</td>\n    </tr>\n    <tr>\n      <th>781</th>\n      <td>37779</td>\n      <td>345</td>\n    </tr>\n    <tr>\n      <th>1</th>\n      <td>1533</td>\n      <td>186</td>\n    </tr>\n    <tr>\n      <th>2739</th>\n      <td>169430</td>\n      <td>183</td>\n    </tr>\n    <tr>\n      <th>...</th>\n      <td>...</td>\n      <td>...</td>\n    </tr>\n    <tr>\n      <th>5291</th>\n      <td>448748</td>\n      <td>1</td>\n    </tr>\n    <tr>\n      <th>5292</th>\n      <td>449014</td>\n      <td>1</td>\n    </tr>\n    <tr>\n      <th>5294</th>\n      <td>449229</td>\n      <td>1</td>\n    </tr>\n    <tr>\n      <th>5295</th>\n      <td>449247</td>\n      <td>1</td>\n    </tr>\n    <tr>\n      <th>4201</th>\n      <td>302190</td>\n      <td>1</td>\n    </tr>\n  </tbody>\n</table>\n<p>8404 rows × 2 columns</p>\n</div>"
     },
     "execution_count": 19,
     "metadata": {},
     "output_type": "execute_result"
    }
   ],
   "source": [
    "counts_by_id = recipes.groupby('contributor_id')['name'].count().reset_index(name='num_recipes')\n",
    "counts_by_id.sort_values('num_recipes')[::-1]"
   ]
  },
  {
   "cell_type": "markdown",
   "metadata": {},
   "source": [
    "4.2 Посчитайте средний рейтинг к каждому из рецептов. Для скольких рецептов отсутствуют отзывы? Обратите внимание, что отзыв с нулевым рейтингом или не заполненным текстовым описанием не считается отсутствующим."
   ]
  },
  {
   "cell_type": "code",
   "execution_count": 21,
   "metadata": {
    "ExecuteTime": {
     "end_time": "2024-03-19T05:46:00.319678186Z",
     "start_time": "2024-03-19T05:46:00.258895422Z"
    }
   },
   "outputs": [
    {
     "data": {
      "text/plain": "    recipe_id  amount_of_NaN\n0        3662              1\n1        9054              3\n2       15553              1\n3       25190              1\n4       86868              1\n5       89207              1\n6      107786              1\n7      128956              1\n8      155430              1\n9      167202              1\n10     245231              1\n11     335709              1\n12     391660              1\n13     522925              1\n14     524744              1",
      "text/html": "<div>\n<style scoped>\n    .dataframe tbody tr th:only-of-type {\n        vertical-align: middle;\n    }\n\n    .dataframe tbody tr th {\n        vertical-align: top;\n    }\n\n    .dataframe thead th {\n        text-align: right;\n    }\n</style>\n<table border=\"1\" class=\"dataframe\">\n  <thead>\n    <tr style=\"text-align: right;\">\n      <th></th>\n      <th>recipe_id</th>\n      <th>amount_of_NaN</th>\n    </tr>\n  </thead>\n  <tbody>\n    <tr>\n      <th>0</th>\n      <td>3662</td>\n      <td>1</td>\n    </tr>\n    <tr>\n      <th>1</th>\n      <td>9054</td>\n      <td>3</td>\n    </tr>\n    <tr>\n      <th>2</th>\n      <td>15553</td>\n      <td>1</td>\n    </tr>\n    <tr>\n      <th>3</th>\n      <td>25190</td>\n      <td>1</td>\n    </tr>\n    <tr>\n      <th>4</th>\n      <td>86868</td>\n      <td>1</td>\n    </tr>\n    <tr>\n      <th>5</th>\n      <td>89207</td>\n      <td>1</td>\n    </tr>\n    <tr>\n      <th>6</th>\n      <td>107786</td>\n      <td>1</td>\n    </tr>\n    <tr>\n      <th>7</th>\n      <td>128956</td>\n      <td>1</td>\n    </tr>\n    <tr>\n      <th>8</th>\n      <td>155430</td>\n      <td>1</td>\n    </tr>\n    <tr>\n      <th>9</th>\n      <td>167202</td>\n      <td>1</td>\n    </tr>\n    <tr>\n      <th>10</th>\n      <td>245231</td>\n      <td>1</td>\n    </tr>\n    <tr>\n      <th>11</th>\n      <td>335709</td>\n      <td>1</td>\n    </tr>\n    <tr>\n      <th>12</th>\n      <td>391660</td>\n      <td>1</td>\n    </tr>\n    <tr>\n      <th>13</th>\n      <td>522925</td>\n      <td>1</td>\n    </tr>\n    <tr>\n      <th>14</th>\n      <td>524744</td>\n      <td>1</td>\n    </tr>\n  </tbody>\n</table>\n</div>"
     },
     "execution_count": 21,
     "metadata": {},
     "output_type": "execute_result"
    }
   ],
   "source": [
    "srednee = reviews.groupby('recipe_id')['rating'].mean().reset_index(name='mean')\n",
    "amount = reviews.groupby('recipe_id')['rating'].count().reset_index(name='amount')\n",
    "\n",
    "merged = srednee.join(amount['amount'])\n",
    "\n",
    "reviews = reviews.rename(columns={'Unnamed: 0': 'something'})\n",
    "NaNs = reviews[reviews['review'].isnull()].groupby('recipe_id')['review'].apply(lambda x: len(x)).reset_index(\n",
    "    name='amount_of_NaN')\n",
    "NaNs"
   ]
  },
  {
   "cell_type": "markdown",
   "metadata": {},
   "source": [
    "4.3 Посчитайте количество рецептов с разбивкой по годам создания."
   ]
  },
  {
   "cell_type": "code",
   "execution_count": 22,
   "metadata": {
    "ExecuteTime": {
     "end_time": "2024-03-19T05:46:03.351194265Z",
     "start_time": "2024-03-19T05:46:03.287194392Z"
    }
   },
   "outputs": [
    {
     "data": {
      "text/plain": "           date  freq\n2279 2008-01-27    93\n2254 2008-01-02    92\n2287 2008-02-04    90\n2434 2008-06-30    88\n2266 2008-01-14    85\n...         ...   ...\n5365 2016-07-14     1\n5352 2016-06-30     1\n105  2001-11-15     1\n106  2001-11-16     1\n0    2000-06-02     1\n\n[6251 rows x 2 columns]",
      "text/html": "<div>\n<style scoped>\n    .dataframe tbody tr th:only-of-type {\n        vertical-align: middle;\n    }\n\n    .dataframe tbody tr th {\n        vertical-align: top;\n    }\n\n    .dataframe thead th {\n        text-align: right;\n    }\n</style>\n<table border=\"1\" class=\"dataframe\">\n  <thead>\n    <tr style=\"text-align: right;\">\n      <th></th>\n      <th>date</th>\n      <th>freq</th>\n    </tr>\n  </thead>\n  <tbody>\n    <tr>\n      <th>2279</th>\n      <td>2008-01-27</td>\n      <td>93</td>\n    </tr>\n    <tr>\n      <th>2254</th>\n      <td>2008-01-02</td>\n      <td>92</td>\n    </tr>\n    <tr>\n      <th>2287</th>\n      <td>2008-02-04</td>\n      <td>90</td>\n    </tr>\n    <tr>\n      <th>2434</th>\n      <td>2008-06-30</td>\n      <td>88</td>\n    </tr>\n    <tr>\n      <th>2266</th>\n      <td>2008-01-14</td>\n      <td>85</td>\n    </tr>\n    <tr>\n      <th>...</th>\n      <td>...</td>\n      <td>...</td>\n    </tr>\n    <tr>\n      <th>5365</th>\n      <td>2016-07-14</td>\n      <td>1</td>\n    </tr>\n    <tr>\n      <th>5352</th>\n      <td>2016-06-30</td>\n      <td>1</td>\n    </tr>\n    <tr>\n      <th>105</th>\n      <td>2001-11-15</td>\n      <td>1</td>\n    </tr>\n    <tr>\n      <th>106</th>\n      <td>2001-11-16</td>\n      <td>1</td>\n    </tr>\n    <tr>\n      <th>0</th>\n      <td>2000-06-02</td>\n      <td>1</td>\n    </tr>\n  </tbody>\n</table>\n<p>6251 rows × 2 columns</p>\n</div>"
     },
     "execution_count": 22,
     "metadata": {},
     "output_type": "execute_result"
    }
   ],
   "source": [
    "reviews['date'] = pd.to_datetime(reviews['date'])\n",
    "corrected_reviews = reviews.sort_values('date')\n",
    "corrected_reviews['date'] = corrected_reviews['date'].dt.year\n",
    "year_freq = reviews.groupby('date')['review'].count().reset_index(name='freq')\n",
    "year_freq.sort_values('freq')[::-1]"
   ]
  },
  {
   "cell_type": "markdown",
   "metadata": {},
   "source": [
    "### Объединение таблиц `pd.DataFrame`"
   ]
  },
  {
   "cell_type": "code",
   "execution_count": 23,
   "metadata": {
    "ExecuteTime": {
     "end_time": "2024-03-19T05:46:07.466975889Z",
     "start_time": "2024-03-19T05:46:07.445917334Z"
    }
   },
   "outputs": [
    {
     "data": {
      "text/plain": "                                               name  name_word_count      id  \\\n0             George S At The Cove  Black Bean Soup                8   44123   \n1                Healthy For Them  Yogurt Popsicles                5   67664   \n2                      I Can T Believe It S Spinach                7   38798   \n3                              Italian  Gut Busters                3   35173   \n4          Love Is In The Air  Beef Fondue   Sauces                8   84797   \n...                                             ...              ...     ...   \n29995  Zurie S Holey Rustic Olive And Cheddar Bread                8  267661   \n29996          Zwetschgenkuchen  Bavarian Plum Cake                4  386977   \n29997   Zwiebelkuchen   Southwest German Onion Cake                5  103312   \n29998                                   Zydeco Soup                2  486161   \n29999        Cookies By Design   Cookies On A Stick                7  298512   \n\n       minutes  contributor_id  submitted  n_steps  \\\n0           90           35193 2002-10-25      NaN   \n1           10           91970 2003-07-26      NaN   \n2           30            1533 2002-08-29      NaN   \n3           45           22724 2002-07-27      NaN   \n4           25            4470 2004-02-23      4.0   \n...        ...             ...        ...      ...   \n29995       80          200862 2007-11-25     16.0   \n29996      240          177443 2009-08-24      NaN   \n29997       75          161745 2004-11-03      NaN   \n29998       60          227978 2012-08-29      NaN   \n29999       29          506822 2008-04-15      9.0   \n\n                                             description  description_lenght  \\\n0      an original recipe created by chef scott meska...               330.0   \n1      my children and their friends ask for my homem...               255.0   \n2                these were so go, it surprised even me.                39.0   \n3      my sister-in-law made these for us at a family...               154.0   \n4      i think a fondue is a very romantic casual din...               587.0   \n...                                                  ...                 ...   \n29995  this is based on a french recipe but i changed...               484.0   \n29996  this is a traditional fresh plum cake, thought...               286.0   \n29997  this is a traditional late summer early fall s...               311.0   \n29998  this is a delicious soup that i originally fou...               648.0   \n29999  i've heard of the 'cookies by design' company,...               125.0   \n\n       n_ingredients  \n0               18.0  \n1                NaN  \n2                8.0  \n3                NaN  \n4                NaN  \n...              ...  \n29995           10.0  \n29996           11.0  \n29997            NaN  \n29998            NaN  \n29999           10.0  \n\n[30000 rows x 10 columns]",
      "text/html": "<div>\n<style scoped>\n    .dataframe tbody tr th:only-of-type {\n        vertical-align: middle;\n    }\n\n    .dataframe tbody tr th {\n        vertical-align: top;\n    }\n\n    .dataframe thead th {\n        text-align: right;\n    }\n</style>\n<table border=\"1\" class=\"dataframe\">\n  <thead>\n    <tr style=\"text-align: right;\">\n      <th></th>\n      <th>name</th>\n      <th>name_word_count</th>\n      <th>id</th>\n      <th>minutes</th>\n      <th>contributor_id</th>\n      <th>submitted</th>\n      <th>n_steps</th>\n      <th>description</th>\n      <th>description_lenght</th>\n      <th>n_ingredients</th>\n    </tr>\n  </thead>\n  <tbody>\n    <tr>\n      <th>0</th>\n      <td>George S At The Cove  Black Bean Soup</td>\n      <td>8</td>\n      <td>44123</td>\n      <td>90</td>\n      <td>35193</td>\n      <td>2002-10-25</td>\n      <td>NaN</td>\n      <td>an original recipe created by chef scott meska...</td>\n      <td>330.0</td>\n      <td>18.0</td>\n    </tr>\n    <tr>\n      <th>1</th>\n      <td>Healthy For Them  Yogurt Popsicles</td>\n      <td>5</td>\n      <td>67664</td>\n      <td>10</td>\n      <td>91970</td>\n      <td>2003-07-26</td>\n      <td>NaN</td>\n      <td>my children and their friends ask for my homem...</td>\n      <td>255.0</td>\n      <td>NaN</td>\n    </tr>\n    <tr>\n      <th>2</th>\n      <td>I Can T Believe It S Spinach</td>\n      <td>7</td>\n      <td>38798</td>\n      <td>30</td>\n      <td>1533</td>\n      <td>2002-08-29</td>\n      <td>NaN</td>\n      <td>these were so go, it surprised even me.</td>\n      <td>39.0</td>\n      <td>8.0</td>\n    </tr>\n    <tr>\n      <th>3</th>\n      <td>Italian  Gut Busters</td>\n      <td>3</td>\n      <td>35173</td>\n      <td>45</td>\n      <td>22724</td>\n      <td>2002-07-27</td>\n      <td>NaN</td>\n      <td>my sister-in-law made these for us at a family...</td>\n      <td>154.0</td>\n      <td>NaN</td>\n    </tr>\n    <tr>\n      <th>4</th>\n      <td>Love Is In The Air  Beef Fondue   Sauces</td>\n      <td>8</td>\n      <td>84797</td>\n      <td>25</td>\n      <td>4470</td>\n      <td>2004-02-23</td>\n      <td>4.0</td>\n      <td>i think a fondue is a very romantic casual din...</td>\n      <td>587.0</td>\n      <td>NaN</td>\n    </tr>\n    <tr>\n      <th>...</th>\n      <td>...</td>\n      <td>...</td>\n      <td>...</td>\n      <td>...</td>\n      <td>...</td>\n      <td>...</td>\n      <td>...</td>\n      <td>...</td>\n      <td>...</td>\n      <td>...</td>\n    </tr>\n    <tr>\n      <th>29995</th>\n      <td>Zurie S Holey Rustic Olive And Cheddar Bread</td>\n      <td>8</td>\n      <td>267661</td>\n      <td>80</td>\n      <td>200862</td>\n      <td>2007-11-25</td>\n      <td>16.0</td>\n      <td>this is based on a french recipe but i changed...</td>\n      <td>484.0</td>\n      <td>10.0</td>\n    </tr>\n    <tr>\n      <th>29996</th>\n      <td>Zwetschgenkuchen  Bavarian Plum Cake</td>\n      <td>4</td>\n      <td>386977</td>\n      <td>240</td>\n      <td>177443</td>\n      <td>2009-08-24</td>\n      <td>NaN</td>\n      <td>this is a traditional fresh plum cake, thought...</td>\n      <td>286.0</td>\n      <td>11.0</td>\n    </tr>\n    <tr>\n      <th>29997</th>\n      <td>Zwiebelkuchen   Southwest German Onion Cake</td>\n      <td>5</td>\n      <td>103312</td>\n      <td>75</td>\n      <td>161745</td>\n      <td>2004-11-03</td>\n      <td>NaN</td>\n      <td>this is a traditional late summer early fall s...</td>\n      <td>311.0</td>\n      <td>NaN</td>\n    </tr>\n    <tr>\n      <th>29998</th>\n      <td>Zydeco Soup</td>\n      <td>2</td>\n      <td>486161</td>\n      <td>60</td>\n      <td>227978</td>\n      <td>2012-08-29</td>\n      <td>NaN</td>\n      <td>this is a delicious soup that i originally fou...</td>\n      <td>648.0</td>\n      <td>NaN</td>\n    </tr>\n    <tr>\n      <th>29999</th>\n      <td>Cookies By Design   Cookies On A Stick</td>\n      <td>7</td>\n      <td>298512</td>\n      <td>29</td>\n      <td>506822</td>\n      <td>2008-04-15</td>\n      <td>9.0</td>\n      <td>i've heard of the 'cookies by design' company,...</td>\n      <td>125.0</td>\n      <td>10.0</td>\n    </tr>\n  </tbody>\n</table>\n<p>30000 rows × 10 columns</p>\n</div>"
     },
     "execution_count": 23,
     "metadata": {},
     "output_type": "execute_result"
    }
   ],
   "source": [
    "recipes"
   ]
  },
  {
   "cell_type": "code",
   "execution_count": 24,
   "metadata": {
    "ExecuteTime": {
     "end_time": "2024-03-19T05:46:12.093141749Z",
     "start_time": "2024-03-19T05:46:12.047418071Z"
    }
   },
   "outputs": [
    {
     "data": {
      "text/plain": "        something     user_id  recipe_id       date  rating  \\\n0          370476       21752      57993 2003-05-01       5   \n1          624300      431813     142201 2007-09-16       5   \n2          187037      400708     252013 2008-01-10       4   \n3          706134  2001852463     404716 2017-12-11       5   \n4          312179       95810     129396 2008-03-14       5   \n...           ...         ...        ...        ...     ...   \n126691    1013457     1270706     335534 2009-05-17       4   \n126692     158736     2282344       8701 2012-06-03       0   \n126693    1059834      689540     222001 2008-04-08       5   \n126694     453285  2000242659     354979 2015-06-02       5   \n126695     691207      463435     415599 2010-09-30       5   \n\n                                                   review  \n0       Last week whole sides of frozen salmon fillet ...  \n1       So simple and so tasty!  I used a yellow capsi...  \n2       Very nice breakfast HH, easy to make and yummy...  \n3       These are a favorite for the holidays and so e...  \n4       Excellent soup!  The tomato flavor is just gre...  \n...                                                   ...  \n126691  This recipe was great! I made it last night. I...  \n126692  This recipe is outstanding. I followed the rec...  \n126693  Well, we were not a crowd but it was a fabulou...  \n126694  I have been a steak eater and dedicated BBQ gr...  \n126695  Wonderful and simple to prepare seasoning blen...  \n\n[126696 rows x 6 columns]",
      "text/html": "<div>\n<style scoped>\n    .dataframe tbody tr th:only-of-type {\n        vertical-align: middle;\n    }\n\n    .dataframe tbody tr th {\n        vertical-align: top;\n    }\n\n    .dataframe thead th {\n        text-align: right;\n    }\n</style>\n<table border=\"1\" class=\"dataframe\">\n  <thead>\n    <tr style=\"text-align: right;\">\n      <th></th>\n      <th>something</th>\n      <th>user_id</th>\n      <th>recipe_id</th>\n      <th>date</th>\n      <th>rating</th>\n      <th>review</th>\n    </tr>\n  </thead>\n  <tbody>\n    <tr>\n      <th>0</th>\n      <td>370476</td>\n      <td>21752</td>\n      <td>57993</td>\n      <td>2003-05-01</td>\n      <td>5</td>\n      <td>Last week whole sides of frozen salmon fillet ...</td>\n    </tr>\n    <tr>\n      <th>1</th>\n      <td>624300</td>\n      <td>431813</td>\n      <td>142201</td>\n      <td>2007-09-16</td>\n      <td>5</td>\n      <td>So simple and so tasty!  I used a yellow capsi...</td>\n    </tr>\n    <tr>\n      <th>2</th>\n      <td>187037</td>\n      <td>400708</td>\n      <td>252013</td>\n      <td>2008-01-10</td>\n      <td>4</td>\n      <td>Very nice breakfast HH, easy to make and yummy...</td>\n    </tr>\n    <tr>\n      <th>3</th>\n      <td>706134</td>\n      <td>2001852463</td>\n      <td>404716</td>\n      <td>2017-12-11</td>\n      <td>5</td>\n      <td>These are a favorite for the holidays and so e...</td>\n    </tr>\n    <tr>\n      <th>4</th>\n      <td>312179</td>\n      <td>95810</td>\n      <td>129396</td>\n      <td>2008-03-14</td>\n      <td>5</td>\n      <td>Excellent soup!  The tomato flavor is just gre...</td>\n    </tr>\n    <tr>\n      <th>...</th>\n      <td>...</td>\n      <td>...</td>\n      <td>...</td>\n      <td>...</td>\n      <td>...</td>\n      <td>...</td>\n    </tr>\n    <tr>\n      <th>126691</th>\n      <td>1013457</td>\n      <td>1270706</td>\n      <td>335534</td>\n      <td>2009-05-17</td>\n      <td>4</td>\n      <td>This recipe was great! I made it last night. I...</td>\n    </tr>\n    <tr>\n      <th>126692</th>\n      <td>158736</td>\n      <td>2282344</td>\n      <td>8701</td>\n      <td>2012-06-03</td>\n      <td>0</td>\n      <td>This recipe is outstanding. I followed the rec...</td>\n    </tr>\n    <tr>\n      <th>126693</th>\n      <td>1059834</td>\n      <td>689540</td>\n      <td>222001</td>\n      <td>2008-04-08</td>\n      <td>5</td>\n      <td>Well, we were not a crowd but it was a fabulou...</td>\n    </tr>\n    <tr>\n      <th>126694</th>\n      <td>453285</td>\n      <td>2000242659</td>\n      <td>354979</td>\n      <td>2015-06-02</td>\n      <td>5</td>\n      <td>I have been a steak eater and dedicated BBQ gr...</td>\n    </tr>\n    <tr>\n      <th>126695</th>\n      <td>691207</td>\n      <td>463435</td>\n      <td>415599</td>\n      <td>2010-09-30</td>\n      <td>5</td>\n      <td>Wonderful and simple to prepare seasoning blen...</td>\n    </tr>\n  </tbody>\n</table>\n<p>126696 rows × 6 columns</p>\n</div>"
     },
     "execution_count": 24,
     "metadata": {},
     "output_type": "execute_result"
    }
   ],
   "source": [
    "reviews"
   ]
  },
  {
   "cell_type": "markdown",
   "metadata": {},
   "source": [
    "5.1 При помощи объединения таблиц, создайте `DataFrame`, состоящий из четырех столбцов: `id`, `name`, `user_id`, `rating`. Рецепты, на которые не оставлен ни один отзыв, должны отсутствовать в полученной таблице. Подтвердите правильность работы вашего кода, выбрав рецепт, не имеющий отзывов, и попытавшись найти строку, соответствующую этому рецепту, в полученном `DataFrame`."
   ]
  },
  {
   "cell_type": "code",
   "execution_count": 26,
   "metadata": {
    "ExecuteTime": {
     "end_time": "2024-03-19T05:46:27.183266721Z",
     "start_time": "2024-03-19T05:46:27.042580987Z"
    }
   },
   "outputs": [
    {
     "data": {
      "text/plain": "           id                                        name     user_id  rating\n16365      48                            Boston Cream Pie       32421       0\n16366      48                            Boston Cream Pie       68674       2\n14328      55  Betty Crocker S Southwestern Guacamole Dip      165567       5\n14330      55  Betty Crocker S Southwestern Guacamole Dip       53959       4\n14331      55  Betty Crocker S Southwestern Guacamole Dip     1060485       5\n...       ...                                         ...         ...     ...\n36930  536729                Creole Watermelon Feta Salad      226863       4\n71115  536747                          Lemon Pom Pom Cake  2001996022       0\n71112  536747                          Lemon Pom Pom Cake  2002007477       0\n71114  536747                          Lemon Pom Pom Cake  2001285346       0\n71113  536747                          Lemon Pom Pom Cake     1460111       0\n\n[126679 rows x 4 columns]",
      "text/html": "<div>\n<style scoped>\n    .dataframe tbody tr th:only-of-type {\n        vertical-align: middle;\n    }\n\n    .dataframe tbody tr th {\n        vertical-align: top;\n    }\n\n    .dataframe thead th {\n        text-align: right;\n    }\n</style>\n<table border=\"1\" class=\"dataframe\">\n  <thead>\n    <tr style=\"text-align: right;\">\n      <th></th>\n      <th>id</th>\n      <th>name</th>\n      <th>user_id</th>\n      <th>rating</th>\n    </tr>\n  </thead>\n  <tbody>\n    <tr>\n      <th>16365</th>\n      <td>48</td>\n      <td>Boston Cream Pie</td>\n      <td>32421</td>\n      <td>0</td>\n    </tr>\n    <tr>\n      <th>16366</th>\n      <td>48</td>\n      <td>Boston Cream Pie</td>\n      <td>68674</td>\n      <td>2</td>\n    </tr>\n    <tr>\n      <th>14328</th>\n      <td>55</td>\n      <td>Betty Crocker S Southwestern Guacamole Dip</td>\n      <td>165567</td>\n      <td>5</td>\n    </tr>\n    <tr>\n      <th>14330</th>\n      <td>55</td>\n      <td>Betty Crocker S Southwestern Guacamole Dip</td>\n      <td>53959</td>\n      <td>4</td>\n    </tr>\n    <tr>\n      <th>14331</th>\n      <td>55</td>\n      <td>Betty Crocker S Southwestern Guacamole Dip</td>\n      <td>1060485</td>\n      <td>5</td>\n    </tr>\n    <tr>\n      <th>...</th>\n      <td>...</td>\n      <td>...</td>\n      <td>...</td>\n      <td>...</td>\n    </tr>\n    <tr>\n      <th>36930</th>\n      <td>536729</td>\n      <td>Creole Watermelon Feta Salad</td>\n      <td>226863</td>\n      <td>4</td>\n    </tr>\n    <tr>\n      <th>71115</th>\n      <td>536747</td>\n      <td>Lemon Pom Pom Cake</td>\n      <td>2001996022</td>\n      <td>0</td>\n    </tr>\n    <tr>\n      <th>71112</th>\n      <td>536747</td>\n      <td>Lemon Pom Pom Cake</td>\n      <td>2002007477</td>\n      <td>0</td>\n    </tr>\n    <tr>\n      <th>71114</th>\n      <td>536747</td>\n      <td>Lemon Pom Pom Cake</td>\n      <td>2001285346</td>\n      <td>0</td>\n    </tr>\n    <tr>\n      <th>71113</th>\n      <td>536747</td>\n      <td>Lemon Pom Pom Cake</td>\n      <td>1460111</td>\n      <td>0</td>\n    </tr>\n  </tbody>\n</table>\n<p>126679 rows × 4 columns</p>\n</div>"
     },
     "execution_count": 26,
     "metadata": {},
     "output_type": "execute_result"
    }
   ],
   "source": [
    "merged = pd.merge(recipes, reviews, left_on='id', right_on='recipe_id')\n",
    "\n",
    "merged = merged[merged['review'].notnull()]  #удаление строк с нулевыми review\n",
    "\n",
    "desired_columns = ['id', 'name', 'user_id', 'rating']\n",
    "merged = merged[desired_columns].sort_values('id')\n",
    "merged"
   ]
  },
  {
   "cell_type": "markdown",
   "metadata": {},
   "source": [
    "5.2 При помощи объединения таблиц и группировок, создайте `DataFrame`, состоящий из трех столбцов: `recipe_id`, `name`, `review_count`, где столбец `review_count` содержит кол-во отзывов, оставленных на рецепт `recipe_id`. У рецептов, на которые не оставлен ни один отзыв, в столбце `review_count` должен быть указан 0. Подтвердите правильность работы вашего кода, выбрав рецепт, не имеющий отзывов, и найдя строку, соответствующую этому рецепту, в полученном `DataFrame`."
   ]
  },
  {
   "cell_type": "code",
   "execution_count": 24,
   "metadata": {},
   "outputs": [
    {
     "data": {
      "text/html": [
       "<div>\n",
       "<style scoped>\n",
       "    .dataframe tbody tr th:only-of-type {\n",
       "        vertical-align: middle;\n",
       "    }\n",
       "\n",
       "    .dataframe tbody tr th {\n",
       "        vertical-align: top;\n",
       "    }\n",
       "\n",
       "    .dataframe thead th {\n",
       "        text-align: right;\n",
       "    }\n",
       "</style>\n",
       "<table border=\"1\" class=\"dataframe\">\n",
       "  <thead>\n",
       "    <tr style=\"text-align: right;\">\n",
       "      <th></th>\n",
       "      <th>recipe_id</th>\n",
       "      <th>name</th>\n",
       "      <th>review_count</th>\n",
       "    </tr>\n",
       "  </thead>\n",
       "  <tbody>\n",
       "    <tr>\n",
       "      <th>110660</th>\n",
       "      <td>524744</td>\n",
       "      <td>Thanksgiving Piecaken</td>\n",
       "      <td>0</td>\n",
       "    </tr>\n",
       "    <tr>\n",
       "      <th>85304</th>\n",
       "      <td>3662</td>\n",
       "      <td>German Chocolate Sauerkraut Cake</td>\n",
       "      <td>0</td>\n",
       "    </tr>\n",
       "    <tr>\n",
       "      <th>9908</th>\n",
       "      <td>9054</td>\n",
       "      <td>Leftover Mashed Potato Pancakes</td>\n",
       "      <td>0</td>\n",
       "    </tr>\n",
       "    <tr>\n",
       "      <th>52497</th>\n",
       "      <td>15553</td>\n",
       "      <td>Clove And Cinnamon Tea</td>\n",
       "      <td>0</td>\n",
       "    </tr>\n",
       "    <tr>\n",
       "      <th>102425</th>\n",
       "      <td>25190</td>\n",
       "      <td>Meal In A Bowl   Noodle Soup   For 1 Double Fo...</td>\n",
       "      <td>0</td>\n",
       "    </tr>\n",
       "    <tr>\n",
       "      <th>...</th>\n",
       "      <td>...</td>\n",
       "      <td>...</td>\n",
       "      <td>...</td>\n",
       "    </tr>\n",
       "    <tr>\n",
       "      <th>29066</th>\n",
       "      <td>50719</td>\n",
       "      <td>The Sweetest Blueberry Muffins</td>\n",
       "      <td>486</td>\n",
       "    </tr>\n",
       "    <tr>\n",
       "      <th>58854</th>\n",
       "      <td>107786</td>\n",
       "      <td>Beth S Melt In Your Mouth Barbecue Ribs  Oven</td>\n",
       "      <td>591</td>\n",
       "    </tr>\n",
       "    <tr>\n",
       "      <th>69596</th>\n",
       "      <td>135350</td>\n",
       "      <td>Fannie Farmer S Classic Baked Macaroni   Cheese</td>\n",
       "      <td>674</td>\n",
       "    </tr>\n",
       "    <tr>\n",
       "      <th>46092</th>\n",
       "      <td>82102</td>\n",
       "      <td>Kittencal S Moist Cheddar Garlic Oven Fried Ch...</td>\n",
       "      <td>708</td>\n",
       "    </tr>\n",
       "    <tr>\n",
       "      <th>14826</th>\n",
       "      <td>27208</td>\n",
       "      <td>To Die For Crock Pot Roast</td>\n",
       "      <td>1382</td>\n",
       "    </tr>\n",
       "  </tbody>\n",
       "</table>\n",
       "<p>28115 rows × 3 columns</p>\n",
       "</div>"
      ],
      "text/plain": [
       "        recipe_id                                               name  \\\n",
       "110660     524744                              Thanksgiving Piecaken   \n",
       "85304        3662                   German Chocolate Sauerkraut Cake   \n",
       "9908         9054                    Leftover Mashed Potato Pancakes   \n",
       "52497       15553                             Clove And Cinnamon Tea   \n",
       "102425      25190  Meal In A Bowl   Noodle Soup   For 1 Double Fo...   \n",
       "...           ...                                                ...   \n",
       "29066       50719                     The Sweetest Blueberry Muffins   \n",
       "58854      107786      Beth S Melt In Your Mouth Barbecue Ribs  Oven   \n",
       "69596      135350    Fannie Farmer S Classic Baked Macaroni   Cheese   \n",
       "46092       82102  Kittencal S Moist Cheddar Garlic Oven Fried Ch...   \n",
       "14826       27208                         To Die For Crock Pot Roast   \n",
       "\n",
       "        review_count  \n",
       "110660             0  \n",
       "85304              0  \n",
       "9908               0  \n",
       "52497              0  \n",
       "102425             0  \n",
       "...              ...  \n",
       "29066            486  \n",
       "58854            591  \n",
       "69596            674  \n",
       "46092            708  \n",
       "14826           1382  \n",
       "\n",
       "[28115 rows x 3 columns]"
      ]
     },
     "execution_count": 24,
     "metadata": {},
     "output_type": "execute_result"
    }
   ],
   "source": [
    "connected_dataframe = pd.merge(reviews, recipes, left_on='recipe_id', right_on='id').sort_values('recipe_id')\n",
    "\n",
    "desired_columns2 = ['recipe_id', 'name', 'review_count']\n",
    "\n",
    "nulls = connected_dataframe[connected_dataframe['review'].isnull()][desired_columns2[:-1]]\n",
    "nulls['review_count'] = 0\n",
    "\n",
    "review_count = connected_dataframe.groupby('recipe_id')['review'].count().reset_index(name='review_count')\n",
    "connected_dataframe_with_review_count = pd.merge(connected_dataframe, review_count, left_on='recipe_id',\n",
    "                                                 right_on='recipe_id')\n",
    "\n",
    "connected_dataframe_with_review_count = connected_dataframe_with_review_count[desired_columns2]._append(\n",
    "    nulls).sort_values('review_count').drop_duplicates()\n",
    "connected_dataframe_with_review_count"
   ]
  },
  {
   "cell_type": "markdown",
   "metadata": {},
   "source": [
    "5.3. Выясните, рецепты, добавленные в каком году, имеют наименьший средний рейтинг?"
   ]
  },
  {
   "cell_type": "code",
   "execution_count": 25,
   "metadata": {},
   "outputs": [
    {
     "data": {
      "text/html": [
       "<div>\n",
       "<style scoped>\n",
       "    .dataframe tbody tr th:only-of-type {\n",
       "        vertical-align: middle;\n",
       "    }\n",
       "\n",
       "    .dataframe tbody tr th {\n",
       "        vertical-align: top;\n",
       "    }\n",
       "\n",
       "    .dataframe thead th {\n",
       "        text-align: right;\n",
       "    }\n",
       "</style>\n",
       "<table border=\"1\" class=\"dataframe\">\n",
       "  <thead>\n",
       "    <tr style=\"text-align: right;\">\n",
       "      <th></th>\n",
       "      <th>year_of_recipe</th>\n",
       "      <th>mean_rating</th>\n",
       "    </tr>\n",
       "  </thead>\n",
       "  <tbody>\n",
       "    <tr>\n",
       "      <th>18</th>\n",
       "      <td>2017</td>\n",
       "      <td>2.750000</td>\n",
       "    </tr>\n",
       "    <tr>\n",
       "      <th>19</th>\n",
       "      <td>2018</td>\n",
       "      <td>3.388889</td>\n",
       "    </tr>\n",
       "    <tr>\n",
       "      <th>17</th>\n",
       "      <td>2016</td>\n",
       "      <td>3.538462</td>\n",
       "    </tr>\n",
       "    <tr>\n",
       "      <th>16</th>\n",
       "      <td>2015</td>\n",
       "      <td>4.207317</td>\n",
       "    </tr>\n",
       "    <tr>\n",
       "      <th>0</th>\n",
       "      <td>1999</td>\n",
       "      <td>4.274895</td>\n",
       "    </tr>\n",
       "    <tr>\n",
       "      <th>1</th>\n",
       "      <td>2000</td>\n",
       "      <td>4.284585</td>\n",
       "    </tr>\n",
       "    <tr>\n",
       "      <th>14</th>\n",
       "      <td>2013</td>\n",
       "      <td>4.336508</td>\n",
       "    </tr>\n",
       "    <tr>\n",
       "      <th>10</th>\n",
       "      <td>2009</td>\n",
       "      <td>4.360447</td>\n",
       "    </tr>\n",
       "    <tr>\n",
       "      <th>12</th>\n",
       "      <td>2011</td>\n",
       "      <td>4.375850</td>\n",
       "    </tr>\n",
       "    <tr>\n",
       "      <th>9</th>\n",
       "      <td>2008</td>\n",
       "      <td>4.387416</td>\n",
       "    </tr>\n",
       "    <tr>\n",
       "      <th>2</th>\n",
       "      <td>2001</td>\n",
       "      <td>4.393945</td>\n",
       "    </tr>\n",
       "    <tr>\n",
       "      <th>3</th>\n",
       "      <td>2002</td>\n",
       "      <td>4.404645</td>\n",
       "    </tr>\n",
       "    <tr>\n",
       "      <th>11</th>\n",
       "      <td>2010</td>\n",
       "      <td>4.406279</td>\n",
       "    </tr>\n",
       "    <tr>\n",
       "      <th>6</th>\n",
       "      <td>2005</td>\n",
       "      <td>4.409687</td>\n",
       "    </tr>\n",
       "    <tr>\n",
       "      <th>13</th>\n",
       "      <td>2012</td>\n",
       "      <td>4.412736</td>\n",
       "    </tr>\n",
       "    <tr>\n",
       "      <th>7</th>\n",
       "      <td>2006</td>\n",
       "      <td>4.416310</td>\n",
       "    </tr>\n",
       "    <tr>\n",
       "      <th>8</th>\n",
       "      <td>2007</td>\n",
       "      <td>4.420073</td>\n",
       "    </tr>\n",
       "    <tr>\n",
       "      <th>4</th>\n",
       "      <td>2003</td>\n",
       "      <td>4.439152</td>\n",
       "    </tr>\n",
       "    <tr>\n",
       "      <th>5</th>\n",
       "      <td>2004</td>\n",
       "      <td>4.463778</td>\n",
       "    </tr>\n",
       "    <tr>\n",
       "      <th>15</th>\n",
       "      <td>2014</td>\n",
       "      <td>4.538235</td>\n",
       "    </tr>\n",
       "  </tbody>\n",
       "</table>\n",
       "</div>"
      ],
      "text/plain": [
       "    year_of_recipe  mean_rating\n",
       "18            2017     2.750000\n",
       "19            2018     3.388889\n",
       "17            2016     3.538462\n",
       "16            2015     4.207317\n",
       "0             1999     4.274895\n",
       "1             2000     4.284585\n",
       "14            2013     4.336508\n",
       "10            2009     4.360447\n",
       "12            2011     4.375850\n",
       "9             2008     4.387416\n",
       "2             2001     4.393945\n",
       "3             2002     4.404645\n",
       "11            2010     4.406279\n",
       "6             2005     4.409687\n",
       "13            2012     4.412736\n",
       "7             2006     4.416310\n",
       "8             2007     4.420073\n",
       "4             2003     4.439152\n",
       "5             2004     4.463778\n",
       "15            2014     4.538235"
      ]
     },
     "execution_count": 25,
     "metadata": {},
     "output_type": "execute_result"
    }
   ],
   "source": [
    "connected_dataframe['submitted'] = connected_dataframe['submitted'].dt.year\n",
    "mean_rating = connected_dataframe.groupby('submitted')['rating'].mean().reset_index(name='mean_rating')\n",
    "mean_rating.rename(columns={'submitted': 'year_of_recipe'}).sort_values('mean_rating')"
   ]
  },
  {
   "cell_type": "markdown",
   "metadata": {},
   "source": [
    "### Сохранение таблиц `pd.DataFrame`"
   ]
  },
  {
   "cell_type": "markdown",
   "metadata": {},
   "source": [
    "6.1 Отсортируйте таблицу в порядке убывания величины столбца `name_word_count` и сохраните результаты выполнения заданий 3.1-3.3 в csv файл. "
   ]
  },
  {
   "cell_type": "markdown",
   "metadata": {},
   "source": [
    "6.2 Воспользовавшись `pd.ExcelWriter`, cохраните результаты 5.1 и 5.2 в файл: на лист с названием `Рецепты с оценками` сохраните результаты выполнения 5.1; на лист с названием `Количество отзывов по рецептам` сохраните результаты выполнения 5.2."
   ]
  },
  {
   "cell_type": "code",
   "execution_count": 27,
   "metadata": {
    "ExecuteTime": {
     "end_time": "2024-03-19T05:46:46.310897325Z",
     "start_time": "2024-03-19T05:46:46.263810754Z"
    }
   },
   "outputs": [
    {
     "ename": "ModuleNotFoundError",
     "evalue": "No module named 'openpyxl'",
     "output_type": "error",
     "traceback": [
      "\u001B[0;31m---------------------------------------------------------------------------\u001B[0m",
      "\u001B[0;31mModuleNotFoundError\u001B[0m                       Traceback (most recent call last)",
      "Cell \u001B[0;32mIn[27], line 1\u001B[0m\n\u001B[0;32m----> 1\u001B[0m \u001B[38;5;28;01mwith\u001B[39;00m \u001B[43mpd\u001B[49m\u001B[38;5;241;43m.\u001B[39;49m\u001B[43mExcelWriter\u001B[49m\u001B[43m(\u001B[49m\u001B[38;5;124;43m\"\u001B[39;49m\u001B[38;5;124;43mpath_to_file.xlsx\u001B[39;49m\u001B[38;5;124;43m\"\u001B[39;49m\u001B[43m)\u001B[49m \u001B[38;5;28;01mas\u001B[39;00m writer:\n\u001B[1;32m      2\u001B[0m     merged\u001B[38;5;241m.\u001B[39mto_excel(writer, sheet_name\u001B[38;5;241m=\u001B[39m\u001B[38;5;124m\"\u001B[39m\u001B[38;5;124mrecipes_with_rating\u001B[39m\u001B[38;5;124m\"\u001B[39m)\n\u001B[1;32m      3\u001B[0m     connected_dataframe_with_review_count\u001B[38;5;241m.\u001B[39mto_excel(writer, sheet_name\u001B[38;5;241m=\u001B[39m\u001B[38;5;124m\"\u001B[39m\u001B[38;5;124mamount_of_reviews_on_recipes\u001B[39m\u001B[38;5;124m\"\u001B[39m)\n",
      "File \u001B[0;32m~/PycharmProjects/TODProject/.venv/lib/python3.11/site-packages/pandas/io/excel/_openpyxl.py:57\u001B[0m, in \u001B[0;36mOpenpyxlWriter.__init__\u001B[0;34m(self, path, engine, date_format, datetime_format, mode, storage_options, if_sheet_exists, engine_kwargs, **kwargs)\u001B[0m\n\u001B[1;32m     44\u001B[0m \u001B[38;5;28;01mdef\u001B[39;00m \u001B[38;5;21m__init__\u001B[39m(\n\u001B[1;32m     45\u001B[0m     \u001B[38;5;28mself\u001B[39m,\n\u001B[1;32m     46\u001B[0m     path: FilePath \u001B[38;5;241m|\u001B[39m WriteExcelBuffer \u001B[38;5;241m|\u001B[39m ExcelWriter,\n\u001B[0;32m   (...)\u001B[0m\n\u001B[1;32m     55\u001B[0m ) \u001B[38;5;241m-\u001B[39m\u001B[38;5;241m>\u001B[39m \u001B[38;5;28;01mNone\u001B[39;00m:\n\u001B[1;32m     56\u001B[0m     \u001B[38;5;66;03m# Use the openpyxl module as the Excel writer.\u001B[39;00m\n\u001B[0;32m---> 57\u001B[0m     \u001B[38;5;28;01mfrom\u001B[39;00m \u001B[38;5;21;01mopenpyxl\u001B[39;00m\u001B[38;5;21;01m.\u001B[39;00m\u001B[38;5;21;01mworkbook\u001B[39;00m \u001B[38;5;28;01mimport\u001B[39;00m Workbook\n\u001B[1;32m     59\u001B[0m     engine_kwargs \u001B[38;5;241m=\u001B[39m combine_kwargs(engine_kwargs, kwargs)\n\u001B[1;32m     61\u001B[0m     \u001B[38;5;28msuper\u001B[39m()\u001B[38;5;241m.\u001B[39m\u001B[38;5;21m__init__\u001B[39m(\n\u001B[1;32m     62\u001B[0m         path,\n\u001B[1;32m     63\u001B[0m         mode\u001B[38;5;241m=\u001B[39mmode,\n\u001B[0;32m   (...)\u001B[0m\n\u001B[1;32m     66\u001B[0m         engine_kwargs\u001B[38;5;241m=\u001B[39mengine_kwargs,\n\u001B[1;32m     67\u001B[0m     )\n",
      "\u001B[0;31mModuleNotFoundError\u001B[0m: No module named 'openpyxl'"
     ]
    }
   ],
   "source": [
    "with pd.ExcelWriter(\"path_to_file.xlsx\") as writer:\n",
    "    merged.to_excel(writer, sheet_name=\"recipes_with_rating\")\n",
    "    connected_dataframe_with_review_count.to_excel(writer, sheet_name=\"amount_of_reviews_on_recipes\")"
   ]
  },
  {
   "cell_type": "markdown",
   "metadata": {},
   "source": [
    "#### [версия 2]\n",
    "* Уточнены формулировки задач 1.1, 3.3, 4.2, 5.1, 5.2, 5.3"
   ]
  },
  {
   "cell_type": "code",
   "execution_count": null,
   "metadata": {},
   "outputs": [],
   "source": []
  }
 ],
 "metadata": {
  "kernelspec": {
   "display_name": "Python 3 (ipykernel)",
   "language": "python",
   "name": "python3"
  },
  "language_info": {
   "codemirror_mode": {
    "name": "ipython",
    "version": 3
   },
   "file_extension": ".py",
   "mimetype": "text/x-python",
   "name": "python",
   "nbconvert_exporter": "python",
   "pygments_lexer": "ipython3",
   "version": "3.11.4"
  }
 },
 "nbformat": 4,
 "nbformat_minor": 4
}
