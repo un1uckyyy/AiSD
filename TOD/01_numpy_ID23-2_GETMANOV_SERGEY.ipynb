{
 "cells": [
  {
   "cell_type": "markdown",
   "metadata": {},
   "source": [
    "# Numpy"
   ]
  },
  {
   "cell_type": "markdown",
   "metadata": {},
   "source": [
    "Материалы:\n",
    "* Макрушин С.В. \"Лекция 1: Библиотека Numpy\"\n",
    "* https://numpy.org/doc/stable/user/index.html\n",
    "* https://numpy.org/doc/stable/reference/index.html"
   ]
  },
  {
   "cell_type": "markdown",
   "metadata": {},
   "source": [
    "## Задачи для совместного разбора"
   ]
  },
  {
   "cell_type": "markdown",
   "metadata": {},
   "source": [
    "1. Сгенерировать двухмерный массив `arr` размерности (4, 7), состоящий из случайных действительных чисел, равномерно распределенных в диапазоне от 0 до 20. Нормализовать значения массива с помощью преобразования вида  $𝑎𝑥+𝑏$  так, что после нормализации максимальный элемент масcива будет равен 1.0, минимальный 0.0"
   ]
  },
  {
   "cell_type": "code",
   "execution_count": 2,
   "metadata": {
    "ExecuteTime": {
     "end_time": "2024-03-19T05:21:16.455959989Z",
     "start_time": "2024-03-19T05:21:16.230211548Z"
    }
   },
   "outputs": [
    {
     "name": "stdout",
     "output_type": "stream",
     "text": [
      "[0.         0.03703704 0.07407407 0.11111111 0.14814815 0.18518519\n",
      " 0.22222222 0.25925926 0.2962963  0.33333333 0.37037037 0.40740741\n",
      " 0.44444444 0.48148148 0.51851852 0.55555556 0.59259259 0.62962963\n",
      " 0.66666667 0.7037037  0.74074074 0.77777778 0.81481481 0.85185185\n",
      " 0.88888889 0.92592593 0.96296296 1.        ]\n",
      "-------------------------------------------------------------------------\n",
      "[ 0.          0.74074074  1.48148148  2.22222222  2.96296296  3.7037037\n",
      "  4.44444444  5.18518519  5.92592593  6.66666667  7.40740741  8.14814815\n",
      "  8.88888889  9.62962963 10.37037037 11.11111111 11.85185185 12.59259259\n",
      " 13.33333333 14.07407407 14.81481481 15.55555556 16.2962963  17.03703704\n",
      " 17.77777778 18.51851852 19.25925926 20.        ]\n"
     ]
    }
   ],
   "source": [
    "import numpy as np\n",
    "arr = np.linspace(0, 20, 28)\n",
    "arr.reshape(4,7)\n",
    "\n",
    "min_arr = arr[0]\n",
    "max_arr = arr[-1]\n",
    "\n",
    "normal_arr = (arr - min_arr) / (max_arr - min_arr)\n",
    "\n",
    "print(normal_arr)\n",
    "print('-' * 73)\n",
    "print(arr)"
   ]
  },
  {
   "cell_type": "markdown",
   "metadata": {},
   "source": [
    "2. Создать матрицу 8 на 10 из случайных целых (используя модуль `numpy.random`) чисел из диапозона от 0 до 10 и найти в ней строку (ее индекс и вывести саму строку), в которой сумма значений минимальна."
   ]
  },
  {
   "cell_type": "code",
   "execution_count": 9,
   "metadata": {
    "ExecuteTime": {
     "end_time": "2024-03-19T05:28:38.047887074Z",
     "start_time": "2024-03-19T05:28:38.043575065Z"
    }
   },
   "outputs": [
    {
     "name": "stdout",
     "output_type": "stream",
     "text": [
      "[[1 8 1 0 4 3 6 3 3 0]\n",
      " [0 8 9 8 7 6 4 4 2 4]\n",
      " [0 1 4 2 5 9 9 6 1 9]\n",
      " [2 6 1 4 2 4 8 1 0 1]\n",
      " [3 9 1 8 4 4 9 6 4 0]\n",
      " [3 7 2 1 2 5 3 9 9 0]\n",
      " [0 6 8 9 4 0 2 5 5 4]\n",
      " [0 2 3 4 8 6 8 6 1 1]]\n",
      "[0 8 9 8 7 6 4 4 2 4] [29, 52, 46, 29, 48, 41, 43, 39]\n"
     ]
    }
   ],
   "source": [
    "random_matrix = np.random.randint(0, 10, 80, dtype = int).reshape(8, 10)\n",
    "\n",
    "\n",
    "sums = random_matrix.sum(axis = 1)\n",
    "\n",
    "ind = list(sums).index(max(sums))\n",
    "\n",
    "\n",
    "print(random_matrix)\n",
    "\n",
    "print(random_matrix[ind], list(sums))\n"
   ]
  },
  {
   "cell_type": "markdown",
   "metadata": {},
   "source": [
    "3. Найти евклидово расстояние между двумя одномерными векторами одинаковой размерности."
   ]
  },
  {
   "cell_type": "code",
   "execution_count": 12,
   "metadata": {},
   "outputs": [
    {
     "name": "stdout",
     "output_type": "stream",
     "text": [
      "[447 323 720] [730 810 616] 572.7774436899554 "
     ]
    }
   ],
   "source": [
    "dot1 = np.random.randint(0,1000, 3)\n",
    "dot2 = np.random.randint(0,1000, 3)\n",
    "\n",
    "evkl = np.linalg.norm(dot1 - dot2)\n",
    "\n",
    "print(dot1, dot2, evkl, end = ' ')"
   ]
  },
  {
   "cell_type": "markdown",
   "metadata": {},
   "source": [
    "4. Решить матричное уравнение `A*X*B=-C` - найти матрицу `X`. Где `A = [[-1, 2, 4], [-3, 1, 2], [-3, 0, 1]]`, `B=[[3, -1], [2, 1]]`, `C=[[7, 21], [11, 8], [8, 4]]`."
   ]
  },
  {
   "cell_type": "code",
   "execution_count": 10,
   "metadata": {
    "ExecuteTime": {
     "end_time": "2024-03-19T05:28:57.552277664Z",
     "start_time": "2024-03-19T05:28:57.506170199Z"
    }
   },
   "outputs": [
    {
     "name": "stdout",
     "output_type": "stream",
     "text": [
      "[[ 1.00000000e+00  5.32907052e-16]\n",
      " [-2.00000000e+00  1.00000000e+00]\n",
      " [ 3.00000000e+00 -4.00000000e+00]]\n"
     ]
    }
   ],
   "source": [
    "matrix_A = np.array([[-1, 2, 4], [-3, 1, 2], [-3, 0, 1]])\n",
    "matrix_B = np.array([[3, -1], [2, 1]])\n",
    "matrix_C = np.array([[7, 21], [11, 8], [8, 4]])\n",
    "\n",
    "inv_matrix_A = np.linalg.inv(matrix_A)\n",
    "inv_matrix_B = np.linalg.inv(matrix_B)\n",
    "\n",
    "\n",
    "matrix_X = inv_matrix_A @ (matrix_C * -1) @ inv_matrix_B\n",
    "print(matrix_X.astype('float'))"
   ]
  },
  {
   "cell_type": "markdown",
   "metadata": {},
   "source": [
    "## Лабораторная работа №1"
   ]
  },
  {
   "cell_type": "markdown",
   "metadata": {},
   "source": [
    "Замечание: при решении данных задач не подразумевается использования циклов или генераторов Python, если в задании не сказано обратного. Решение должно опираться на использования функционала библиотеки `numpy`."
   ]
  },
  {
   "cell_type": "markdown",
   "metadata": {},
   "source": [
    "1. Файл `minutes_n_ingredients.csv` содержит информацию об идентификаторе рецепта, времени его выполнения в минутах и количестве необходимых ингредиентов. Считайте данные из этого файла в виде массива `numpy` типа `int32`, используя `np.loadtxt`. Выведите на экран первые 5 строк массива."
   ]
  },
  {
   "cell_type": "code",
   "execution_count": 12,
   "metadata": {
    "ExecuteTime": {
     "end_time": "2024-03-19T05:30:58.107979994Z",
     "start_time": "2024-03-19T05:30:57.896563479Z"
    }
   },
   "outputs": [
    {
     "name": "stdout",
     "output_type": "stream",
     "text": [
      "['id' 'minutes' 'n_ingredients']\n",
      "[[127244     60     16]\n",
      " [ 23891     25      7]\n",
      " [ 94746     10      6]\n",
      " [ 67660      5      6]]\n"
     ]
    }
   ],
   "source": [
    "full_array = np.loadtxt('minutes_n_ingredients.csv', delimiter = ',', dtype = 'str')\n",
    "header, inner = full_array[0], full_array[1:].astype('int32')\n",
    "header.reshape(1, 3)\n",
    "print(f'{header}\\n{inner[:4]}')"
   ]
  },
  {
   "cell_type": "markdown",
   "metadata": {},
   "source": [
    "2. Вычислите среднее значение, минимум, максимум и медиану по каждому из столбцов, кроме первого."
   ]
  },
  {
   "cell_type": "code",
   "execution_count": 17,
   "metadata": {
    "ExecuteTime": {
     "end_time": "2024-03-19T05:33:15.048049703Z",
     "start_time": "2024-03-19T05:33:15.006030407Z"
    }
   },
   "outputs": [
    {
     "name": "stdout",
     "output_type": "stream",
     "text": [
      "avg:[[2.22064324e+05]\n",
      " [2.16010017e+04]\n",
      " [9.05528000e+00]]\n",
      "min:[[38]\n",
      " [ 0]\n",
      " [ 1]]\n",
      "max:[[    537671]\n",
      " [2147483647]\n",
      " [        39]]\n",
      "med:[[2.071935e+05]\n",
      " [4.000000e+01]\n",
      " [9.000000e+00]]\n"
     ]
    }
   ],
   "source": [
    "average = np.array(inner.sum(axis = 0) / np.shape(inner)[0]).reshape(np.shape(inner)[1], 1).astype('float')\n",
    "\n",
    "minimum = np.array([np.min(inner[:,0]), np.min(inner[:,1]), np.min(inner[:,2])]).reshape(np.shape(inner)[1], 1).astype('int')\n",
    "\n",
    "maximum = np.array([np.max(inner[:,0]), np.max(inner[:,1]), np.max(inner[:,2])]).reshape(np.shape(inner)[1], 1).astype('int')\n",
    "\n",
    "mediana = np.array([np.median(inner[:,0]),np.median(inner[:,1]),np.median(inner[:,2])]).reshape(np.shape(inner)[1], 1).astype('float')\n",
    "print(f'''avg:{average}\n",
    "min:{minimum}\n",
    "max:{maximum}\n",
    "med:{mediana}''')\n",
    "\n"
   ]
  },
  {
   "cell_type": "markdown",
   "metadata": {},
   "source": [
    "3. Ограничьте сверху значения продолжительности выполнения рецепта значением квантиля $q_{0.75}$. "
   ]
  },
  {
   "cell_type": "code",
   "execution_count": 18,
   "metadata": {
    "ExecuteTime": {
     "end_time": "2024-03-19T05:33:22.407131885Z",
     "start_time": "2024-03-19T05:33:22.400795351Z"
    }
   },
   "outputs": [
    {
     "name": "stdout",
     "output_type": "stream",
     "text": [
      "[[ 94746     10      6]\n",
      " [ 67660      5      6]\n",
      " [366174      7      9]\n",
      " ...\n",
      " [420725      5      3]\n",
      " [  4747      0      9]\n",
      " [370915      5      4]]\n"
     ]
    }
   ],
   "source": [
    "print(inner[inner[:, 1] <= np.quantile(inner[:, 2], 0.75)])"
   ]
  },
  {
   "cell_type": "markdown",
   "metadata": {},
   "source": [
    "4. Посчитайте, для скольких рецептов указана продолжительность, равная нулю. Замените для таких строк значение в данном столбце на 1."
   ]
  },
  {
   "cell_type": "code",
   "execution_count": 19,
   "metadata": {
    "ExecuteTime": {
     "end_time": "2024-03-19T05:33:40.011684402Z",
     "start_time": "2024-03-19T05:33:40.003316009Z"
    }
   },
   "outputs": [
    {
     "name": "stdout",
     "output_type": "stream",
     "text": [
      "479\n"
     ]
    },
    {
     "data": {
      "text/plain": "0"
     },
     "execution_count": 19,
     "metadata": {},
     "output_type": "execute_result"
    }
   ],
   "source": [
    "from copy import copy\n",
    "\n",
    "print(np.count_nonzero(inner[:,1] == 0))\n",
    "\n",
    "inner_without_zeros = copy(inner)\n",
    "\n",
    "inner_without_zeros[inner_without_zeros == 0] = 1\n",
    "\n",
    "np.count_nonzero(inner_without_zeros[:,1] == 0)"
   ]
  },
  {
   "cell_type": "markdown",
   "metadata": {},
   "source": [
    "5. Посчитайте, сколько уникальных рецептов находится в датасете."
   ]
  },
  {
   "cell_type": "code",
   "execution_count": 20,
   "metadata": {
    "ExecuteTime": {
     "end_time": "2024-03-19T05:34:00.520003873Z",
     "start_time": "2024-03-19T05:34:00.476345582Z"
    }
   },
   "outputs": [
    {
     "data": {
      "text/plain": "33515"
     },
     "execution_count": 20,
     "metadata": {},
     "output_type": "execute_result"
    }
   ],
   "source": [
    "int(len(np.unique(inner)) / 3)"
   ]
  },
  {
   "cell_type": "markdown",
   "metadata": {},
   "source": [
    "6. Сколько и каких различных значений кол-ва ингредиентов присутвует в рецептах из датасета?"
   ]
  },
  {
   "cell_type": "code",
   "execution_count": 21,
   "metadata": {
    "ExecuteTime": {
     "end_time": "2024-03-19T05:34:28.711322985Z",
     "start_time": "2024-03-19T05:34:28.698649289Z"
    }
   },
   "outputs": [
    {
     "name": "stdout",
     "output_type": "stream",
     "text": [
      "37\n",
      "[ 1  2  3  4  5  6  7  8  9 10 11 12 13 14 15 16 17 18 19 20 21 22 23 24\n",
      " 25 26 27 28 29 30 31 32 33 34 35 37 39]\n"
     ]
    }
   ],
   "source": [
    "print(f'''{len(np.unique(inner[:,2]))}\n",
    "{np.unique(inner[:,2])}''')"
   ]
  },
  {
   "cell_type": "markdown",
   "metadata": {},
   "source": [
    "7. Создайте версию массива, содержащую информацию только о рецептах, состоящих не более чем из 5 ингредиентов."
   ]
  },
  {
   "cell_type": "code",
   "execution_count": 22,
   "metadata": {
    "ExecuteTime": {
     "end_time": "2024-03-19T05:34:35.013981641Z",
     "start_time": "2024-03-19T05:34:35.008138545Z"
    }
   },
   "outputs": [
    {
     "name": "stdout",
     "output_type": "stream",
     "text": [
      "[[446597     15      5]\n",
      " [204134      5      3]\n",
      " [ 25623      6      4]\n",
      " ...\n",
      " [ 52088     60      5]\n",
      " [128811     15      4]\n",
      " [370915      5      4]]\n"
     ]
    }
   ],
   "source": [
    "corrected_inner = copy(inner)\n",
    "print(corrected_inner[corrected_inner[:,2] <= 5])"
   ]
  },
  {
   "cell_type": "markdown",
   "metadata": {},
   "source": [
    "8. Для каждого рецепта посчитайте, сколько в среднем ингредиентов приходится на одну минуту рецепта. Найдите максимальное значение этой величины для всего датасета"
   ]
  },
  {
   "cell_type": "code",
   "execution_count": 23,
   "metadata": {
    "ExecuteTime": {
     "end_time": "2024-03-19T05:34:50.616366478Z",
     "start_time": "2024-03-19T05:34:50.482784316Z"
    }
   },
   "outputs": [
    {
     "name": "stdout",
     "output_type": "stream",
     "text": [
      "[['127244.0' '0.26666666666666666']\n",
      " ['23891.0' '0.28']\n",
      " ['94746.0' '0.6']\n",
      " ...\n",
      " ['498432.0' '0.23076923076923078']\n",
      " ['370915.0' '0.8']\n",
      " ['81993.0' '0.1']]\n"
     ]
    }
   ],
   "source": [
    "non_zeros = inner[inner[:, 1] != 0]\n",
    "\n",
    "ids = non_zeros[:, 0].reshape(-1, 1)\n",
    "\n",
    "average_col = (non_zeros[:, 2] / non_zeros[:, 1]).reshape(-1, 1)\n",
    "\n",
    "print(np.column_stack([ids, average_col]).astype('str'))"
   ]
  },
  {
   "cell_type": "markdown",
   "metadata": {},
   "source": [
    "9. Вычислите среднее количество ингредиентов для топ-100 рецептов с наибольшей продолжительностью"
   ]
  },
  {
   "cell_type": "code",
   "execution_count": 24,
   "metadata": {
    "ExecuteTime": {
     "end_time": "2024-03-19T05:34:58.695736913Z",
     "start_time": "2024-03-19T05:34:58.669929579Z"
    }
   },
   "outputs": [
    {
     "name": "stdout",
     "output_type": "stream",
     "text": [
      "[[    261647 2147483647          8]\n",
      " [    216215     259260          7]\n",
      " [    425681     259205          2]\n",
      " [     98912     216015          4]\n",
      " [     70551     201610          7]\n",
      " [    236340     146880          5]\n",
      " [    242032     132495          3]\n",
      " [    184528     129620          3]\n",
      " [    236274     129615          5]\n",
      " [    236281     129615          5]\n",
      " [     13264     115230          4]\n",
      " [    105417      86405          2]\n",
      " [     41403      86400          4]\n",
      " [     34175      86400          3]\n",
      " [    142936      86400          9]\n",
      " [     93063      86400          2]\n",
      " [     42247      69120          2]\n",
      " [    255611      64815          3]\n",
      " [    140344      60555          3]\n",
      " [    101082      60540          7]\n",
      " [     46288      50405          5]\n",
      " [    246196      44655          4]\n",
      " [     30845      44645          3]\n",
      " [    344480      43380         22]\n",
      " [    102098      43380          4]\n",
      " [    254782      43250         15]\n",
      " [    209590      43230          8]\n",
      " [    200097      43205          3]\n",
      " [    414465      43202          2]\n",
      " [     40993      43200          5]\n",
      " [    295914      43200          9]\n",
      " [    326069      43200          3]\n",
      " [     72203      43200          3]\n",
      " [    346169      43200         17]\n",
      " [    285910      41775          7]\n",
      " [     64709      40325          3]\n",
      " [    109063      36015          8]\n",
      " [    137027      34570          4]\n",
      " [    288653      34570          6]\n",
      " [    144367      34570          5]\n",
      " [    191140      30270          5]\n",
      " [     90536      30270          6]\n",
      " [     37202      30270          4]\n",
      " [    187480      30255          2]\n",
      " [    133994      30255          8]\n",
      " [    310374      30240          6]\n",
      " [    108917      28810          8]\n",
      " [    104976      28810          6]\n",
      " [    186746      26100          8]\n",
      " [    315022      23050          3]\n",
      " [    183432      21690          4]\n",
      " [    401460      21600          4]\n",
      " [    348132      21600         10]\n",
      " [    179670      20340         12]\n",
      " [    477929      20340         11]\n",
      " [     46390      20280         11]\n",
      " [     49738      20190          5]\n",
      " [    121433      20190          4]\n",
      " [    340621      20190          4]\n",
      " [    406267      20175          9]\n",
      " [    129227      20175         10]\n",
      " [    246663      20175          7]\n",
      " [    208298      20175         12]\n",
      " [    291096      20170          5]\n",
      " [    246355      20165          9]\n",
      " [    246348      20165          6]\n",
      " [    124818      20163          3]\n",
      " [    251532      20161          6]\n",
      " [    117582      20160          9]\n",
      " [     72355      20160          2]\n",
      " [    441587      20160          4]\n",
      " [     81105      20160         13]\n",
      " [     24478      20160          3]\n",
      " [     17490      20160          6]\n",
      " [     10004      18725          5]\n",
      " [     72549      18720         13]\n",
      " [     13904      17310          8]\n",
      " [     30101      15900          5]\n",
      " [    443929      15880          5]\n",
      " [    197469      14460         13]\n",
      " [    233539      14460         10]\n",
      " [     26995      14450         17]\n",
      " [    266032      14430          8]\n",
      " [    269245      14425          5]\n",
      " [    453387      14420          8]\n",
      " [    230796      14420          8]\n",
      " [     64793      14405          3]\n",
      " [    298229      11565          8]\n",
      " [    164029      11550         14]\n",
      " [    116809      11521          3]\n",
      " [    106876      11520          8]\n",
      " [     57721      10440         12]\n",
      " [     55411      10320          8]\n",
      " [    258854      10320         13]\n",
      " [    199925      10140          7]\n",
      " [    417539      10110          6]\n",
      " [    369728      10110          7]\n",
      " [     89339      10105          8]\n",
      " [    252450      10100          4]\n",
      " [    116645      10095          6]]\n"
     ]
    }
   ],
   "source": [
    "print(inner[inner[:, 1].argsort()][::-1][:100])"
   ]
  },
  {
   "cell_type": "markdown",
   "metadata": {},
   "source": [
    "10. Выберите случайным образом и выведите информацию о 10 различных рецептах\n",
    "\n",
    "11. Выведите процент рецептов, кол-во ингредиентов в которых меньше среднего."
   ]
  },
  {
   "cell_type": "code",
   "execution_count": 25,
   "metadata": {
    "scrolled": true,
    "ExecuteTime": {
     "end_time": "2024-03-19T05:35:02.491511985Z",
     "start_time": "2024-03-19T05:35:02.487808041Z"
    }
   },
   "outputs": [
    {
     "name": "stdout",
     "output_type": "stream",
     "text": [
      "[[446451     40     12]\n",
      " [445511     30      8]\n",
      " [176347     20      9]\n",
      " [171687     35     14]\n",
      " [439218     90     12]\n",
      " [428922     15      8]\n",
      " [ 63271     14     16]\n",
      " [522575     25      9]\n",
      " [168881     15      8]\n",
      " [ 60982    135     12]]\n"
     ]
    }
   ],
   "source": [
    "random_indexes = np.random.randint(0, len(inner), 10)\n",
    "print(inner[random_indexes])"
   ]
  },
  {
   "cell_type": "code",
   "execution_count": 26,
   "metadata": {
    "scrolled": true,
    "ExecuteTime": {
     "end_time": "2024-03-19T05:35:46.076544811Z",
     "start_time": "2024-03-19T05:35:46.030096569Z"
    }
   },
   "outputs": [
    {
     "data": {
      "text/plain": "58.802"
     },
     "execution_count": 26,
     "metadata": {},
     "output_type": "execute_result"
    }
   ],
   "source": [
    "(inner[inner[:, 2] < np.mean(inner[:, 2])].size / inner.size) * 100"
   ]
  },
  {
   "cell_type": "markdown",
   "metadata": {},
   "source": [
    "12. Назовем \"простым\" такой рецепт, длительность выполнения которого не больше 20 минут и кол-во ингредиентов в котором не больше 5. Создайте версию датасета с дополнительным столбцом, значениями которого являются 1, если рецепт простой, и 0 в противном случае."
   ]
  },
  {
   "cell_type": "code",
   "execution_count": 27,
   "metadata": {
    "ExecuteTime": {
     "end_time": "2024-03-19T05:35:48.143533079Z",
     "start_time": "2024-03-19T05:35:48.133370896Z"
    }
   },
   "outputs": [
    {
     "name": "stdout",
     "output_type": "stream",
     "text": [
      "[[127244     60     16      0]\n",
      " [ 23891     25      7      0]\n",
      " [ 94746     10      6      0]\n",
      " ...\n",
      " [498432     65     15      0]\n",
      " [370915      5      4      1]\n",
      " [ 81993    140     14      0]]\n"
     ]
    }
   ],
   "source": [
    "simple_inner = np.array((inner[:, 1] <= 20) & (inner[:, 2] <= 5)).reshape(-1,1).astype('int')\n",
    "print(np.column_stack([inner, simple_inner]))"
   ]
  },
  {
   "cell_type": "markdown",
   "metadata": {},
   "source": [
    "13. Выведите процент \"простых\" рецептов в датасете"
   ]
  },
  {
   "cell_type": "code",
   "execution_count": 28,
   "metadata": {
    "ExecuteTime": {
     "end_time": "2024-03-19T05:35:54.278270866Z",
     "start_time": "2024-03-19T05:35:54.273019004Z"
    }
   },
   "outputs": [
    {
     "name": "stdout",
     "output_type": "stream",
     "text": [
      "10.56 %\n"
     ]
    }
   ],
   "source": [
    "print(f'{round((simple_inner[simple_inner == 1].size / simple_inner[simple_inner == 0].size) * 100, 2)} %')"
   ]
  },
  {
   "cell_type": "markdown",
   "metadata": {},
   "source": [
    "14. Разделим рецепты на группы по следующему правилу. Назовем рецепты короткими, если их продолжительность составляет менее 10 минут; стандартными, если их продолжительность составляет более 10, но менее 20 минут; и длинными, если их продолжительность составляет не менее 20 минут. Создайте трехмерный массив, где нулевая ось отвечает за номер группы (короткий, стандартный или длинный рецепт), первая ось - за сам рецепт и вторая ось - за характеристики рецепта. Выберите максимальное количество рецептов из каждой группы таким образом, чтобы было возможно сформировать трехмерный массив. Выведите форму полученного массива."
   ]
  },
  {
   "cell_type": "code",
   "execution_count": null,
   "metadata": {},
   "outputs": [],
   "source": []
  }
 ],
 "metadata": {
  "kernelspec": {
   "display_name": "Python 3 (ipykernel)",
   "language": "python",
   "name": "python3"
  },
  "language_info": {
   "codemirror_mode": {
    "name": "ipython",
    "version": 3
   },
   "file_extension": ".py",
   "mimetype": "text/x-python",
   "name": "python",
   "nbconvert_exporter": "python",
   "pygments_lexer": "ipython3",
   "version": "3.11.4"
  }
 },
 "nbformat": 4,
 "nbformat_minor": 4
}
