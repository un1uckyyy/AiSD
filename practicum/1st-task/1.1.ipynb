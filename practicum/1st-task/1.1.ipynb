{
 "cells": [
  {
   "cell_type": "code",
   "execution_count": null,
   "id": "36472d23",
   "metadata": {},
   "outputs": [],
   "source": [
    "import random\n",
    "\n",
    "nums = [i for i in range(10)]\n",
    "random_number = ''.join([str(nums.pop(nums.index(random.choice(nums)))) for _ in range(4)])\n",
    "\n",
    "bull_sklonenie = {0: 'быков', 1: 'бык', 2: 'быка', 3: 'быка', 4: 'быка',\n",
    "                  5: 'быков', 6: 'быков', 7: 'быков', 8: 'быков', 9: 'быков'}\n",
    "cow_sklonenie = {0: 'коров', 1: 'корова', 2: 'коровы', 3: 'коровы', 4: 'коровы',\n",
    "                 5: 'коров', 6: 'коров', 7: 'коров', 8: 'коров', 9: 'коров'}\n",
    "\n",
    "while True:\n",
    "    number = input('Введите четырехзначное число: ')\n",
    "    if not(number.isdigit() and len(number) == 4):\n",
    "        print('Неправильный ввод!')\n",
    "        continue\n",
    "    if number == random_number:\n",
    "        print('Угадали!', random_number)\n",
    "        break\n",
    "    cows = 0\n",
    "    bulls = 0\n",
    "    for i in range(len(number)):\n",
    "        if number[i] == random_number[i]:\n",
    "            bulls += 1\n",
    "        elif number[i] in random_number:\n",
    "            cows += 1\n",
    "    print('Не угадали!')\n",
    "    print(f'{cows} {cow_sklonenie[cows]}, {bulls} {bull_sklonenie[bulls]}')\n",
    "\n",
    "input('Нажмите Enter для выхода\\n')\n"
   ]
  }
 ],
 "metadata": {
  "kernelspec": {
   "display_name": "Python 3 (ipykernel)",
   "language": "python",
   "name": "python3"
  },
  "language_info": {
   "codemirror_mode": {
    "name": "ipython",
    "version": 3
   },
   "file_extension": ".py",
   "mimetype": "text/x-python",
   "name": "python",
   "nbconvert_exporter": "python",
   "pygments_lexer": "ipython3",
   "version": "3.11.4"
  }
 },
 "nbformat": 4,
 "nbformat_minor": 5
}
