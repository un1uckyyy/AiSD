{
 "cells": [
  {
   "cell_type": "code",
   "execution_count": 81,
   "outputs": [
    {
     "name": "stdout",
     "output_type": "stream",
     "text": [
      "57\n"
     ]
    }
   ],
   "source": [
    "#imports\n",
    "from table_operations.csv_funcs import *\n",
    "from table_operations.pickle_funcs import *\n",
    "from table_operations.txt_funcs import *\n",
    "from table_operations.table_funcs import *"
   ],
   "metadata": {
    "collapsed": false,
    "ExecuteTime": {
     "end_time": "2023-12-12T14:32:20.779111800Z",
     "start_time": "2023-12-12T14:32:20.764072500Z"
    }
   },
   "id": "7f0cb4c8cf7950ee"
  },
  {
   "cell_type": "code",
   "execution_count": 197,
   "outputs": [
    {
     "name": "stdout",
     "output_type": "stream",
     "text": [
      "{'id': '2', 'isTrue': 'True'}\n"
     ]
    }
   ],
   "source": [
    "#load/save_table_csv\n",
    "save_table_csv(Table([{\"id\": 2, \"isTrue\": True}, {\"id\": 22, \"isTrue\": False}, {\"id\": 3, \"isTrue\": True}]), \"table2.csv\")\n",
    "t = load_table_csv(\"table2.csv\")\n",
    "print(t[0])"
   ],
   "metadata": {
    "collapsed": false,
    "ExecuteTime": {
     "end_time": "2023-12-12T21:36:52.291326100Z",
     "start_time": "2023-12-12T21:36:52.243772300Z"
    }
   },
   "id": "f321e81fcccb34a8"
  },
  {
   "cell_type": "code",
   "execution_count": 216,
   "outputs": [
    {
     "name": "stdout",
     "output_type": "stream",
     "text": [
      "id|isTrue\n",
      "—————————\n",
      "2 | True \n",
      "22|False \n",
      "3 | True \n"
     ]
    }
   ],
   "source": [
    "#load/save_table_pickle\n",
    "save_table_pickle(Table([{\"id\": 2, \"isTrue\": True}, {\"id\": 22, \"isTrue\": False}, {\"id\": 3, \"isTrue\": True}]),\n",
    "                  \"table2.pickle\")\n",
    "t = load_table_pickle(\"table2.pickle\")\n",
    "print(t)"
   ],
   "metadata": {
    "collapsed": false,
    "ExecuteTime": {
     "end_time": "2023-12-12T22:01:09.537439800Z",
     "start_time": "2023-12-12T22:01:09.505891Z"
    }
   },
   "id": "ea0285c085e973b7"
  },
  {
   "cell_type": "code",
   "execution_count": 217,
   "outputs": [],
   "source": [
    "#save_table_txt\n",
    "table = load_table_csv(\"table1.csv\")\n",
    "save_table_txt(table, \"file.txt\")"
   ],
   "metadata": {
    "collapsed": false,
    "ExecuteTime": {
     "end_time": "2023-12-12T22:02:26.465329500Z",
     "start_time": "2023-12-12T22:02:26.439784300Z"
    }
   },
   "id": "e5ff756335576953"
  },
  {
   "cell_type": "code",
   "execution_count": 200,
   "outputs": [
    {
     "name": "stdout",
     "output_type": "stream",
     "text": [
      "id|first_name|age\n",
      "1 |  masha   | 18\n",
      "2 |  petya   | 19\n",
      "3 |  vanya   | 22\n",
      "4 |    an    | 23\n",
      "5 |   ser    | 18\n",
      "\n",
      "id|first_name|age\n",
      "1 |  masha   | 18\n",
      "2 |  petya   | 19\n",
      "3 |  vanya   | 22\n",
      "\n",
      "id|first_name|age\n",
      "1 |  masha   | 18\n",
      "2 |  petya   | 19\n",
      "3 |  vanya   | 22\n"
     ]
    }
   ],
   "source": [
    "#get_rows_by_number\n",
    "\n",
    "table = load_table_csv(\"table1.csv\")\n",
    "print(table)\n",
    "new_table = get_rows_by_number(table, 1, 3, copy_table=False)\n",
    "print(table)\n",
    "print(new_table)"
   ],
   "metadata": {
    "collapsed": false,
    "ExecuteTime": {
     "end_time": "2023-12-12T21:39:13.987604400Z",
     "start_time": "2023-12-12T21:39:13.956146800Z"
    }
   },
   "id": "f721a1568297ee54"
  },
  {
   "cell_type": "code",
   "execution_count": 189,
   "outputs": [],
   "source": [
    "#get_rows_by_index\n",
    "table = load_table_csv(\"table1.csv\")\n",
    "print(table)\n",
    "get_rows_by_index(table, '1', '3', '5', copy_table=False)\n",
    "print(table)"
   ],
   "metadata": {
    "collapsed": false,
    "ExecuteTime": {
     "end_time": "2023-12-12T21:19:55.926022100Z",
     "start_time": "2023-12-12T21:19:55.898368800Z"
    }
   },
   "id": "35599644c2dfe02d"
  },
  {
   "cell_type": "code",
   "execution_count": 210,
   "outputs": [
    {
     "name": "stdout",
     "output_type": "stream",
     "text": [
      "{'id': <class 'int'>, 'isTrue': <class 'bool'>}\n"
     ]
    }
   ],
   "source": [
    "#get_column_types\n",
    "d = get_column_types(Table([{\"id\": 2, \"isTrue\": True}, {\"id\": 22, \"isTrue\": False}, {\"id\": 3, \"isTrue\": True}]),\n",
    "                     by_number=False)\n",
    "print(d)"
   ],
   "metadata": {
    "collapsed": false,
    "ExecuteTime": {
     "end_time": "2023-12-12T21:47:56.170632600Z",
     "start_time": "2023-12-12T21:47:56.123756200Z"
    }
   },
   "id": "4d8c8f097ed465cc"
  },
  {
   "cell_type": "code",
   "execution_count": 302,
   "outputs": [
    {
     "name": "stdout",
     "output_type": "stream",
     "text": [
      "{0: <class 'int'>, 1: <class 'bool'>}\n",
      "[2, 22, 3]\n",
      "[False, False, True]\n"
     ]
    }
   ],
   "source": [
    "#set_column_types\n",
    "table = Table([{\"id\": \"2\", \"isTrue\": \"\"}, {\"id\": \"22\", \"isTrue\": False}, {\"id\": \"3\", \"isTrue\": True}])\n",
    "# get_values\n",
    "set_column_types(table, {\"id\": int, \"isTrue\": bool}, by_number=False)\n",
    "print(table.column_types)\n",
    "data1 = get_values(table)\n",
    "data2 = get_values(table, column=\"isTrue\")\n",
    "print(data1)\n",
    "print(data2)"
   ],
   "metadata": {
    "collapsed": false,
    "ExecuteTime": {
     "end_time": "2023-12-12T22:47:32.348461500Z",
     "start_time": "2023-12-12T22:47:32.332087800Z"
    }
   },
   "id": "84e8bf14051894a8"
  },
  {
   "cell_type": "code",
   "execution_count": 316,
   "outputs": [
    {
     "name": "stdout",
     "output_type": "stream",
     "text": [
      "1|3\n",
      "---\n",
      "2|4\n",
      "\n",
      "2\n"
     ]
    }
   ],
   "source": [
    "#get_value\n",
    "table = Table([{'1': 2, '3': 4}])\n",
    "print(table)\n",
    "set_column_types(table, {0: int, 1: int})\n",
    "print(get_value(table, column='1'))\n"
   ],
   "metadata": {
    "collapsed": false,
    "ExecuteTime": {
     "end_time": "2023-12-12T22:56:51.026009500Z",
     "start_time": "2023-12-12T22:56:51.010359500Z"
    }
   },
   "id": "5e3dc141b7a9dd79"
  }
 ],
 "metadata": {
  "kernelspec": {
   "display_name": "Python 3",
   "language": "python",
   "name": "python3"
  },
  "language_info": {
   "codemirror_mode": {
    "name": "ipython",
    "version": 2
   },
   "file_extension": ".py",
   "mimetype": "text/x-python",
   "name": "python",
   "nbconvert_exporter": "python",
   "pygments_lexer": "ipython2",
   "version": "2.7.6"
  }
 },
 "nbformat": 4,
 "nbformat_minor": 5
}
